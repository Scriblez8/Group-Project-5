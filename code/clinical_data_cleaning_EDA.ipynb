{
 "cells": [
  {
   "cell_type": "markdown",
   "metadata": {},
   "source": [
    "# 01: Data Import, Cleaning, and EDA for Interpretable Analysis of Symptoms"
   ]
  },
  {
   "cell_type": "markdown",
   "metadata": {},
   "source": [
    "### Notebook Overview\n",
    "In this notebook, we'll systematically work through the features in our dataset to prepare for modeling.\n",
    "\n",
    "* [Section A: Data Import](#import)\n",
    "* [Section B: Cleaning and EDA](#clean)\n",
    "    * [Section B.1: Target Variable and Methodology](#b1)\n",
    "    * [Patient reported features (able to be collected prior to interaction with patient)](#patient)\n",
    "        * [Section B.2: Epidemiological Factors](#b2)\n",
    "        * [Section B.3: Comorbidities](#b3)\n",
    "        * [Section B.4: Patient Reported Symptoms](#b4)\n",
    "    * [Clinically collected/assessed features (require availability of resources or interaction with patient)](#clinic)\n",
    "        * [Section B.5: Vitals](#b5)\n",
    "        * [Section B.6: Clinician Assessed Symptoms](#b6)\n",
    "        * [Section B.7: Lab Results](#b7)\n",
    "        * [Section B.8: Radiological Findings](#b8)\n",
    "        * [Section B.9: Miscellaneous Clean-up](#b9)\n",
    "* [Section C: Data Export](#export)"
   ]
  },
  {
   "cell_type": "code",
   "execution_count": 1,
   "metadata": {},
   "outputs": [],
   "source": [
    "import pandas as pd\n",
    "import numpy as np\n",
    "import matplotlib.pyplot as plt\n",
    "import seaborn as sns\n",
    "import os\n",
    "\n",
    "sns.set_style(\"whitegrid\")"
   ]
  },
  {
   "cell_type": "markdown",
   "metadata": {},
   "source": [
    "---\n",
    "\n",
    "## <a name=\"import\"></a>Section A: Data Import"
   ]
  },
  {
   "cell_type": "markdown",
   "metadata": {},
   "source": [
    "We'll want all the individual `.csv` files in one data frame. Most of the files contain the Carbon Health testing data for one week with the exception of the first file which contains data for one month. Fortunately, the compiler of this data has maintained consistency in the features and data logging for the project, so we should be able to jump right into cleaning.   "
   ]
  },
  {
   "cell_type": "code",
   "execution_count": 2,
   "metadata": {},
   "outputs": [],
   "source": [
    "# importing all datafiles into one dataframe\n",
    "df = pd.concat([pd.read_csv(f'./data/original_data/{file}') for file in os.listdir('./data/original_data/')], ignore_index=True)"
   ]
  },
  {
   "cell_type": "code",
   "execution_count": 3,
   "metadata": {},
   "outputs": [
    {
     "data": {
      "text/html": [
       "<div>\n",
       "<style scoped>\n",
       "    .dataframe tbody tr th:only-of-type {\n",
       "        vertical-align: middle;\n",
       "    }\n",
       "\n",
       "    .dataframe tbody tr th {\n",
       "        vertical-align: top;\n",
       "    }\n",
       "\n",
       "    .dataframe thead th {\n",
       "        text-align: right;\n",
       "    }\n",
       "</style>\n",
       "<table border=\"1\" class=\"dataframe\">\n",
       "  <thead>\n",
       "    <tr style=\"text-align: right;\">\n",
       "      <th></th>\n",
       "      <th>batch_date</th>\n",
       "      <th>test_name</th>\n",
       "      <th>swab_type</th>\n",
       "      <th>covid19_test_results</th>\n",
       "      <th>age</th>\n",
       "      <th>high_risk_exposure_occupation</th>\n",
       "      <th>high_risk_interactions</th>\n",
       "      <th>diabetes</th>\n",
       "      <th>chd</th>\n",
       "      <th>htn</th>\n",
       "      <th>...</th>\n",
       "      <th>loss_of_smell</th>\n",
       "      <th>loss_of_taste</th>\n",
       "      <th>runny_nose</th>\n",
       "      <th>muscle_sore</th>\n",
       "      <th>sore_throat</th>\n",
       "      <th>cxr_findings</th>\n",
       "      <th>cxr_impression</th>\n",
       "      <th>cxr_label</th>\n",
       "      <th>cxr_link</th>\n",
       "      <th>er_referral</th>\n",
       "    </tr>\n",
       "  </thead>\n",
       "  <tbody>\n",
       "    <tr>\n",
       "      <th>0</th>\n",
       "      <td>2020-06-16</td>\n",
       "      <td>SARS-CoV-2, NAA</td>\n",
       "      <td>Nasal</td>\n",
       "      <td>Negative</td>\n",
       "      <td>15</td>\n",
       "      <td>False</td>\n",
       "      <td>False</td>\n",
       "      <td>False</td>\n",
       "      <td>False</td>\n",
       "      <td>False</td>\n",
       "      <td>...</td>\n",
       "      <td>False</td>\n",
       "      <td>False</td>\n",
       "      <td>False</td>\n",
       "      <td>False</td>\n",
       "      <td>False</td>\n",
       "      <td>NaN</td>\n",
       "      <td>NaN</td>\n",
       "      <td>NaN</td>\n",
       "      <td>NaN</td>\n",
       "      <td>False</td>\n",
       "    </tr>\n",
       "    <tr>\n",
       "      <th>1</th>\n",
       "      <td>2020-06-16</td>\n",
       "      <td>SARS COV2 NAAT</td>\n",
       "      <td>Nasopharyngeal</td>\n",
       "      <td>Negative</td>\n",
       "      <td>20</td>\n",
       "      <td>False</td>\n",
       "      <td>False</td>\n",
       "      <td>False</td>\n",
       "      <td>False</td>\n",
       "      <td>False</td>\n",
       "      <td>...</td>\n",
       "      <td>False</td>\n",
       "      <td>False</td>\n",
       "      <td>False</td>\n",
       "      <td>False</td>\n",
       "      <td>False</td>\n",
       "      <td>NaN</td>\n",
       "      <td>NaN</td>\n",
       "      <td>NaN</td>\n",
       "      <td>NaN</td>\n",
       "      <td>False</td>\n",
       "    </tr>\n",
       "    <tr>\n",
       "      <th>2</th>\n",
       "      <td>2020-06-16</td>\n",
       "      <td>SARS-CoV-2, NAA</td>\n",
       "      <td>Nasal</td>\n",
       "      <td>Negative</td>\n",
       "      <td>14</td>\n",
       "      <td>False</td>\n",
       "      <td>NaN</td>\n",
       "      <td>False</td>\n",
       "      <td>False</td>\n",
       "      <td>False</td>\n",
       "      <td>...</td>\n",
       "      <td>False</td>\n",
       "      <td>False</td>\n",
       "      <td>False</td>\n",
       "      <td>False</td>\n",
       "      <td>False</td>\n",
       "      <td>NaN</td>\n",
       "      <td>NaN</td>\n",
       "      <td>NaN</td>\n",
       "      <td>NaN</td>\n",
       "      <td>False</td>\n",
       "    </tr>\n",
       "  </tbody>\n",
       "</table>\n",
       "<p>3 rows × 46 columns</p>\n",
       "</div>"
      ],
      "text/plain": [
       "   batch_date        test_name       swab_type covid19_test_results  age  \\\n",
       "0  2020-06-16  SARS-CoV-2, NAA           Nasal             Negative   15   \n",
       "1  2020-06-16   SARS COV2 NAAT  Nasopharyngeal             Negative   20   \n",
       "2  2020-06-16  SARS-CoV-2, NAA           Nasal             Negative   14   \n",
       "\n",
       "  high_risk_exposure_occupation high_risk_interactions  diabetes    chd  \\\n",
       "0                         False                  False     False  False   \n",
       "1                         False                  False     False  False   \n",
       "2                         False                    NaN     False  False   \n",
       "\n",
       "     htn  ...  loss_of_smell  loss_of_taste  runny_nose  muscle_sore  \\\n",
       "0  False  ...          False          False       False        False   \n",
       "1  False  ...          False          False       False        False   \n",
       "2  False  ...          False          False       False        False   \n",
       "\n",
       "   sore_throat  cxr_findings  cxr_impression  cxr_label  cxr_link  er_referral  \n",
       "0        False           NaN             NaN        NaN       NaN        False  \n",
       "1        False           NaN             NaN        NaN       NaN        False  \n",
       "2        False           NaN             NaN        NaN       NaN        False  \n",
       "\n",
       "[3 rows x 46 columns]"
      ]
     },
     "execution_count": 3,
     "metadata": {},
     "output_type": "execute_result"
    }
   ],
   "source": [
    "df.head(3)"
   ]
  },
  {
   "cell_type": "code",
   "execution_count": 4,
   "metadata": {},
   "outputs": [
    {
     "data": {
      "text/plain": [
       "(93995, 46)"
      ]
     },
     "execution_count": 4,
     "metadata": {},
     "output_type": "execute_result"
    }
   ],
   "source": [
    "# checking the dimensions of the combined dataframe\n",
    "df.shape"
   ]
  },
  {
   "cell_type": "markdown",
   "metadata": {},
   "source": [
    "The data contains almost 94,000 test results, each with 46 features."
   ]
  },
  {
   "cell_type": "markdown",
   "metadata": {},
   "source": [
    "---\n",
    "\n",
    "## <a name=\"clean\"></a>Section B: Cleaning and EDA"
   ]
  },
  {
   "cell_type": "markdown",
   "metadata": {},
   "source": [
    "Let's look at the number of `NaN` values and data types for each feature."
   ]
  },
  {
   "cell_type": "code",
   "execution_count": 5,
   "metadata": {},
   "outputs": [
    {
     "name": "stdout",
     "output_type": "stream",
     "text": [
      "<class 'pandas.core.frame.DataFrame'>\n",
      "RangeIndex: 93995 entries, 0 to 93994\n",
      "Data columns (total 46 columns):\n",
      " #   Column                         Non-Null Count  Dtype  \n",
      "---  ------                         --------------  -----  \n",
      " 0   batch_date                     93995 non-null  object \n",
      " 1   test_name                      93995 non-null  object \n",
      " 2   swab_type                      93995 non-null  object \n",
      " 3   covid19_test_results           93995 non-null  object \n",
      " 4   age                            93995 non-null  int64  \n",
      " 5   high_risk_exposure_occupation  93826 non-null  object \n",
      " 6   high_risk_interactions         69168 non-null  object \n",
      " 7   diabetes                       93995 non-null  bool   \n",
      " 8   chd                            93995 non-null  bool   \n",
      " 9   htn                            93995 non-null  bool   \n",
      " 10  cancer                         93995 non-null  bool   \n",
      " 11  asthma                         93995 non-null  bool   \n",
      " 12  copd                           93995 non-null  bool   \n",
      " 13  autoimmune_dis                 93995 non-null  bool   \n",
      " 14  smoker                         93995 non-null  bool   \n",
      " 15  temperature                    47542 non-null  float64\n",
      " 16  pulse                          48279 non-null  float64\n",
      " 17  sys                            46523 non-null  float64\n",
      " 18  dia                            46523 non-null  float64\n",
      " 19  rr                             41448 non-null  float64\n",
      " 20  sats                           47535 non-null  float64\n",
      " 21  rapid_flu_results              254 non-null    object \n",
      " 22  rapid_strep_results            391 non-null    object \n",
      " 23  ctab                           35467 non-null  object \n",
      " 24  labored_respiration            48747 non-null  object \n",
      " 25  rhonchi                        23344 non-null  object \n",
      " 26  wheezes                        27488 non-null  object \n",
      " 27  days_since_symptom_onset       15865 non-null  float64\n",
      " 28  cough                          93980 non-null  object \n",
      " 29  cough_severity                 5711 non-null   object \n",
      " 30  fever                          71074 non-null  object \n",
      " 31  sob                            93789 non-null  object \n",
      " 32  sob_severity                   2836 non-null   object \n",
      " 33  diarrhea                       93808 non-null  object \n",
      " 34  fatigue                        93819 non-null  object \n",
      " 35  headache                       93812 non-null  object \n",
      " 36  loss_of_smell                  93805 non-null  object \n",
      " 37  loss_of_taste                  93805 non-null  object \n",
      " 38  runny_nose                     93808 non-null  object \n",
      " 39  muscle_sore                    93813 non-null  object \n",
      " 40  sore_throat                    93812 non-null  object \n",
      " 41  cxr_findings                   689 non-null    object \n",
      " 42  cxr_impression                 689 non-null    object \n",
      " 43  cxr_label                      689 non-null    object \n",
      " 44  cxr_link                       689 non-null    object \n",
      " 45  er_referral                    11169 non-null  object \n",
      "dtypes: bool(8), float64(7), int64(1), object(30)\n",
      "memory usage: 28.0+ MB\n"
     ]
    }
   ],
   "source": [
    "df.info()"
   ]
  },
  {
   "cell_type": "markdown",
   "metadata": {},
   "source": [
    "Some features have complete data, while many do not. Before we dig deeper into each of these features, let's look at our target variable. "
   ]
  },
  {
   "cell_type": "markdown",
   "metadata": {},
   "source": [
    "---\n",
    "\n",
    "### <a name=\"b1\"></a>Section B.1: Target Variable and Methodology"
   ]
  },
  {
   "cell_type": "code",
   "execution_count": 6,
   "metadata": {},
   "outputs": [
    {
     "data": {
      "text/html": [
       "<div>\n",
       "<style scoped>\n",
       "    .dataframe tbody tr th:only-of-type {\n",
       "        vertical-align: middle;\n",
       "    }\n",
       "\n",
       "    .dataframe tbody tr th {\n",
       "        vertical-align: top;\n",
       "    }\n",
       "\n",
       "    .dataframe thead th {\n",
       "        text-align: right;\n",
       "    }\n",
       "</style>\n",
       "<table border=\"1\" class=\"dataframe\">\n",
       "  <thead>\n",
       "    <tr style=\"text-align: right;\">\n",
       "      <th></th>\n",
       "      <th>Count</th>\n",
       "      <th>Normalized</th>\n",
       "    </tr>\n",
       "  </thead>\n",
       "  <tbody>\n",
       "    <tr>\n",
       "      <th>Negative</th>\n",
       "      <td>92682</td>\n",
       "      <td>0.986031</td>\n",
       "    </tr>\n",
       "    <tr>\n",
       "      <th>Positive</th>\n",
       "      <td>1313</td>\n",
       "      <td>0.013969</td>\n",
       "    </tr>\n",
       "  </tbody>\n",
       "</table>\n",
       "</div>"
      ],
      "text/plain": [
       "          Count  Normalized\n",
       "Negative  92682    0.986031\n",
       "Positive   1313    0.013969"
      ]
     },
     "execution_count": 6,
     "metadata": {},
     "output_type": "execute_result"
    }
   ],
   "source": [
    "# target variable examination\n",
    "pd.DataFrame({'Count': df['covid19_test_results'].value_counts(), \n",
    "              'Normalized': df['covid19_test_results'].value_counts(normalize=True)})"
   ]
  },
  {
   "cell_type": "markdown",
   "metadata": {},
   "source": [
    "Let's quickly convert this to a binary before doing some analysis."
   ]
  },
  {
   "cell_type": "code",
   "execution_count": 7,
   "metadata": {},
   "outputs": [],
   "source": [
    "df['covid19_test_results'] = df['covid19_test_results'].map({'Negative': 0, 'Positive':1})"
   ]
  },
  {
   "cell_type": "markdown",
   "metadata": {},
   "source": [
    "A few key observations:\n",
    "* Our target variable classes are very imbalanced. We'll need to try various over/under sampling strategies on our training data to compensate.\n",
    "* We'll also employ cleaning strategies to keep as many of these `Positive` rows as possible as we don't have many.\n",
    "\n",
    "Additionally, this data is limited to patients without sever symptoms. From the repository notes:\n",
    "> The data includes both positive and negative test results for symptomatic and asymptomatic patients. The data does not include results for patients with severe symptoms. We refer such patients to ER.\n",
    "\n",
    "In order to answer our problem statement, we'll break down the features and look at them in groups. By looking at the data in these groupings, we hope to provide meaningful recommendations to frontline health workers based on interaction level with patient and resource availability. The initial feature groupings are:\n",
    "\n",
    "* Patient reported features (able to be collected prior to interaction with patient):\n",
    "    * Epidemiological Factors: `age`, `high_risk_exposure_occupation`, and `high_risk_interactions`\n",
    "    * Comorbidities: whether patient has `diabetes`, `chd` (coronary heart disease), `htn` (hypertension), `cancer`, `asthma`, `copd` (chronic obstructive pulmonary disease), `autoimmune_dis`, or `smoker` (is a smoker)\n",
    "    * Patient Reported Symptoms: `days_since_symptom_onset`, `cough`, `cough_severity`, `fever`, `sob` (shortness of breath), `sob_severity`, `diarrhea`, `fatigue`, `headache`, `loss_of_smell`, `loss_of_taste`, `runny_nose`, `muscle_sore`, and `sore_throat`\n",
    "        * A few of these features capture duplicate information and will need to be combined/dropped (e.g., `sob`/`sob_severity` and `cough`/`cough_severity`)\n",
    "\n",
    "\n",
    "* Clinically collected/assessed features (require availability of resources or interaction with patient):\n",
    "    * Vitals: `temperature`, `pulse`, `sys` (systolic blood pressure), `dia` (diastolic blood pressure), `rr` (respiratory rate), and `sats` (oxygen saturation).\n",
    "    * Clinician Assessed Symptoms: `ctab` (whether the lung exam is normal), `labored_respiration`, `rhonchi`, and `wheezes`.\n",
    "    * Lab Results: `rapid_flu_results` and `rapid_strep_results`\n",
    "    * Radiological Findings: `cxr_findings` (text of clinical observations), `cxr_impression` (summary of relevant findings), `cxr_label` (categorized label of findings), and `cxr_link` (link to images and full report in the Braid Health web app)\n",
    "        * Unfortunately, there are only 689 rows with x-ray data and the images are wrapped in a javascript app, so not very easy to scrape."
   ]
  },
  {
   "cell_type": "markdown",
   "metadata": {},
   "source": [
    "---\n",
    "\n",
    "## <a name=\"patient\"></a>Patient reported features (able to be collected prior to interaction with patient)\n",
    "\n",
    "---"
   ]
  },
  {
   "cell_type": "markdown",
   "metadata": {},
   "source": [
    "---\n",
    "\n",
    "### <a name=\"b2\"></a>Section B.2: Epidemiological Factors \n",
    "* `age`, `high_risk_exposure_occupation`, and `high_risk_interactions`"
   ]
  },
  {
   "cell_type": "markdown",
   "metadata": {},
   "source": [
    "---\n",
    "\n",
    "#### `Age`"
   ]
  },
  {
   "cell_type": "markdown",
   "metadata": {},
   "source": [
    "Let's start with the `age`. With no missing values, we should be good to go, right?\n",
    "\n",
    "Nope. In order to protect privacy, noise was added to each patient's age...this may have resulted in ages shifting in unforeseen ways. Let's take a look at the values."
   ]
  },
  {
   "cell_type": "code",
   "execution_count": 8,
   "metadata": {},
   "outputs": [
    {
     "data": {
      "text/plain": [
       "count    93995.00000\n",
       "mean        39.17569\n",
       "std         15.03687\n",
       "min         -3.00000\n",
       "25%         28.00000\n",
       "50%         37.00000\n",
       "75%         50.00000\n",
       "max         91.00000\n",
       "Name: age, dtype: float64"
      ]
     },
     "execution_count": 8,
     "metadata": {},
     "output_type": "execute_result"
    }
   ],
   "source": [
    "df['age'].describe()"
   ]
  },
  {
   "cell_type": "markdown",
   "metadata": {},
   "source": [
    "Minimum value for age is a -3. Let's look at how many values are below 0."
   ]
  },
  {
   "cell_type": "code",
   "execution_count": 9,
   "metadata": {},
   "outputs": [
    {
     "data": {
      "text/plain": [
       "age\n",
       "-1     21\n",
       " 0     20\n",
       "-2      5\n",
       "-3      3\n",
       "dtype: int64"
      ]
     },
     "execution_count": 9,
     "metadata": {},
     "output_type": "execute_result"
    }
   ],
   "source": [
    "df[df['age']<1][['age']].value_counts()"
   ]
  },
  {
   "cell_type": "markdown",
   "metadata": {},
   "source": [
    "And how many positive COVID-19 tests would we lose?"
   ]
  },
  {
   "cell_type": "code",
   "execution_count": 10,
   "metadata": {},
   "outputs": [
    {
     "data": {
      "text/plain": [
       "1"
      ]
     },
     "execution_count": 10,
     "metadata": {},
     "output_type": "execute_result"
    }
   ],
   "source": [
    "df.loc[(df['age']<1) & (df['covid19_test_results']==1), :].shape[0]"
   ]
  },
  {
   "cell_type": "markdown",
   "metadata": {},
   "source": [
    "We'd lose one row. Let's not lose any rows due to the added noise - we'll instead map negative values to 0."
   ]
  },
  {
   "cell_type": "code",
   "execution_count": 11,
   "metadata": {},
   "outputs": [],
   "source": [
    "df['age'] = df['age'].map(lambda a: 0 if a <0 else a)"
   ]
  },
  {
   "cell_type": "markdown",
   "metadata": {},
   "source": [
    "Let's look at the age distribution and a violin plot of age by COVID-19 test result."
   ]
  },
  {
   "cell_type": "code",
   "execution_count": 12,
   "metadata": {},
   "outputs": [
    {
     "data": {
      "image/png": "[encoded data removed]",
      "text/plain": [
       "<Figure size 720x288 with 2 Axes>"
      ]
     },
     "metadata": {},
     "output_type": "display_data"
    }
   ],
   "source": [
    "plt.figure(figsize=(10,4))\n",
    "ax1 = plt.subplot(121)\n",
    "ax1.hist(df['age'], bins=15)\n",
    "ax1.set_title('Age Distribution', size=16)\n",
    "ax1.set_xlabel('Age', size=14)\n",
    "ax1.set_ylabel('# of Occurrences', size=14)\n",
    "\n",
    "ax2 = plt.subplot(122)\n",
    "sns.violinplot(ax=ax2, x='covid19_test_results', y='age', data=df)\n",
    "ax2.set_title('Age by COVID-19 Test Result\\n(unscaled)', size=16)\n",
    "ax2.set_xlabel('COVID-19 Test Result', size=14)\n",
    "ax2.set_xticklabels(labels=['Negative', 'Positive'])\n",
    "ax2.set_ylabel('Age', size=14);"
   ]
  },
  {
   "cell_type": "markdown",
   "metadata": {},
   "source": [
    "Looking at this, we need to remind ourselves of the notes from the repository:\n",
    "> It is important to note that our data collection is clinically-driven and therefore not systematic. This means that overall positive rates are descriptive of the Carbon Health patient population and cannot be generalized to the unobserved population.\n",
    "\n",
    "As a modern, tech-enabled healthcare provider, Carbon Health's services are aimed at younger, tech-savvy clients and so it is not surprising that the median age of test-taking patients is 37 while that median age of 'positive' patients is lower at 33 *(see below)*. Depending on how the noise was added, this may or may not be significant, but is important to note."
   ]
  },
  {
   "cell_type": "code",
   "execution_count": 13,
   "metadata": {},
   "outputs": [
    {
     "data": {
      "text/html": [
       "<div>\n",
       "<style scoped>\n",
       "    .dataframe tbody tr th:only-of-type {\n",
       "        vertical-align: middle;\n",
       "    }\n",
       "\n",
       "    .dataframe tbody tr th {\n",
       "        vertical-align: top;\n",
       "    }\n",
       "\n",
       "    .dataframe thead th {\n",
       "        text-align: right;\n",
       "    }\n",
       "</style>\n",
       "<table border=\"1\" class=\"dataframe\">\n",
       "  <thead>\n",
       "    <tr style=\"text-align: right;\">\n",
       "      <th></th>\n",
       "      <th>All Patients</th>\n",
       "      <th>Positive Patients</th>\n",
       "    </tr>\n",
       "  </thead>\n",
       "  <tbody>\n",
       "    <tr>\n",
       "      <th>count</th>\n",
       "      <td>93995.000000</td>\n",
       "      <td>1313.000000</td>\n",
       "    </tr>\n",
       "    <tr>\n",
       "      <th>mean</th>\n",
       "      <td>39.176116</td>\n",
       "      <td>35.577304</td>\n",
       "    </tr>\n",
       "    <tr>\n",
       "      <th>std</th>\n",
       "      <td>15.035737</td>\n",
       "      <td>15.522810</td>\n",
       "    </tr>\n",
       "    <tr>\n",
       "      <th>min</th>\n",
       "      <td>0.000000</td>\n",
       "      <td>0.000000</td>\n",
       "    </tr>\n",
       "    <tr>\n",
       "      <th>25%</th>\n",
       "      <td>28.000000</td>\n",
       "      <td>24.000000</td>\n",
       "    </tr>\n",
       "    <tr>\n",
       "      <th>50%</th>\n",
       "      <td>37.000000</td>\n",
       "      <td>33.000000</td>\n",
       "    </tr>\n",
       "    <tr>\n",
       "      <th>75%</th>\n",
       "      <td>50.000000</td>\n",
       "      <td>46.000000</td>\n",
       "    </tr>\n",
       "    <tr>\n",
       "      <th>max</th>\n",
       "      <td>91.000000</td>\n",
       "      <td>83.000000</td>\n",
       "    </tr>\n",
       "  </tbody>\n",
       "</table>\n",
       "</div>"
      ],
      "text/plain": [
       "       All Patients  Positive Patients\n",
       "count  93995.000000        1313.000000\n",
       "mean      39.176116          35.577304\n",
       "std       15.035737          15.522810\n",
       "min        0.000000           0.000000\n",
       "25%       28.000000          24.000000\n",
       "50%       37.000000          33.000000\n",
       "75%       50.000000          46.000000\n",
       "max       91.000000          83.000000"
      ]
     },
     "execution_count": 13,
     "metadata": {},
     "output_type": "execute_result"
    }
   ],
   "source": [
    "pd.DataFrame({'All Patients': df['age'].describe(), \n",
    "              'Positive Patients': df[df['covid19_test_results']==1]['age'].describe()})"
   ]
  },
  {
   "cell_type": "markdown",
   "metadata": {},
   "source": [
    "We may ultimately need to separate these ages into bins to help offset the added noise. Also, `age` it isn't a symptom and so not something we are attempting to measure the influence of a positive COVID-19 test.\n",
    "\n",
    "For now, let's move on."
   ]
  },
  {
   "cell_type": "markdown",
   "metadata": {},
   "source": [
    "---\n",
    "\n",
    "#### `high_risk_exposure_occupation` and `high_risk_interactions`"
   ]
  },
  {
   "cell_type": "code",
   "execution_count": 14,
   "metadata": {},
   "outputs": [
    {
     "data": {
      "text/html": [
       "<div>\n",
       "<style scoped>\n",
       "    .dataframe tbody tr th:only-of-type {\n",
       "        vertical-align: middle;\n",
       "    }\n",
       "\n",
       "    .dataframe tbody tr th {\n",
       "        vertical-align: top;\n",
       "    }\n",
       "\n",
       "    .dataframe thead th {\n",
       "        text-align: right;\n",
       "    }\n",
       "</style>\n",
       "<table border=\"1\" class=\"dataframe\">\n",
       "  <thead>\n",
       "    <tr style=\"text-align: right;\">\n",
       "      <th></th>\n",
       "      <th>Exposure Occupation</th>\n",
       "      <th>Risk Interactions</th>\n",
       "    </tr>\n",
       "  </thead>\n",
       "  <tbody>\n",
       "    <tr>\n",
       "      <th>False</th>\n",
       "      <td>86892</td>\n",
       "      <td>54953</td>\n",
       "    </tr>\n",
       "    <tr>\n",
       "      <th>True</th>\n",
       "      <td>6934</td>\n",
       "      <td>14215</td>\n",
       "    </tr>\n",
       "    <tr>\n",
       "      <th>NaNs</th>\n",
       "      <td>169</td>\n",
       "      <td>24827</td>\n",
       "    </tr>\n",
       "  </tbody>\n",
       "</table>\n",
       "</div>"
      ],
      "text/plain": [
       "       Exposure Occupation  Risk Interactions\n",
       "False                86892              54953\n",
       "True                  6934              14215\n",
       "NaNs                   169              24827"
      ]
     },
     "execution_count": 14,
     "metadata": {},
     "output_type": "execute_result"
    }
   ],
   "source": [
    "high_risk = pd.DataFrame({'Exposure Occupation': df['high_risk_exposure_occupation'].value_counts(), \n",
    "                          'Risk Interactions': df['high_risk_interactions'].value_counts()})\n",
    "\n",
    "NaNs = [df['high_risk_exposure_occupation'].isnull().sum(), \n",
    "        df['high_risk_interactions'].isnull().sum()]\n",
    "\n",
    "high_risk = high_risk.append({'Exposure Occupation': NaNs[0], 'Risk Interactions': NaNs[1]}, ignore_index=True)\n",
    "high_risk.rename({0: 'False', 1: 'True', 2: 'NaNs'}, inplace=True)\n",
    "\n",
    "high_risk"
   ]
  },
  {
   "cell_type": "markdown",
   "metadata": {},
   "source": [
    "With so many `False` (or `NaN` values, the smaller number of `True` values would likely have too much influence and hide the contribution of our other, more generalized features. They might make our predictive power stronger, but at the expense of the symptom features we're focusing on understanding.\n",
    "\n",
    "Also, if someone is in a `high_risk exposure_occupation` don't they, by default have `high_risk_interaction`?\n",
    "\n",
    "We'll combine these two features into one as `high_risk_comb` capturing patients who are `True` for either column. We'll then binarize the column and keep it for future use."
   ]
  },
  {
   "cell_type": "code",
   "execution_count": 15,
   "metadata": {},
   "outputs": [
    {
     "data": {
      "text/html": [
       "<div>\n",
       "<style scoped>\n",
       "    .dataframe tbody tr th:only-of-type {\n",
       "        vertical-align: middle;\n",
       "    }\n",
       "\n",
       "    .dataframe tbody tr th {\n",
       "        vertical-align: top;\n",
       "    }\n",
       "\n",
       "    .dataframe thead th {\n",
       "        text-align: right;\n",
       "    }\n",
       "</style>\n",
       "<table border=\"1\" class=\"dataframe\">\n",
       "  <thead>\n",
       "    <tr style=\"text-align: right;\">\n",
       "      <th></th>\n",
       "      <th>high_risk_comb</th>\n",
       "    </tr>\n",
       "  </thead>\n",
       "  <tbody>\n",
       "    <tr>\n",
       "      <th>0</th>\n",
       "      <td>75931</td>\n",
       "    </tr>\n",
       "    <tr>\n",
       "      <th>1</th>\n",
       "      <td>18064</td>\n",
       "    </tr>\n",
       "    <tr>\n",
       "      <th>NAN</th>\n",
       "      <td>0</td>\n",
       "    </tr>\n",
       "  </tbody>\n",
       "</table>\n",
       "</div>"
      ],
      "text/plain": [
       "     high_risk_comb\n",
       "0             75931\n",
       "1             18064\n",
       "NAN               0"
      ]
     },
     "execution_count": 15,
     "metadata": {},
     "output_type": "execute_result"
    }
   ],
   "source": [
    "# setting up for using np.select per documentation\n",
    "# condition list as per above logic\n",
    "condlist = [((df['high_risk_exposure_occupation'] == True) | (df['high_risk_interactions'] == True)), \n",
    "            ((df['high_risk_exposure_occupation'] == False) & (df['high_risk_interactions'] == False)), \n",
    "            df['high_risk_exposure_occupation'].isna(), \n",
    "            df['high_risk_interactions'].isna()]\n",
    "\n",
    "# what to do for each condition\n",
    "choicelist = [int(1), int(0), int(0), int(0)]\n",
    "\n",
    "# for each case, selecting the appropriate choice to execute\n",
    "df['high_risk_comb'] = np.select(condlist, choicelist)\n",
    "\n",
    "# looking at the results\n",
    "pd.DataFrame({'high_risk_comb': df['high_risk_comb'].value_counts().append(pd.Series(df['high_risk_comb'].isna().sum(), index=['NAN']))})"
   ]
  },
  {
   "cell_type": "markdown",
   "metadata": {},
   "source": [
    "The new column is created so let's drop the original columns."
   ]
  },
  {
   "cell_type": "code",
   "execution_count": 16,
   "metadata": {},
   "outputs": [
    {
     "name": "stdout",
     "output_type": "stream",
     "text": [
      "Shape before drop: (93995, 47)\n",
      "Shape after drop: (93995, 45)\n"
     ]
    }
   ],
   "source": [
    "print(f'Shape before drop: {df.shape}')\n",
    "df.drop(columns=['high_risk_exposure_occupation', 'high_risk_interactions'], inplace=True)\n",
    "print(f'Shape after drop: {df.shape}')"
   ]
  },
  {
   "cell_type": "markdown",
   "metadata": {},
   "source": [
    "The two features were removed."
   ]
  },
  {
   "cell_type": "markdown",
   "metadata": {},
   "source": [
    "---\n",
    "\n",
    "### <a name=\"b3\"></a>Section B.3: Comorbidities \n",
    "* whether patient has `diabetes`, `chd` (coronary heart disease), `htn` (hypertension), `cancer`, `asthma`, `copd` (chronic obstructive pulmonary disease), `autoimmune_dis`, or `smoker` (is a smoker)\n",
    "\n",
    "---"
   ]
  },
  {
   "cell_type": "markdown",
   "metadata": {},
   "source": [
    "Since these are not symptoms but rather a patient's medical history, they likely have nothing to contribute in making a prediction of whether a patient has COVID-19.\n",
    "\n",
    "They likely would lend predictive power to eventual outcome of a patient's final outcome, but that data is not part of this dataset and beyond the scope of this project.\n",
    "\n",
    "Still, let's examine these features in relation to our target variable before dropping them."
   ]
  },
  {
   "cell_type": "code",
   "execution_count": 17,
   "metadata": {},
   "outputs": [
    {
     "name": "stdout",
     "output_type": "stream",
     "text": [
      "<class 'pandas.core.frame.DataFrame'>\n",
      "RangeIndex: 93995 entries, 0 to 93994\n",
      "Data columns (total 8 columns):\n",
      " #   Column          Non-Null Count  Dtype\n",
      "---  ------          --------------  -----\n",
      " 0   diabetes        93995 non-null  bool \n",
      " 1   chd             93995 non-null  bool \n",
      " 2   htn             93995 non-null  bool \n",
      " 3   cancer          93995 non-null  bool \n",
      " 4   asthma          93995 non-null  bool \n",
      " 5   copd            93995 non-null  bool \n",
      " 6   autoimmune_dis  93995 non-null  bool \n",
      " 7   smoker          93995 non-null  bool \n",
      "dtypes: bool(8)\n",
      "memory usage: 734.5 KB\n"
     ]
    }
   ],
   "source": [
    "comorbidities = ['diabetes', 'chd', 'htn', 'cancer', 'asthma', 'copd', 'autoimmune_dis', 'smoker']\n",
    "\n",
    "df[comorbidities].info()"
   ]
  },
  {
   "cell_type": "markdown",
   "metadata": {},
   "source": [
    "There are no missing values and all are boolean. Let's covert them all to binary, take a look at the value distributions, and build a correlation matrix to see how these features interact with each other and our target variable."
   ]
  },
  {
   "cell_type": "code",
   "execution_count": 18,
   "metadata": {},
   "outputs": [
    {
     "data": {
      "text/html": [
       "<div>\n",
       "<style scoped>\n",
       "    .dataframe tbody tr th:only-of-type {\n",
       "        vertical-align: middle;\n",
       "    }\n",
       "\n",
       "    .dataframe tbody tr th {\n",
       "        vertical-align: top;\n",
       "    }\n",
       "\n",
       "    .dataframe thead th {\n",
       "        text-align: right;\n",
       "    }\n",
       "</style>\n",
       "<table border=\"1\" class=\"dataframe\">\n",
       "  <thead>\n",
       "    <tr style=\"text-align: right;\">\n",
       "      <th></th>\n",
       "      <th>diabetes</th>\n",
       "      <th>chd</th>\n",
       "      <th>htn</th>\n",
       "      <th>cancer</th>\n",
       "      <th>asthma</th>\n",
       "      <th>copd</th>\n",
       "      <th>autoimmune_dis</th>\n",
       "      <th>smoker</th>\n",
       "    </tr>\n",
       "  </thead>\n",
       "  <tbody>\n",
       "    <tr>\n",
       "      <th>False</th>\n",
       "      <td>93336</td>\n",
       "      <td>93586</td>\n",
       "      <td>89211</td>\n",
       "      <td>93742</td>\n",
       "      <td>91626</td>\n",
       "      <td>93943</td>\n",
       "      <td>93771</td>\n",
       "      <td>90070</td>\n",
       "    </tr>\n",
       "    <tr>\n",
       "      <th>True</th>\n",
       "      <td>659</td>\n",
       "      <td>409</td>\n",
       "      <td>4784</td>\n",
       "      <td>253</td>\n",
       "      <td>2369</td>\n",
       "      <td>52</td>\n",
       "      <td>224</td>\n",
       "      <td>3925</td>\n",
       "    </tr>\n",
       "  </tbody>\n",
       "</table>\n",
       "</div>"
      ],
      "text/plain": [
       "       diabetes    chd    htn  cancer  asthma   copd  autoimmune_dis  smoker\n",
       "False     93336  93586  89211   93742   91626  93943           93771   90070\n",
       "True        659    409   4784     253    2369     52             224    3925"
      ]
     },
     "execution_count": 18,
     "metadata": {},
     "output_type": "execute_result"
    }
   ],
   "source": [
    "# looking at the values for comorbidity features\n",
    "comorb_values_dict = {}\n",
    "for col in comorbidities:\n",
    "    comorb_values_dict[col] = df[col].value_counts()\n",
    "\n",
    "pd.DataFrame(comorb_values_dict)"
   ]
  },
  {
   "cell_type": "markdown",
   "metadata": {},
   "source": [
    "Few true values for most of these features. This is not surprising given the age distribution. "
   ]
  },
  {
   "cell_type": "code",
   "execution_count": 19,
   "metadata": {},
   "outputs": [
    {
     "data": {
      "image/png": "[encoded data removed]",
      "text/plain": [
       "<Figure size 720x576 with 2 Axes>"
      ]
     },
     "metadata": {},
     "output_type": "display_data"
    }
   ],
   "source": [
    "# converting the boolean to binary\n",
    "for col in comorbidities:\n",
    "    df[col] = (df[col] * 1).astype('int')\n",
    "\n",
    "# plotting correlation matrix for all comorbity features\n",
    "comorbid_corr = df[comorbidities + ['covid19_test_results']].corr()\n",
    "plt.figure(figsize=(10,8))\n",
    "sns.heatmap(comorbid_corr, vmin=-1, vmax=1, cmap='Blues', annot=True, annot_kws={'size':11}, )\n",
    "plt.title('Correlations for Comorbidity Features', size=16);"
   ]
  },
  {
   "cell_type": "code",
   "execution_count": 20,
   "metadata": {},
   "outputs": [
    {
     "data": {
      "image/png": "[encoded data removed]",
      "text/plain": [
       "<Figure size 432x576 with 2 Axes>"
      ]
     },
     "metadata": {},
     "output_type": "display_data"
    }
   ],
   "source": [
    "# isolating the correlations for comorbidities with our target variable \n",
    "plt.figure(figsize=(6,8))\n",
    "sns.heatmap(comorbid_corr[['covid19_test_results']].sort_values(by='covid19_test_results', ascending=False), \n",
    "            vmin=-1, vmax=1, cmap='Blues', annot=True, annot_kws={'size':13}, )\n",
    "plt.title('Correlations for Comorbidity Features\\nin Relation to COVID-19 Test Results', size=16);"
   ]
  },
  {
   "cell_type": "markdown",
   "metadata": {},
   "source": [
    "As expected these features have correlations close to zero, indicating no positive or negative relationship to our target variable. However, with our imbalanced classes this is likely to be the case for any correlation matrix with the smaller positive sample size. We'll do some additional EDA after correcting applying some over/undersampling. \n",
    "\n",
    "For now, we'll drop these features as they aren't symptoms of COVID-19 and so are beyond the scope of our data and our problem statement. "
   ]
  },
  {
   "cell_type": "code",
   "execution_count": 21,
   "metadata": {},
   "outputs": [
    {
     "name": "stdout",
     "output_type": "stream",
     "text": [
      "Shape before drop: (93995, 45)\n",
      "Shape after drop: (93995, 37)\n"
     ]
    }
   ],
   "source": [
    "print(f'Shape before drop: {df.shape}')\n",
    "df.drop(columns=comorbidities, inplace=True)\n",
    "print(f'Shape after drop: {df.shape}')"
   ]
  },
  {
   "cell_type": "markdown",
   "metadata": {},
   "source": [
    "The columns have been successfully dropped."
   ]
  },
  {
   "cell_type": "markdown",
   "metadata": {},
   "source": [
    "---\n",
    "\n",
    "### <a name=\"b4\"></a>Section B.4: Patient Reported Symptoms \n",
    "* `days_since_symptom_onset`, `cough`, `cough_severity`, `fever`, `sob` (shortness of breath), `sob_severity`, `diarrhea`, `fatigue`, `headache`, `loss_of_smell`, `loss_of_taste`, `runny_nose`, `muscle_sore`, and `sore_throat`\n",
    "\n",
    "---"
   ]
  },
  {
   "cell_type": "markdown",
   "metadata": {},
   "source": [
    "These features round out the information that is available to Carbon Health medical staff prior to interacting with a patient.\n",
    "\n",
    "As noted previously:\n",
    "> A few of these features capture duplicate information and will need to be combined/dropped (e.g., `sob`/`sob_severity` and `cough`/`cough_severity`)\n",
    "\n",
    "Let's take a look..."
   ]
  },
  {
   "cell_type": "code",
   "execution_count": 22,
   "metadata": {},
   "outputs": [
    {
     "name": "stdout",
     "output_type": "stream",
     "text": [
      "<class 'pandas.core.frame.DataFrame'>\n",
      "RangeIndex: 93995 entries, 0 to 93994\n",
      "Data columns (total 14 columns):\n",
      " #   Column                    Non-Null Count  Dtype  \n",
      "---  ------                    --------------  -----  \n",
      " 0   days_since_symptom_onset  15865 non-null  float64\n",
      " 1   cough                     93980 non-null  object \n",
      " 2   cough_severity            5711 non-null   object \n",
      " 3   fever                     71074 non-null  object \n",
      " 4   sob                       93789 non-null  object \n",
      " 5   sob_severity              2836 non-null   object \n",
      " 6   diarrhea                  93808 non-null  object \n",
      " 7   fatigue                   93819 non-null  object \n",
      " 8   headache                  93812 non-null  object \n",
      " 9   loss_of_smell             93805 non-null  object \n",
      " 10  loss_of_taste             93805 non-null  object \n",
      " 11  runny_nose                93808 non-null  object \n",
      " 12  muscle_sore               93813 non-null  object \n",
      " 13  sore_throat               93812 non-null  object \n",
      "dtypes: float64(1), object(13)\n",
      "memory usage: 10.0+ MB\n"
     ]
    }
   ],
   "source": [
    "all_patient_symptoms = ['days_since_symptom_onset', 'cough', 'cough_severity', 'fever', \n",
    "                    'sob', 'sob_severity', 'diarrhea', 'fatigue', 'headache', 'loss_of_smell', \n",
    "                    'loss_of_taste', 'runny_nose', 'muscle_sore', 'sore_throat']\n",
    "\n",
    "df[all_patient_symptoms].info()"
   ]
  },
  {
   "cell_type": "markdown",
   "metadata": {},
   "source": [
    "Most of these features are object data types with the exception of `days_since_symptom_onset`. \n",
    "\n",
    "To start, let's focus on `cough`,  `sob`, `diarrhea`, `fatigue`, `headache`, `loss_of_smell`, `loss_of_taste`, `runny_nose`, `muscle_sore`, and `sore_throat`.\n",
    "\n",
    "Due to their higher counts of `NaN` values (or relationship to another column), we'll look at `days_since_symptom_onset`, `fever`, `cough_severity`, and `sob_severity` separately."
   ]
  },
  {
   "cell_type": "markdown",
   "metadata": {},
   "source": [
    "---\n",
    "\n",
    "#### `cough`,  `sob`, `diarrhea`, `fatigue`, `headache`, `loss_of_smell`, `loss_of_taste`, `runny_nose`, `muscle_sore`, and `sore_throat`\n",
    "\n"
   ]
  },
  {
   "cell_type": "code",
   "execution_count": 23,
   "metadata": {},
   "outputs": [
    {
     "data": {
      "text/html": [
       "<div>\n",
       "<style scoped>\n",
       "    .dataframe tbody tr th:only-of-type {\n",
       "        vertical-align: middle;\n",
       "    }\n",
       "\n",
       "    .dataframe tbody tr th {\n",
       "        vertical-align: top;\n",
       "    }\n",
       "\n",
       "    .dataframe thead th {\n",
       "        text-align: right;\n",
       "    }\n",
       "</style>\n",
       "<table border=\"1\" class=\"dataframe\">\n",
       "  <thead>\n",
       "    <tr style=\"text-align: right;\">\n",
       "      <th></th>\n",
       "      <th>cough</th>\n",
       "      <th>sob</th>\n",
       "      <th>diarrhea</th>\n",
       "      <th>fatigue</th>\n",
       "      <th>headache</th>\n",
       "      <th>loss_of_smell</th>\n",
       "      <th>loss_of_taste</th>\n",
       "      <th>runny_nose</th>\n",
       "      <th>muscle_sore</th>\n",
       "      <th>sore_throat</th>\n",
       "    </tr>\n",
       "  </thead>\n",
       "  <tbody>\n",
       "    <tr>\n",
       "      <th>False</th>\n",
       "      <td>88135</td>\n",
       "      <td>90947</td>\n",
       "      <td>91911</td>\n",
       "      <td>87707</td>\n",
       "      <td>88391</td>\n",
       "      <td>93142</td>\n",
       "      <td>93129</td>\n",
       "      <td>90349</td>\n",
       "      <td>90423</td>\n",
       "      <td>87904</td>\n",
       "    </tr>\n",
       "    <tr>\n",
       "      <th>True</th>\n",
       "      <td>5845</td>\n",
       "      <td>2842</td>\n",
       "      <td>1897</td>\n",
       "      <td>6112</td>\n",
       "      <td>5421</td>\n",
       "      <td>663</td>\n",
       "      <td>676</td>\n",
       "      <td>3459</td>\n",
       "      <td>3390</td>\n",
       "      <td>5908</td>\n",
       "    </tr>\n",
       "    <tr>\n",
       "      <th>NAN</th>\n",
       "      <td>15</td>\n",
       "      <td>206</td>\n",
       "      <td>187</td>\n",
       "      <td>176</td>\n",
       "      <td>183</td>\n",
       "      <td>190</td>\n",
       "      <td>190</td>\n",
       "      <td>187</td>\n",
       "      <td>182</td>\n",
       "      <td>183</td>\n",
       "    </tr>\n",
       "  </tbody>\n",
       "</table>\n",
       "</div>"
      ],
      "text/plain": [
       "       cough    sob  diarrhea  fatigue  headache  loss_of_smell  \\\n",
       "False  88135  90947     91911    87707     88391          93142   \n",
       "True    5845   2842      1897     6112      5421            663   \n",
       "NAN       15    206       187      176       183            190   \n",
       "\n",
       "       loss_of_taste  runny_nose  muscle_sore  sore_throat  \n",
       "False          93129       90349        90423        87904  \n",
       "True             676        3459         3390         5908  \n",
       "NAN              190         187          182          183  "
      ]
     },
     "execution_count": 23,
     "metadata": {},
     "output_type": "execute_result"
    }
   ],
   "source": [
    "select_patient_symptoms = ['cough', 'sob', 'diarrhea', 'fatigue', \n",
    "                           'headache', 'loss_of_smell', 'loss_of_taste', 'runny_nose', \n",
    "                           'muscle_sore', 'sore_throat']\n",
    "\n",
    "patient_symp_dict = {}\n",
    "for col in select_patient_symptoms:\n",
    "    patient_symp_dict[col] = df[col].value_counts().append(pd.Series(df[col].isna().sum(), index=['NAN']))\n",
    "\n",
    "pd.DataFrame(patient_symp_dict)"
   ]
  },
  {
   "cell_type": "markdown",
   "metadata": {},
   "source": [
    "With the exception of `cough`, these features all have 176 - 206 missing values.\n",
    "\n",
    "Since these are symptoms that we need to focus on to address our problem statement, let's see how many patients who tested positive for COVID-19 would be dropped if we dropped tests with missing values."
   ]
  },
  {
   "cell_type": "code",
   "execution_count": 24,
   "metadata": {},
   "outputs": [
    {
     "data": {
      "text/html": [
       "<div>\n",
       "<style scoped>\n",
       "    .dataframe tbody tr th:only-of-type {\n",
       "        vertical-align: middle;\n",
       "    }\n",
       "\n",
       "    .dataframe tbody tr th {\n",
       "        vertical-align: top;\n",
       "    }\n",
       "\n",
       "    .dataframe thead th {\n",
       "        text-align: right;\n",
       "    }\n",
       "</style>\n",
       "<table border=\"1\" class=\"dataframe\">\n",
       "  <thead>\n",
       "    <tr style=\"text-align: right;\">\n",
       "      <th></th>\n",
       "      <th>cough</th>\n",
       "      <th>sob</th>\n",
       "      <th>diarrhea</th>\n",
       "      <th>fatigue</th>\n",
       "      <th>headache</th>\n",
       "      <th>loss_of_smell</th>\n",
       "      <th>loss_of_taste</th>\n",
       "      <th>runny_nose</th>\n",
       "      <th>muscle_sore</th>\n",
       "      <th>sore_throat</th>\n",
       "    </tr>\n",
       "  </thead>\n",
       "  <tbody>\n",
       "    <tr>\n",
       "      <th>False</th>\n",
       "      <td>87952</td>\n",
       "      <td>90947</td>\n",
       "      <td>91891</td>\n",
       "      <td>87687</td>\n",
       "      <td>88371</td>\n",
       "      <td>93122</td>\n",
       "      <td>93109</td>\n",
       "      <td>90329</td>\n",
       "      <td>90403</td>\n",
       "      <td>87884</td>\n",
       "    </tr>\n",
       "    <tr>\n",
       "      <th>True</th>\n",
       "      <td>5833</td>\n",
       "      <td>2838</td>\n",
       "      <td>1894</td>\n",
       "      <td>6098</td>\n",
       "      <td>5414</td>\n",
       "      <td>663</td>\n",
       "      <td>676</td>\n",
       "      <td>3456</td>\n",
       "      <td>3382</td>\n",
       "      <td>5901</td>\n",
       "    </tr>\n",
       "    <tr>\n",
       "      <th>NAN</th>\n",
       "      <td>0</td>\n",
       "      <td>0</td>\n",
       "      <td>0</td>\n",
       "      <td>0</td>\n",
       "      <td>0</td>\n",
       "      <td>0</td>\n",
       "      <td>0</td>\n",
       "      <td>0</td>\n",
       "      <td>0</td>\n",
       "      <td>0</td>\n",
       "    </tr>\n",
       "  </tbody>\n",
       "</table>\n",
       "</div>"
      ],
      "text/plain": [
       "       cough    sob  diarrhea  fatigue  headache  loss_of_smell  \\\n",
       "False  87952  90947     91891    87687     88371          93122   \n",
       "True    5833   2838      1894     6098      5414            663   \n",
       "NAN        0      0         0        0         0              0   \n",
       "\n",
       "       loss_of_taste  runny_nose  muscle_sore  sore_throat  \n",
       "False          93109       90329        90403        87884  \n",
       "True             676        3456         3382         5901  \n",
       "NAN                0           0            0            0  "
      ]
     },
     "execution_count": 24,
     "metadata": {},
     "output_type": "execute_result"
    }
   ],
   "source": [
    "# creating a dictionary to hold pre-drop test results\n",
    "test_drop_result_cts = {'Pre-Drop Result Vals': df['covid19_test_results'].value_counts()}\n",
    "\n",
    "# copying existing data frame to new data frame for test\n",
    "df_test_drop = df.copy()\n",
    "\n",
    "# dropping the rows with missing values for selected columns\n",
    "for col in select_patient_symptoms:\n",
    "    df_test_drop = df_test_drop.loc[df_test_drop[col].notnull(), :]\n",
    "\n",
    "# creating to a dictionary to summarize the values for columns after the drop\n",
    "test_patient_symp_dict = {}    \n",
    "for col in select_patient_symptoms:    \n",
    "    test_patient_symp_dict[col] = df_test_drop[col].value_counts().append(pd.Series(df_test_drop[col].isna().sum(), \n",
    "                                                                                    index=['NAN']))\n",
    "    \n",
    "# adding the post-drop value counts for our target variable\n",
    "test_drop_result_cts['Post-Drop Result Vals'] = df_test_drop['covid19_test_results'].value_counts()\n",
    "\n",
    "# displaying the resulting values for selected features\n",
    "pd.DataFrame(test_patient_symp_dict)"
   ]
  },
  {
   "cell_type": "code",
   "execution_count": 25,
   "metadata": {},
   "outputs": [
    {
     "data": {
      "text/html": [
       "<div>\n",
       "<style scoped>\n",
       "    .dataframe tbody tr th:only-of-type {\n",
       "        vertical-align: middle;\n",
       "    }\n",
       "\n",
       "    .dataframe tbody tr th {\n",
       "        vertical-align: top;\n",
       "    }\n",
       "\n",
       "    .dataframe thead th {\n",
       "        text-align: right;\n",
       "    }\n",
       "</style>\n",
       "<table border=\"1\" class=\"dataframe\">\n",
       "  <thead>\n",
       "    <tr style=\"text-align: right;\">\n",
       "      <th></th>\n",
       "      <th>Pre-Drop Result Vals</th>\n",
       "      <th>Post-Drop Result Vals</th>\n",
       "    </tr>\n",
       "  </thead>\n",
       "  <tbody>\n",
       "    <tr>\n",
       "      <th>0</th>\n",
       "      <td>92682</td>\n",
       "      <td>92477</td>\n",
       "    </tr>\n",
       "    <tr>\n",
       "      <th>1</th>\n",
       "      <td>1313</td>\n",
       "      <td>1308</td>\n",
       "    </tr>\n",
       "  </tbody>\n",
       "</table>\n",
       "</div>"
      ],
      "text/plain": [
       "   Pre-Drop Result Vals  Post-Drop Result Vals\n",
       "0                 92682                  92477\n",
       "1                  1313                   1308"
      ]
     },
     "execution_count": 25,
     "metadata": {},
     "output_type": "execute_result"
    }
   ],
   "source": [
    "pd.DataFrame(test_drop_result_cts)"
   ]
  },
  {
   "cell_type": "markdown",
   "metadata": {},
   "source": [
    "We only lose 5 of our positive classed results and now have values for all of these features.\n",
    "Let's make the drop on our actual data frame and binarize these features."
   ]
  },
  {
   "cell_type": "code",
   "execution_count": 26,
   "metadata": {},
   "outputs": [
    {
     "name": "stdout",
     "output_type": "stream",
     "text": [
      "Shape before drop: (93995, 37)\n",
      "Shape after drop: (93785, 37)\n"
     ]
    },
    {
     "data": {
      "text/html": [
       "<div>\n",
       "<style scoped>\n",
       "    .dataframe tbody tr th:only-of-type {\n",
       "        vertical-align: middle;\n",
       "    }\n",
       "\n",
       "    .dataframe tbody tr th {\n",
       "        vertical-align: top;\n",
       "    }\n",
       "\n",
       "    .dataframe thead th {\n",
       "        text-align: right;\n",
       "    }\n",
       "</style>\n",
       "<table border=\"1\" class=\"dataframe\">\n",
       "  <thead>\n",
       "    <tr style=\"text-align: right;\">\n",
       "      <th></th>\n",
       "      <th>cough</th>\n",
       "      <th>sob</th>\n",
       "      <th>diarrhea</th>\n",
       "      <th>fatigue</th>\n",
       "      <th>headache</th>\n",
       "      <th>loss_of_smell</th>\n",
       "      <th>loss_of_taste</th>\n",
       "      <th>runny_nose</th>\n",
       "      <th>muscle_sore</th>\n",
       "      <th>sore_throat</th>\n",
       "    </tr>\n",
       "  </thead>\n",
       "  <tbody>\n",
       "    <tr>\n",
       "      <th>False</th>\n",
       "      <td>87952</td>\n",
       "      <td>90947</td>\n",
       "      <td>91891</td>\n",
       "      <td>87687</td>\n",
       "      <td>88371</td>\n",
       "      <td>93122</td>\n",
       "      <td>93109</td>\n",
       "      <td>90329</td>\n",
       "      <td>90403</td>\n",
       "      <td>87884</td>\n",
       "    </tr>\n",
       "    <tr>\n",
       "      <th>True</th>\n",
       "      <td>5833</td>\n",
       "      <td>2838</td>\n",
       "      <td>1894</td>\n",
       "      <td>6098</td>\n",
       "      <td>5414</td>\n",
       "      <td>663</td>\n",
       "      <td>676</td>\n",
       "      <td>3456</td>\n",
       "      <td>3382</td>\n",
       "      <td>5901</td>\n",
       "    </tr>\n",
       "    <tr>\n",
       "      <th>NAN</th>\n",
       "      <td>0</td>\n",
       "      <td>0</td>\n",
       "      <td>0</td>\n",
       "      <td>0</td>\n",
       "      <td>0</td>\n",
       "      <td>0</td>\n",
       "      <td>0</td>\n",
       "      <td>0</td>\n",
       "      <td>0</td>\n",
       "      <td>0</td>\n",
       "    </tr>\n",
       "  </tbody>\n",
       "</table>\n",
       "</div>"
      ],
      "text/plain": [
       "       cough    sob  diarrhea  fatigue  headache  loss_of_smell  \\\n",
       "False  87952  90947     91891    87687     88371          93122   \n",
       "True    5833   2838      1894     6098      5414            663   \n",
       "NAN        0      0         0        0         0              0   \n",
       "\n",
       "       loss_of_taste  runny_nose  muscle_sore  sore_throat  \n",
       "False          93109       90329        90403        87884  \n",
       "True             676        3456         3382         5901  \n",
       "NAN                0           0            0            0  "
      ]
     },
     "execution_count": 26,
     "metadata": {},
     "output_type": "execute_result"
    }
   ],
   "source": [
    "print(f'Shape before drop: {df.shape}')\n",
    "\n",
    "for col in select_patient_symptoms:\n",
    "    df = df.loc[df[col].notnull(), :]\n",
    "\n",
    "print(f'Shape after drop: {df.shape}')\n",
    "\n",
    "patient_symp_dict = {}    \n",
    "for col in select_patient_symptoms:    \n",
    "    patient_symp_dict[col] = df[col].value_counts().append(pd.Series(df[col].isna().sum(), index=['NAN']))\n",
    "    df[col] = (df[col] * 1).astype(int)\n",
    "\n",
    "# displaying the resulting values for selected features\n",
    "pd.DataFrame(patient_symp_dict)"
   ]
  },
  {
   "cell_type": "code",
   "execution_count": 27,
   "metadata": {},
   "outputs": [
    {
     "data": {
      "text/html": [
       "<div>\n",
       "<style scoped>\n",
       "    .dataframe tbody tr th:only-of-type {\n",
       "        vertical-align: middle;\n",
       "    }\n",
       "\n",
       "    .dataframe tbody tr th {\n",
       "        vertical-align: top;\n",
       "    }\n",
       "\n",
       "    .dataframe thead th {\n",
       "        text-align: right;\n",
       "    }\n",
       "</style>\n",
       "<table border=\"1\" class=\"dataframe\">\n",
       "  <thead>\n",
       "    <tr style=\"text-align: right;\">\n",
       "      <th></th>\n",
       "      <th>covid19_test_results</th>\n",
       "    </tr>\n",
       "  </thead>\n",
       "  <tbody>\n",
       "    <tr>\n",
       "      <th>0</th>\n",
       "      <td>92477</td>\n",
       "    </tr>\n",
       "    <tr>\n",
       "      <th>1</th>\n",
       "      <td>1308</td>\n",
       "    </tr>\n",
       "  </tbody>\n",
       "</table>\n",
       "</div>"
      ],
      "text/plain": [
       "   covid19_test_results\n",
       "0                 92477\n",
       "1                  1308"
      ]
     },
     "execution_count": 27,
     "metadata": {},
     "output_type": "execute_result"
    }
   ],
   "source": [
    "pd.DataFrame(df['covid19_test_results'].value_counts())"
   ]
  },
  {
   "cell_type": "markdown",
   "metadata": {},
   "source": [
    "All right, the rows with missing values have been dropped from our actual data frame successfully.\n",
    "\n",
    "Let's take a look at `fever`."
   ]
  },
  {
   "cell_type": "markdown",
   "metadata": {},
   "source": [
    "--- \n",
    "\n",
    "#### `fever`"
   ]
  },
  {
   "cell_type": "code",
   "execution_count": 28,
   "metadata": {},
   "outputs": [
    {
     "data": {
      "text/html": [
       "<div>\n",
       "<style scoped>\n",
       "    .dataframe tbody tr th:only-of-type {\n",
       "        vertical-align: middle;\n",
       "    }\n",
       "\n",
       "    .dataframe tbody tr th {\n",
       "        vertical-align: top;\n",
       "    }\n",
       "\n",
       "    .dataframe thead th {\n",
       "        text-align: right;\n",
       "    }\n",
       "</style>\n",
       "<table border=\"1\" class=\"dataframe\">\n",
       "  <thead>\n",
       "    <tr style=\"text-align: right;\">\n",
       "      <th></th>\n",
       "      <th>fever</th>\n",
       "    </tr>\n",
       "  </thead>\n",
       "  <tbody>\n",
       "    <tr>\n",
       "      <th>False</th>\n",
       "      <td>69012</td>\n",
       "    </tr>\n",
       "    <tr>\n",
       "      <th>True</th>\n",
       "      <td>2023</td>\n",
       "    </tr>\n",
       "    <tr>\n",
       "      <th>NAN</th>\n",
       "      <td>22750</td>\n",
       "    </tr>\n",
       "  </tbody>\n",
       "</table>\n",
       "</div>"
      ],
      "text/plain": [
       "       fever\n",
       "False  69012\n",
       "True    2023\n",
       "NAN    22750"
      ]
     },
     "execution_count": 28,
     "metadata": {},
     "output_type": "execute_result"
    }
   ],
   "source": [
    "# `fever` value counts including `NaN`\n",
    "fever = {'fever': df['fever'].value_counts().append(pd.Series(df['fever'].isna().sum(), index=['NAN']))}\n",
    "pd.DataFrame(fever)"
   ]
  },
  {
   "cell_type": "markdown",
   "metadata": {},
   "source": [
    "There are a lot of `NaN` values. How many positive tests would we lose if they were dropped?"
   ]
  },
  {
   "cell_type": "code",
   "execution_count": 29,
   "metadata": {},
   "outputs": [
    {
     "data": {
      "text/plain": [
       "covid19_test_results    202\n",
       "dtype: int64"
      ]
     },
     "execution_count": 29,
     "metadata": {},
     "output_type": "execute_result"
    }
   ],
   "source": [
    "# finding the number of positive test results we would lose if we drop `NaN` values\n",
    "df.loc[(df['fever'].isnull()) & (df['covid19_test_results'] == 1), :][['covid19_test_results']].count()"
   ]
  },
  {
   "cell_type": "markdown",
   "metadata": {},
   "source": [
    "We'd lose the data for 202 positive tests. For now, let's consider the missing values as not having a fever since that was not indicated at the time of test. We'll then binarize the data."
   ]
  },
  {
   "cell_type": "code",
   "execution_count": 30,
   "metadata": {},
   "outputs": [
    {
     "data": {
      "text/html": [
       "<div>\n",
       "<style scoped>\n",
       "    .dataframe tbody tr th:only-of-type {\n",
       "        vertical-align: middle;\n",
       "    }\n",
       "\n",
       "    .dataframe tbody tr th {\n",
       "        vertical-align: top;\n",
       "    }\n",
       "\n",
       "    .dataframe thead th {\n",
       "        text-align: right;\n",
       "    }\n",
       "</style>\n",
       "<table border=\"1\" class=\"dataframe\">\n",
       "  <thead>\n",
       "    <tr style=\"text-align: right;\">\n",
       "      <th></th>\n",
       "      <th>fever</th>\n",
       "    </tr>\n",
       "  </thead>\n",
       "  <tbody>\n",
       "    <tr>\n",
       "      <th>0</th>\n",
       "      <td>91762</td>\n",
       "    </tr>\n",
       "    <tr>\n",
       "      <th>1</th>\n",
       "      <td>2023</td>\n",
       "    </tr>\n",
       "    <tr>\n",
       "      <th>NAN</th>\n",
       "      <td>0</td>\n",
       "    </tr>\n",
       "  </tbody>\n",
       "</table>\n",
       "</div>"
      ],
      "text/plain": [
       "     fever\n",
       "0    91762\n",
       "1     2023\n",
       "NAN      0"
      ]
     },
     "execution_count": 30,
     "metadata": {},
     "output_type": "execute_result"
    }
   ],
   "source": [
    "df['fever'].fillna(False, inplace=True)\n",
    "df['fever'] = (df['fever'] * 1).astype(int)\n",
    "\n",
    "# `fever` value counts including `NaN`\n",
    "fever = {'fever': df['fever'].value_counts().append(pd.Series(df['fever'].isna().sum(), index=['NAN']))}\n",
    "pd.DataFrame(fever)"
   ]
  },
  {
   "cell_type": "markdown",
   "metadata": {},
   "source": [
    "No `Nan` values and values have been binarized."
   ]
  },
  {
   "cell_type": "markdown",
   "metadata": {},
   "source": [
    "---\n",
    "\n",
    "#### `cough_severity`"
   ]
  },
  {
   "cell_type": "markdown",
   "metadata": {},
   "source": [
    "We'll start by looking at the value counts and `NaN`s for this feature and its related feature `cough`."
   ]
  },
  {
   "cell_type": "code",
   "execution_count": 31,
   "metadata": {},
   "outputs": [
    {
     "data": {
      "text/html": [
       "<div>\n",
       "<style scoped>\n",
       "    .dataframe tbody tr th:only-of-type {\n",
       "        vertical-align: middle;\n",
       "    }\n",
       "\n",
       "    .dataframe tbody tr th {\n",
       "        vertical-align: top;\n",
       "    }\n",
       "\n",
       "    .dataframe thead th {\n",
       "        text-align: right;\n",
       "    }\n",
       "</style>\n",
       "<table border=\"1\" class=\"dataframe\">\n",
       "  <thead>\n",
       "    <tr style=\"text-align: right;\">\n",
       "      <th></th>\n",
       "      <th>cough_severity</th>\n",
       "    </tr>\n",
       "  </thead>\n",
       "  <tbody>\n",
       "    <tr>\n",
       "      <th>Mild</th>\n",
       "      <td>3963</td>\n",
       "    </tr>\n",
       "    <tr>\n",
       "      <th>Moderate</th>\n",
       "      <td>1625</td>\n",
       "    </tr>\n",
       "    <tr>\n",
       "      <th>Severe</th>\n",
       "      <td>117</td>\n",
       "    </tr>\n",
       "    <tr>\n",
       "      <th>NAN</th>\n",
       "      <td>88080</td>\n",
       "    </tr>\n",
       "  </tbody>\n",
       "</table>\n",
       "</div>"
      ],
      "text/plain": [
       "          cough_severity\n",
       "Mild                3963\n",
       "Moderate            1625\n",
       "Severe               117\n",
       "NAN                88080"
      ]
     },
     "execution_count": 31,
     "metadata": {},
     "output_type": "execute_result"
    }
   ],
   "source": [
    "pd.DataFrame({'cough_severity': df['cough_severity'].value_counts().append(pd.Series(df['cough_severity'].isna().sum(), index=['NAN']))})"
   ]
  },
  {
   "cell_type": "code",
   "execution_count": 32,
   "metadata": {},
   "outputs": [
    {
     "data": {
      "text/html": [
       "<div>\n",
       "<style scoped>\n",
       "    .dataframe tbody tr th:only-of-type {\n",
       "        vertical-align: middle;\n",
       "    }\n",
       "\n",
       "    .dataframe tbody tr th {\n",
       "        vertical-align: top;\n",
       "    }\n",
       "\n",
       "    .dataframe thead th {\n",
       "        text-align: right;\n",
       "    }\n",
       "</style>\n",
       "<table border=\"1\" class=\"dataframe\">\n",
       "  <thead>\n",
       "    <tr style=\"text-align: right;\">\n",
       "      <th></th>\n",
       "      <th>cough</th>\n",
       "    </tr>\n",
       "  </thead>\n",
       "  <tbody>\n",
       "    <tr>\n",
       "      <th>0</th>\n",
       "      <td>87952</td>\n",
       "    </tr>\n",
       "    <tr>\n",
       "      <th>1</th>\n",
       "      <td>5833</td>\n",
       "    </tr>\n",
       "    <tr>\n",
       "      <th>NAN</th>\n",
       "      <td>0</td>\n",
       "    </tr>\n",
       "  </tbody>\n",
       "</table>\n",
       "</div>"
      ],
      "text/plain": [
       "     cough\n",
       "0    87952\n",
       "1     5833\n",
       "NAN      0"
      ]
     },
     "execution_count": 32,
     "metadata": {},
     "output_type": "execute_result"
    }
   ],
   "source": [
    "pd.DataFrame({'cough': df['cough'].value_counts().append(pd.Series(df['cough'].isna().sum(), index=['NAN']))})"
   ]
  },
  {
   "cell_type": "markdown",
   "metadata": {},
   "source": [
    "There is a mismatch in the number of tests with `True` values for `cough` and the values in `cough_severity`. Where do the mismatches happen?"
   ]
  },
  {
   "cell_type": "code",
   "execution_count": 33,
   "metadata": {},
   "outputs": [
    {
     "data": {
      "text/plain": [
       "cough    647\n",
       "dtype: int64"
      ]
     },
     "execution_count": 33,
     "metadata": {},
     "output_type": "execute_result"
    }
   ],
   "source": [
    "# looking at tests with `False` for `cough`, but have a value for `cough_severity`\n",
    "df.loc[(df['cough'] == 0) & (df['cough_severity'].notnull()), :][['cough']].count()"
   ]
  },
  {
   "cell_type": "code",
   "execution_count": 34,
   "metadata": {},
   "outputs": [
    {
     "data": {
      "text/plain": [
       "cough    775\n",
       "dtype: int64"
      ]
     },
     "execution_count": 34,
     "metadata": {},
     "output_type": "execute_result"
    }
   ],
   "source": [
    "# looking at tests with `True` for `cough`, but have no value for `cough_severity`\n",
    "df.loc[(df['cough'] == 1) & (df['cough_severity'].isna()), :][['cough']].count()"
   ]
  },
  {
   "cell_type": "markdown",
   "metadata": {},
   "source": [
    "A lot of mismatches both ways here. To keep the `cough_severity` values and the `True` values for `cough`, we'll create new values under `cough_severity`: \n",
    "* `Cough_unspec` for tests with `True` for `cough` but no value for `cough_severity`\n",
    "* `No_cough` for tests with `False` for `cough` but no value for `cough_severity`\n",
    "\n",
    "We'll then create ordinal values to reflect the increase for each level of severity."
   ]
  },
  {
   "cell_type": "code",
   "execution_count": 35,
   "metadata": {},
   "outputs": [
    {
     "data": {
      "text/html": [
       "<div>\n",
       "<style scoped>\n",
       "    .dataframe tbody tr th:only-of-type {\n",
       "        vertical-align: middle;\n",
       "    }\n",
       "\n",
       "    .dataframe tbody tr th {\n",
       "        vertical-align: top;\n",
       "    }\n",
       "\n",
       "    .dataframe thead th {\n",
       "        text-align: right;\n",
       "    }\n",
       "</style>\n",
       "<table border=\"1\" class=\"dataframe\">\n",
       "  <thead>\n",
       "    <tr style=\"text-align: right;\">\n",
       "      <th></th>\n",
       "      <th>cough_comb</th>\n",
       "    </tr>\n",
       "  </thead>\n",
       "  <tbody>\n",
       "    <tr>\n",
       "      <th>No_cough</th>\n",
       "      <td>87305</td>\n",
       "    </tr>\n",
       "    <tr>\n",
       "      <th>Mild</th>\n",
       "      <td>3963</td>\n",
       "    </tr>\n",
       "    <tr>\n",
       "      <th>Moderate</th>\n",
       "      <td>1625</td>\n",
       "    </tr>\n",
       "    <tr>\n",
       "      <th>Cough_unspec</th>\n",
       "      <td>775</td>\n",
       "    </tr>\n",
       "    <tr>\n",
       "      <th>Severe</th>\n",
       "      <td>117</td>\n",
       "    </tr>\n",
       "    <tr>\n",
       "      <th>NAN</th>\n",
       "      <td>0</td>\n",
       "    </tr>\n",
       "  </tbody>\n",
       "</table>\n",
       "</div>"
      ],
      "text/plain": [
       "              cough_comb\n",
       "No_cough           87305\n",
       "Mild                3963\n",
       "Moderate            1625\n",
       "Cough_unspec         775\n",
       "Severe               117\n",
       "NAN                    0"
      ]
     },
     "execution_count": 35,
     "metadata": {},
     "output_type": "execute_result"
    }
   ],
   "source": [
    "# setting up for using np.select per documentation\n",
    "# condition list as per above logic\n",
    "condlist = [((df['cough'] == True) & (df['cough_severity'].isna())), \n",
    "            ((df['cough'] == False) & (df['cough_severity']).isna()), \n",
    "            df['cough_severity'].notnull()]\n",
    "\n",
    "# what to do for each condition\n",
    "choicelist = ['Cough_unspec', 'No_cough', df['cough_severity']]\n",
    "\n",
    "# for each case, selecting the appropriate choice to execute\n",
    "df['cough_comb'] = np.select(condlist, choicelist)\n",
    "\n",
    "# looking at the results\n",
    "pd.DataFrame({'cough_comb': df['cough_comb'].value_counts().append(pd.Series(df['cough_comb'].isna().sum(), index=['NAN']))})"
   ]
  },
  {
   "cell_type": "markdown",
   "metadata": {},
   "source": [
    "All values match are as expected. Now let's drop the original `cough` and `cough_severity` columns and map the values on a scale from 0 to 4."
   ]
  },
  {
   "cell_type": "code",
   "execution_count": 36,
   "metadata": {},
   "outputs": [
    {
     "name": "stdout",
     "output_type": "stream",
     "text": [
      "Shape before drop: (93785, 38)\n",
      "Shape after drop: (93785, 36)\n"
     ]
    }
   ],
   "source": [
    "# dropping the original columns\n",
    "print(f'Shape before drop: {df.shape}')\n",
    "\n",
    "df.drop(columns=['cough', 'cough_severity'], inplace=True)\n",
    "\n",
    "print(f'Shape after drop: {df.shape}')"
   ]
  },
  {
   "cell_type": "code",
   "execution_count": 37,
   "metadata": {},
   "outputs": [
    {
     "data": {
      "text/html": [
       "<div>\n",
       "<style scoped>\n",
       "    .dataframe tbody tr th:only-of-type {\n",
       "        vertical-align: middle;\n",
       "    }\n",
       "\n",
       "    .dataframe tbody tr th {\n",
       "        vertical-align: top;\n",
       "    }\n",
       "\n",
       "    .dataframe thead th {\n",
       "        text-align: right;\n",
       "    }\n",
       "</style>\n",
       "<table border=\"1\" class=\"dataframe\">\n",
       "  <thead>\n",
       "    <tr style=\"text-align: right;\">\n",
       "      <th></th>\n",
       "      <th>cough_comb</th>\n",
       "    </tr>\n",
       "  </thead>\n",
       "  <tbody>\n",
       "    <tr>\n",
       "      <th>0</th>\n",
       "      <td>87305</td>\n",
       "    </tr>\n",
       "    <tr>\n",
       "      <th>2</th>\n",
       "      <td>3963</td>\n",
       "    </tr>\n",
       "    <tr>\n",
       "      <th>3</th>\n",
       "      <td>1625</td>\n",
       "    </tr>\n",
       "    <tr>\n",
       "      <th>1</th>\n",
       "      <td>775</td>\n",
       "    </tr>\n",
       "    <tr>\n",
       "      <th>4</th>\n",
       "      <td>117</td>\n",
       "    </tr>\n",
       "  </tbody>\n",
       "</table>\n",
       "</div>"
      ],
      "text/plain": [
       "   cough_comb\n",
       "0       87305\n",
       "2        3963\n",
       "3        1625\n",
       "1         775\n",
       "4         117"
      ]
     },
     "execution_count": 37,
     "metadata": {},
     "output_type": "execute_result"
    }
   ],
   "source": [
    "# mapping the categories to ordinal values for our new `cough_comb` \n",
    "df['cough_comb'] = df['cough_comb'].map({'No_cough':0, 'Cough_unspec':1, 'Mild':2, 'Moderate':3, 'Severe':4})\n",
    "pd.DataFrame(df['cough_comb'].value_counts())"
   ]
  },
  {
   "cell_type": "markdown",
   "metadata": {},
   "source": [
    "The original `cough` and `cough_severity` were combined into one categorization file and dropped. The new `cough_comb` feature values have been mapped successfully."
   ]
  },
  {
   "cell_type": "markdown",
   "metadata": {},
   "source": [
    "---\n",
    "\n",
    "#### `sob_severity`"
   ]
  },
  {
   "cell_type": "markdown",
   "metadata": {},
   "source": [
    "Let's take a look at the value counts and `NaN`s for this feature and its related feature `sob`."
   ]
  },
  {
   "cell_type": "code",
   "execution_count": 38,
   "metadata": {},
   "outputs": [
    {
     "data": {
      "text/html": [
       "<div>\n",
       "<style scoped>\n",
       "    .dataframe tbody tr th:only-of-type {\n",
       "        vertical-align: middle;\n",
       "    }\n",
       "\n",
       "    .dataframe tbody tr th {\n",
       "        vertical-align: top;\n",
       "    }\n",
       "\n",
       "    .dataframe thead th {\n",
       "        text-align: right;\n",
       "    }\n",
       "</style>\n",
       "<table border=\"1\" class=\"dataframe\">\n",
       "  <thead>\n",
       "    <tr style=\"text-align: right;\">\n",
       "      <th></th>\n",
       "      <th>sob_severity</th>\n",
       "    </tr>\n",
       "  </thead>\n",
       "  <tbody>\n",
       "    <tr>\n",
       "      <th>Mild</th>\n",
       "      <td>1602</td>\n",
       "    </tr>\n",
       "    <tr>\n",
       "      <th>Moderate</th>\n",
       "      <td>1105</td>\n",
       "    </tr>\n",
       "    <tr>\n",
       "      <th>Severe</th>\n",
       "      <td>126</td>\n",
       "    </tr>\n",
       "    <tr>\n",
       "      <th>NAN</th>\n",
       "      <td>90952</td>\n",
       "    </tr>\n",
       "  </tbody>\n",
       "</table>\n",
       "</div>"
      ],
      "text/plain": [
       "          sob_severity\n",
       "Mild              1602\n",
       "Moderate          1105\n",
       "Severe             126\n",
       "NAN              90952"
      ]
     },
     "execution_count": 38,
     "metadata": {},
     "output_type": "execute_result"
    }
   ],
   "source": [
    "pd.DataFrame({'sob_severity': df['sob_severity'].value_counts().append(pd.Series(df['sob_severity'].isna().sum(), index=['NAN']))})"
   ]
  },
  {
   "cell_type": "code",
   "execution_count": 39,
   "metadata": {},
   "outputs": [
    {
     "data": {
      "text/html": [
       "<div>\n",
       "<style scoped>\n",
       "    .dataframe tbody tr th:only-of-type {\n",
       "        vertical-align: middle;\n",
       "    }\n",
       "\n",
       "    .dataframe tbody tr th {\n",
       "        vertical-align: top;\n",
       "    }\n",
       "\n",
       "    .dataframe thead th {\n",
       "        text-align: right;\n",
       "    }\n",
       "</style>\n",
       "<table border=\"1\" class=\"dataframe\">\n",
       "  <thead>\n",
       "    <tr style=\"text-align: right;\">\n",
       "      <th></th>\n",
       "      <th>sob</th>\n",
       "    </tr>\n",
       "  </thead>\n",
       "  <tbody>\n",
       "    <tr>\n",
       "      <th>0</th>\n",
       "      <td>90947</td>\n",
       "    </tr>\n",
       "    <tr>\n",
       "      <th>1</th>\n",
       "      <td>2838</td>\n",
       "    </tr>\n",
       "    <tr>\n",
       "      <th>NAN</th>\n",
       "      <td>0</td>\n",
       "    </tr>\n",
       "  </tbody>\n",
       "</table>\n",
       "</div>"
      ],
      "text/plain": [
       "       sob\n",
       "0    90947\n",
       "1     2838\n",
       "NAN      0"
      ]
     },
     "execution_count": 39,
     "metadata": {},
     "output_type": "execute_result"
    }
   ],
   "source": [
    "pd.DataFrame({'sob': df['sob'].value_counts().append(pd.Series(df['sob'].isna().sum(), index=['NAN']))})"
   ]
  },
  {
   "cell_type": "markdown",
   "metadata": {},
   "source": [
    "Similar to the previous feature pairing, there is a mismatch in the number of tests with `True` values for `sob` and the values in `sob_severity`. Where do these mismatches happen?"
   ]
  },
  {
   "cell_type": "code",
   "execution_count": 40,
   "metadata": {},
   "outputs": [
    {
     "data": {
      "text/plain": [
       "sob    486\n",
       "dtype: int64"
      ]
     },
     "execution_count": 40,
     "metadata": {},
     "output_type": "execute_result"
    }
   ],
   "source": [
    "# looking at tests with `False` for `sob`, but have a value for `sob_severity`\n",
    "df.loc[(df['sob'] == 0) & (df['sob_severity'].notnull()), :][['sob']].count()"
   ]
  },
  {
   "cell_type": "code",
   "execution_count": 41,
   "metadata": {},
   "outputs": [
    {
     "data": {
      "text/plain": [
       "sob    491\n",
       "dtype: int64"
      ]
     },
     "execution_count": 41,
     "metadata": {},
     "output_type": "execute_result"
    }
   ],
   "source": [
    "# looking at tests with `True` for `sob`, but have no value for `sob_severity`\n",
    "df.loc[(df['sob'] == 1) & (df['sob_severity'].isna()), :][['sob']].count()"
   ]
  },
  {
   "cell_type": "markdown",
   "metadata": {},
   "source": [
    "A number of mismatches both ways here. We'll employ the same process we used previously. To keep the `sob_severity` values and the `True` values for `sob`, we'll create new values under `sob_severity`: \n",
    "* `sob_unspec` for tests with `True` for `sob` but no value for `sob_severity`\n",
    "* `No_sob` for tests with `False` for `sob` but no value for `sob_severity`\n",
    "\n",
    "We'll then create ordinal values to reflect the increase for each level of severity."
   ]
  },
  {
   "cell_type": "code",
   "execution_count": 42,
   "metadata": {},
   "outputs": [
    {
     "data": {
      "text/html": [
       "<div>\n",
       "<style scoped>\n",
       "    .dataframe tbody tr th:only-of-type {\n",
       "        vertical-align: middle;\n",
       "    }\n",
       "\n",
       "    .dataframe tbody tr th {\n",
       "        vertical-align: top;\n",
       "    }\n",
       "\n",
       "    .dataframe thead th {\n",
       "        text-align: right;\n",
       "    }\n",
       "</style>\n",
       "<table border=\"1\" class=\"dataframe\">\n",
       "  <thead>\n",
       "    <tr style=\"text-align: right;\">\n",
       "      <th></th>\n",
       "      <th>sob_comb</th>\n",
       "    </tr>\n",
       "  </thead>\n",
       "  <tbody>\n",
       "    <tr>\n",
       "      <th>No_sob</th>\n",
       "      <td>90461</td>\n",
       "    </tr>\n",
       "    <tr>\n",
       "      <th>Mild</th>\n",
       "      <td>1602</td>\n",
       "    </tr>\n",
       "    <tr>\n",
       "      <th>Moderate</th>\n",
       "      <td>1105</td>\n",
       "    </tr>\n",
       "    <tr>\n",
       "      <th>sob_unspec</th>\n",
       "      <td>491</td>\n",
       "    </tr>\n",
       "    <tr>\n",
       "      <th>Severe</th>\n",
       "      <td>126</td>\n",
       "    </tr>\n",
       "    <tr>\n",
       "      <th>NAN</th>\n",
       "      <td>0</td>\n",
       "    </tr>\n",
       "  </tbody>\n",
       "</table>\n",
       "</div>"
      ],
      "text/plain": [
       "            sob_comb\n",
       "No_sob         90461\n",
       "Mild            1602\n",
       "Moderate        1105\n",
       "sob_unspec       491\n",
       "Severe           126\n",
       "NAN                0"
      ]
     },
     "execution_count": 42,
     "metadata": {},
     "output_type": "execute_result"
    }
   ],
   "source": [
    "# setting up for using np.select per documentation\n",
    "# condition list as per above logic\n",
    "condlist = [((df['sob'] == True) & (df['sob_severity'].isna())), \n",
    "            ((df['sob'] == False) & (df['sob_severity']).isna()), \n",
    "            df['sob_severity'].notnull()]\n",
    "\n",
    "# what to do for each condition\n",
    "choicelist = ['sob_unspec', 'No_sob', df['sob_severity']]\n",
    "\n",
    "# for each case, selecting the appropriate choice to execute\n",
    "df['sob_comb'] = np.select(condlist, choicelist)\n",
    "\n",
    "# looking at the results\n",
    "pd.DataFrame({'sob_comb': df['sob_comb'].value_counts().append(pd.Series(df['sob_comb'].isna().sum(), index=['NAN']))})"
   ]
  },
  {
   "cell_type": "markdown",
   "metadata": {},
   "source": [
    "All values match are as expected. Now let's drop the original `sob` and `sob_severity` columns and map the values on a scale from 0 to 4."
   ]
  },
  {
   "cell_type": "code",
   "execution_count": 43,
   "metadata": {},
   "outputs": [
    {
     "name": "stdout",
     "output_type": "stream",
     "text": [
      "Shape before drop: (93785, 37)\n",
      "Shape after drop: (93785, 35)\n"
     ]
    }
   ],
   "source": [
    "# dropping the original columns\n",
    "print(f'Shape before drop: {df.shape}')\n",
    "\n",
    "df.drop(columns=['sob', 'sob_severity'], inplace=True)\n",
    "\n",
    "print(f'Shape after drop: {df.shape}')"
   ]
  },
  {
   "cell_type": "code",
   "execution_count": 44,
   "metadata": {},
   "outputs": [
    {
     "data": {
      "text/html": [
       "<div>\n",
       "<style scoped>\n",
       "    .dataframe tbody tr th:only-of-type {\n",
       "        vertical-align: middle;\n",
       "    }\n",
       "\n",
       "    .dataframe tbody tr th {\n",
       "        vertical-align: top;\n",
       "    }\n",
       "\n",
       "    .dataframe thead th {\n",
       "        text-align: right;\n",
       "    }\n",
       "</style>\n",
       "<table border=\"1\" class=\"dataframe\">\n",
       "  <thead>\n",
       "    <tr style=\"text-align: right;\">\n",
       "      <th></th>\n",
       "      <th>sob_comb</th>\n",
       "    </tr>\n",
       "  </thead>\n",
       "  <tbody>\n",
       "    <tr>\n",
       "      <th>0</th>\n",
       "      <td>90461</td>\n",
       "    </tr>\n",
       "    <tr>\n",
       "      <th>2</th>\n",
       "      <td>1602</td>\n",
       "    </tr>\n",
       "    <tr>\n",
       "      <th>3</th>\n",
       "      <td>1105</td>\n",
       "    </tr>\n",
       "    <tr>\n",
       "      <th>1</th>\n",
       "      <td>491</td>\n",
       "    </tr>\n",
       "    <tr>\n",
       "      <th>4</th>\n",
       "      <td>126</td>\n",
       "    </tr>\n",
       "  </tbody>\n",
       "</table>\n",
       "</div>"
      ],
      "text/plain": [
       "   sob_comb\n",
       "0     90461\n",
       "2      1602\n",
       "3      1105\n",
       "1       491\n",
       "4       126"
      ]
     },
     "execution_count": 44,
     "metadata": {},
     "output_type": "execute_result"
    }
   ],
   "source": [
    "# mapping the categories to ordinal values for our new `sob_comb` \n",
    "df['sob_comb'] = df['sob_comb'].map({'No_sob':0, 'sob_unspec':1, 'Mild':2, 'Moderate':3, 'Severe':4})\n",
    "pd.DataFrame(df['sob_comb'].value_counts())"
   ]
  },
  {
   "cell_type": "markdown",
   "metadata": {},
   "source": [
    "The new `sob_comb` feature values have been mapped successfully and the original columns have been dropped.\n",
    "\n",
    "Now on to the last of the patient reported features."
   ]
  },
  {
   "cell_type": "markdown",
   "metadata": {},
   "source": [
    "---\n",
    "\n",
    "#### `days_since_symptom_onset`"
   ]
  },
  {
   "cell_type": "markdown",
   "metadata": {},
   "source": [
    "Let's start by looking at a statistic description of the values in this column."
   ]
  },
  {
   "cell_type": "code",
   "execution_count": 45,
   "metadata": {},
   "outputs": [
    {
     "data": {
      "text/html": [
       "<div>\n",
       "<style scoped>\n",
       "    .dataframe tbody tr th:only-of-type {\n",
       "        vertical-align: middle;\n",
       "    }\n",
       "\n",
       "    .dataframe tbody tr th {\n",
       "        vertical-align: top;\n",
       "    }\n",
       "\n",
       "    .dataframe thead th {\n",
       "        text-align: right;\n",
       "    }\n",
       "</style>\n",
       "<table border=\"1\" class=\"dataframe\">\n",
       "  <thead>\n",
       "    <tr style=\"text-align: right;\">\n",
       "      <th></th>\n",
       "      <th>days_since_symptom_onset</th>\n",
       "    </tr>\n",
       "  </thead>\n",
       "  <tbody>\n",
       "    <tr>\n",
       "      <th>count</th>\n",
       "      <td>15850.000000</td>\n",
       "    </tr>\n",
       "    <tr>\n",
       "      <th>mean</th>\n",
       "      <td>7.062208</td>\n",
       "    </tr>\n",
       "    <tr>\n",
       "      <th>std</th>\n",
       "      <td>17.236437</td>\n",
       "    </tr>\n",
       "    <tr>\n",
       "      <th>min</th>\n",
       "      <td>1.000000</td>\n",
       "    </tr>\n",
       "    <tr>\n",
       "      <th>25%</th>\n",
       "      <td>2.000000</td>\n",
       "    </tr>\n",
       "    <tr>\n",
       "      <th>50%</th>\n",
       "      <td>3.000000</td>\n",
       "    </tr>\n",
       "    <tr>\n",
       "      <th>75%</th>\n",
       "      <td>7.000000</td>\n",
       "    </tr>\n",
       "    <tr>\n",
       "      <th>max</th>\n",
       "      <td>300.000000</td>\n",
       "    </tr>\n",
       "  </tbody>\n",
       "</table>\n",
       "</div>"
      ],
      "text/plain": [
       "       days_since_symptom_onset\n",
       "count              15850.000000\n",
       "mean                   7.062208\n",
       "std                   17.236437\n",
       "min                    1.000000\n",
       "25%                    2.000000\n",
       "50%                    3.000000\n",
       "75%                    7.000000\n",
       "max                  300.000000"
      ]
     },
     "execution_count": 45,
     "metadata": {},
     "output_type": "execute_result"
    }
   ],
   "source": [
    "pd.DataFrame(df['days_since_symptom_onset'].describe())"
   ]
  },
  {
   "cell_type": "markdown",
   "metadata": {},
   "source": [
    "Although the datatype is float, these look like integers. Also, where is the max of 300 coming from?"
   ]
  },
  {
   "cell_type": "code",
   "execution_count": 46,
   "metadata": {},
   "outputs": [
    {
     "name": "stdout",
     "output_type": "stream",
     "text": [
      "Are values as floats the same as integer values? (Yes = True / No = False)\n"
     ]
    },
    {
     "data": {
      "text/plain": [
       "True"
      ]
     },
     "execution_count": 46,
     "metadata": {},
     "output_type": "execute_result"
    }
   ],
   "source": [
    "# are the values really all integers?\n",
    "print(f'Are values as floats the same as integer values? (Yes = True / No = False)')\n",
    "df['days_since_symptom_onset'].notnull().sum() == df['days_since_symptom_onset'].notnull().astype('int32').sum()"
   ]
  },
  {
   "cell_type": "markdown",
   "metadata": {},
   "source": [
    "With a median of 3 but a mean of 7, we'll take a look at the distribution to see the cause for the higher than expected mean and max values."
   ]
  },
  {
   "cell_type": "code",
   "execution_count": 47,
   "metadata": {},
   "outputs": [
    {
     "data": {
      "image/png": "[encoded data removed]",
      "text/plain": [
       "<Figure size 720x288 with 1 Axes>"
      ]
     },
     "metadata": {},
     "output_type": "display_data"
    }
   ],
   "source": [
    "plt.figure(figsize=(10,4))\n",
    "plt.hist(df[df['days_since_symptom_onset'].notnull()]['days_since_symptom_onset'], bins=40)\n",
    "plt.title('Days Since Symptom Onset Distribution', size=16)\n",
    "plt.xlabel('Days', size=14)\n",
    "plt.ylabel('# of Occurrences', size=14);"
   ]
  },
  {
   "cell_type": "markdown",
   "metadata": {},
   "source": [
    "There are a few values much higher than the rest. Let's look at the specifics... "
   ]
  },
  {
   "cell_type": "code",
   "execution_count": 48,
   "metadata": {},
   "outputs": [
    {
     "data": {
      "text/plain": [
       "1.0      2449\n",
       "2.0      3776\n",
       "3.0      3128\n",
       "4.0      1435\n",
       "5.0      1097\n",
       "7.0      1797\n",
       "10.0      295\n",
       "14.0      784\n",
       "21.0      342\n",
       "28.0      135\n",
       "30.0      188\n",
       "35.0       47\n",
       "49.0       26\n",
       "60.0      140\n",
       "70.0        8\n",
       "90.0      100\n",
       "120.0      32\n",
       "150.0      40\n",
       "210.0      20\n",
       "300.0      11\n",
       "Name: days_since_symptom_onset, dtype: int64"
      ]
     },
     "execution_count": 48,
     "metadata": {},
     "output_type": "execute_result"
    }
   ],
   "source": [
    "# value counts sorted by value being counted\n",
    "df['days_since_symptom_onset'].value_counts().sort_index()"
   ]
  },
  {
   "cell_type": "markdown",
   "metadata": {},
   "source": [
    "Let's convert these values to their quartiles consolidate the distribution and best reflect our data. "
   ]
  },
  {
   "cell_type": "code",
   "execution_count": 49,
   "metadata": {},
   "outputs": [
    {
     "name": "stdout",
     "output_type": "stream",
     "text": [
      "Confirming quartile values\n",
      "--------------------------\n",
      "Q1: 2.0\n",
      "Q2: 3.0\n",
      "Q3: 7.0\n"
     ]
    }
   ],
   "source": [
    "q1 = np.quantile(df[df['days_since_symptom_onset'].notnull()][['days_since_symptom_onset']], q=0.25)\n",
    "q2 = np.quantile(df[df['days_since_symptom_onset'].notnull()][['days_since_symptom_onset']], q=0.5)\n",
    "q3 = np.quantile(df[df['days_since_symptom_onset'].notnull()][['days_since_symptom_onset']], q=0.75)\n",
    "\n",
    "print(f'Confirming quartile values')\n",
    "print(f'--------------------------')\n",
    "print(f'Q1: {q1}')\n",
    "print(f'Q2: {q2}')\n",
    "print(f'Q3: {q3}')"
   ]
  },
  {
   "cell_type": "code",
   "execution_count": 50,
   "metadata": {},
   "outputs": [],
   "source": [
    "def convert_to_quartile(num, q1, q2, q3):\n",
    "    if np.isnan(num):\n",
    "        return num\n",
    "    \n",
    "    if num <= q1:\n",
    "        return int(1)\n",
    "    elif num <= q2:\n",
    "        return int(2)\n",
    "    elif num <= q3:\n",
    "        return int(3)\n",
    "    else:\n",
    "        return int(4)"
   ]
  },
  {
   "cell_type": "code",
   "execution_count": 51,
   "metadata": {},
   "outputs": [],
   "source": [
    "df['onset_quartile'] = df['days_since_symptom_onset'].map(lambda x: convert_to_quartile(x, q1, q2, q3))"
   ]
  },
  {
   "cell_type": "code",
   "execution_count": 52,
   "metadata": {},
   "outputs": [
    {
     "data": {
      "text/plain": [
       "1.0    0.392744\n",
       "2.0    0.197350\n",
       "3.0    0.273123\n",
       "4.0    0.136782\n",
       "Name: onset_quartile, dtype: float64"
      ]
     },
     "execution_count": 52,
     "metadata": {},
     "output_type": "execute_result"
    }
   ],
   "source": [
    "df['onset_quartile'].value_counts(normalize=True).sort_index()"
   ]
  },
  {
   "cell_type": "code",
   "execution_count": 53,
   "metadata": {},
   "outputs": [
    {
     "data": {
      "text/plain": [
       "1.0    6225\n",
       "2.0    3128\n",
       "3.0    4329\n",
       "4.0    2168\n",
       "Name: onset_quartile, dtype: int64"
      ]
     },
     "execution_count": 53,
     "metadata": {},
     "output_type": "execute_result"
    }
   ],
   "source": [
    "df['onset_quartile'].value_counts().sort_index()"
   ]
  },
  {
   "cell_type": "markdown",
   "metadata": {},
   "source": [
    "The breaking of the values into quartiles has resulted in heavier distributions from the lower numbers. We'll keep the breakout this way for now taking into account the following from the Carbon Health website's FAQ about false negatives:\n",
    "> **What is the false-negative rate for the antibody test?**\n",
    "Although the exact number is not known, the range that LabCorp and Quest Diagnostics have published depends on the number of days after your infection you are tested. The longer the duration, the fewer false negatives. This can range from 3-15%.\n",
    "\n",
    "Let's look at missing values. "
   ]
  },
  {
   "cell_type": "code",
   "execution_count": 54,
   "metadata": {},
   "outputs": [
    {
     "name": "stdout",
     "output_type": "stream",
     "text": [
      "Number of NaN values: 77935\n"
     ]
    }
   ],
   "source": [
    "print(f\"Number of NaN values: {df['onset_quartile'].isna().sum()}\")"
   ]
  },
  {
   "cell_type": "markdown",
   "metadata": {},
   "source": [
    "Are any of these missing values for patients with symptoms? To find out, we'll add together the values across our revised patient symptoms and see if there are any mismatches in missing values."
   ]
  },
  {
   "cell_type": "code",
   "execution_count": 55,
   "metadata": {},
   "outputs": [],
   "source": [
    "revised_patient_symptoms = ['cough_comb', 'fever', 'sob_comb', 'diarrhea', 'fatigue', 'headache', \n",
    "                            'loss_of_smell', 'loss_of_taste', 'runny_nose', 'muscle_sore', 'sore_throat']"
   ]
  },
  {
   "cell_type": "code",
   "execution_count": 56,
   "metadata": {},
   "outputs": [],
   "source": [
    "# sums values across the revised patient symptoms\n",
    "df['symptom_sum'] = df[revised_patient_symptoms].sum(axis=1)"
   ]
  },
  {
   "cell_type": "code",
   "execution_count": 57,
   "metadata": {},
   "outputs": [
    {
     "data": {
      "text/plain": [
       "symptom_sum    2251\n",
       "dtype: int64"
      ]
     },
     "execution_count": 57,
     "metadata": {},
     "output_type": "execute_result"
    }
   ],
   "source": [
    "# looking at tests with `NaN` for `onset_quartile`, but have a value in `symptom_sum`\n",
    "df.loc[(df['onset_quartile'].isna()) & (df['symptom_sum'] > 0), :][['symptom_sum']].count()"
   ]
  },
  {
   "cell_type": "code",
   "execution_count": 58,
   "metadata": {},
   "outputs": [
    {
     "data": {
      "text/plain": [
       "symptom_sum    1215\n",
       "dtype: int64"
      ]
     },
     "execution_count": 58,
     "metadata": {},
     "output_type": "execute_result"
    }
   ],
   "source": [
    "# looking at tests with a value for `onset_quartile`, but have a 0 for `symptom_sum`\n",
    "df.loc[(df['onset_quartile'].notnull()) & (df['symptom_sum']==0), :][['symptom_sum']].count()"
   ]
  },
  {
   "cell_type": "markdown",
   "metadata": {},
   "source": [
    "There are mismatches with 2,251 test records that have a at least 1 symptom but have no `onset_quartile` and 1,215 test records that have at no symptom data but have `onset quartile` values.\n",
    "\n",
    "We'll deal with these mismatches by keeping all data that is currently in the `onset_quartile` column and moving the `NaN`s for records that have symptoms to the median by giving them a value of 2. The remaining `NaN` values we'll code as a 0.\n",
    "\n",
    "The reasons are:\n",
    "* The data in the `onset_quartile` indicates potential missing data in our symptoms data. The presence of values in the column serves as an indicator of symptoms even though we don't have any specifics.\n",
    "* Adding the median value for test records that have symptoms allows this column to keep its secondary indication of a symptom and uses the median value as an informed guess.\n",
    "* By placing the remaining `Nan`s to 0, we indicate no value, but with a value present."
   ]
  },
  {
   "cell_type": "code",
   "execution_count": 59,
   "metadata": {},
   "outputs": [
    {
     "data": {
      "text/html": [
       "<div>\n",
       "<style scoped>\n",
       "    .dataframe tbody tr th:only-of-type {\n",
       "        vertical-align: middle;\n",
       "    }\n",
       "\n",
       "    .dataframe tbody tr th {\n",
       "        vertical-align: top;\n",
       "    }\n",
       "\n",
       "    .dataframe thead th {\n",
       "        text-align: right;\n",
       "    }\n",
       "</style>\n",
       "<table border=\"1\" class=\"dataframe\">\n",
       "  <thead>\n",
       "    <tr style=\"text-align: right;\">\n",
       "      <th></th>\n",
       "      <th>onset</th>\n",
       "    </tr>\n",
       "  </thead>\n",
       "  <tbody>\n",
       "    <tr>\n",
       "      <th>0</th>\n",
       "      <td>75684</td>\n",
       "    </tr>\n",
       "    <tr>\n",
       "      <th>1</th>\n",
       "      <td>6225</td>\n",
       "    </tr>\n",
       "    <tr>\n",
       "      <th>2</th>\n",
       "      <td>5379</td>\n",
       "    </tr>\n",
       "    <tr>\n",
       "      <th>3</th>\n",
       "      <td>4329</td>\n",
       "    </tr>\n",
       "    <tr>\n",
       "      <th>4</th>\n",
       "      <td>2168</td>\n",
       "    </tr>\n",
       "    <tr>\n",
       "      <th>NAN</th>\n",
       "      <td>0</td>\n",
       "    </tr>\n",
       "  </tbody>\n",
       "</table>\n",
       "</div>"
      ],
      "text/plain": [
       "     onset\n",
       "0    75684\n",
       "1     6225\n",
       "2     5379\n",
       "3     4329\n",
       "4     2168\n",
       "NAN      0"
      ]
     },
     "execution_count": 59,
     "metadata": {},
     "output_type": "execute_result"
    }
   ],
   "source": [
    "# condition list as per above logic\n",
    "condlist = [((df['onset_quartile'].isna()) & (df['symptom_sum']>0)),  \n",
    "            df['onset_quartile'].notnull(), \n",
    "            df['onset_quartile'].isna()]\n",
    "\n",
    "# what to do for each condition\n",
    "choicelist = [2, df['onset_quartile'], 0]\n",
    "\n",
    "# for each case, selecting the appropriate choice to execute\n",
    "df['onset'] = np.select(condlist, choicelist)\n",
    "df['onset'] = df['onset'].astype('int')\n",
    "\n",
    "# looking at the results\n",
    "pd.DataFrame({'onset': df['onset'].value_counts().append(pd.Series(df['onset'].isna().sum(), index=['NAN']))})"
   ]
  },
  {
   "cell_type": "markdown",
   "metadata": {},
   "source": [
    "All looks good. Let's drop our working columns: `days_since_symptom_onset`, `onset_quartile`, and `symptom_sum`."
   ]
  },
  {
   "cell_type": "code",
   "execution_count": 60,
   "metadata": {},
   "outputs": [
    {
     "name": "stdout",
     "output_type": "stream",
     "text": [
      "Shape before drop: (93785, 38)\n",
      "Shape after drop: (93785, 35)\n"
     ]
    }
   ],
   "source": [
    "print(f'Shape before drop: {df.shape}')\n",
    "df.drop(columns=['days_since_symptom_onset', 'onset_quartile', 'symptom_sum'], inplace=True)\n",
    "print(f'Shape after drop: {df.shape}')"
   ]
  },
  {
   "cell_type": "markdown",
   "metadata": {},
   "source": [
    "Everything is dropped successfully.\n",
    "\n",
    "We've now complete the initial cleaning of the patient reported features so lets create a new dataframe to hold just these features. We'll then save the data file at the end of this notebook to attempt to answer the first part of our problem statement."
   ]
  },
  {
   "cell_type": "markdown",
   "metadata": {},
   "source": [
    "---\n",
    "\n",
    "## <a name=\"patient\"></a>Clinically collected/assessed features (require availability of resources or interaction with patient)\n",
    "\n",
    "---"
   ]
  },
  {
   "cell_type": "markdown",
   "metadata": {},
   "source": [
    "Before we begin looking at the features in this section, please keep in mind the following note in the original data repository.\n",
    "\n",
    "Clinical overview:\n",
    "> Please note that the fill rates of vitals and clinician-assessed symptoms have dropped with the more recently published data batches due to the presence of a greater volume of mobile clinics, pop-up clinics, and home test kits. Clinicians are not present at these locations during the time of specimen collection, and therefore, vitals are not taken and exams are not provided.\n",
    "\n",
    "With this in mind, we'll clean to create as many complete rows of data as possible always monitoring the effects our decisions make on our small positive class sample. Let's start by making a copy of the current dataframe to work make our adjustments on."
   ]
  },
  {
   "cell_type": "code",
   "execution_count": 61,
   "metadata": {},
   "outputs": [],
   "source": [
    "clinical_df = df.copy()"
   ]
  },
  {
   "cell_type": "markdown",
   "metadata": {},
   "source": [
    "---\n",
    "\n",
    "### <a name=\"b5\"></a>Section B.5: Vitals\n",
    "* `temperature`, `pulse`, `sys` (systolic blood pressure), `dia` (diastolic blood pressure), `rr` (respiratory rate), and `sats` (oxygen saturation).\n",
    "\n",
    "Let's look at how many missing values we have for each of these features."
   ]
  },
  {
   "cell_type": "code",
   "execution_count": 62,
   "metadata": {},
   "outputs": [
    {
     "data": {
      "text/html": [
       "<div>\n",
       "<style scoped>\n",
       "    .dataframe tbody tr th:only-of-type {\n",
       "        vertical-align: middle;\n",
       "    }\n",
       "\n",
       "    .dataframe tbody tr th {\n",
       "        vertical-align: top;\n",
       "    }\n",
       "\n",
       "    .dataframe thead th {\n",
       "        text-align: right;\n",
       "    }\n",
       "</style>\n",
       "<table border=\"1\" class=\"dataframe\">\n",
       "  <thead>\n",
       "    <tr style=\"text-align: right;\">\n",
       "      <th></th>\n",
       "      <th>temperature</th>\n",
       "      <th>pulse</th>\n",
       "      <th>sys</th>\n",
       "      <th>dia</th>\n",
       "      <th>rr</th>\n",
       "      <th>sats</th>\n",
       "    </tr>\n",
       "  </thead>\n",
       "  <tbody>\n",
       "    <tr>\n",
       "      <th>NaN count</th>\n",
       "      <td>46281</td>\n",
       "      <td>45543</td>\n",
       "      <td>47299</td>\n",
       "      <td>47299</td>\n",
       "      <td>52367</td>\n",
       "      <td>46286</td>\n",
       "    </tr>\n",
       "  </tbody>\n",
       "</table>\n",
       "</div>"
      ],
      "text/plain": [
       "           temperature  pulse    sys    dia     rr   sats\n",
       "NaN count        46281  45543  47299  47299  52367  46286"
      ]
     },
     "execution_count": 62,
     "metadata": {},
     "output_type": "execute_result"
    }
   ],
   "source": [
    "# list of vitals features\n",
    "vitals = ['temperature', 'pulse', 'sys', 'dia', 'rr', 'sats']\n",
    "\n",
    "# count of `NaN` values\n",
    "pd.DataFrame({'NaN count': clinical_df[vitals].isna().sum()}).T"
   ]
  },
  {
   "cell_type": "markdown",
   "metadata": {},
   "source": [
    "If we drop all rows with missing values for these features, how would that affect balance in our target variable?"
   ]
  },
  {
   "cell_type": "code",
   "execution_count": 63,
   "metadata": {},
   "outputs": [
    {
     "name": "stdout",
     "output_type": "stream",
     "text": [
      "\n",
      "Target Variable Counts/Normalized\n",
      "---------------------------------\n"
     ]
    },
    {
     "data": {
      "text/html": [
       "<div>\n",
       "<style scoped>\n",
       "    .dataframe tbody tr th:only-of-type {\n",
       "        vertical-align: middle;\n",
       "    }\n",
       "\n",
       "    .dataframe tbody tr th {\n",
       "        vertical-align: top;\n",
       "    }\n",
       "\n",
       "    .dataframe thead th {\n",
       "        text-align: right;\n",
       "    }\n",
       "</style>\n",
       "<table border=\"1\" class=\"dataframe\">\n",
       "  <thead>\n",
       "    <tr style=\"text-align: right;\">\n",
       "      <th></th>\n",
       "      <th>Drop Test: Count</th>\n",
       "      <th>Drop Test: Normalized</th>\n",
       "      <th>Original: Count</th>\n",
       "      <th>Original: Normalized</th>\n",
       "    </tr>\n",
       "  </thead>\n",
       "  <tbody>\n",
       "    <tr>\n",
       "      <th>0</th>\n",
       "      <td>38978</td>\n",
       "      <td>0.976501</td>\n",
       "      <td>92477</td>\n",
       "      <td>0.986053</td>\n",
       "    </tr>\n",
       "    <tr>\n",
       "      <th>1</th>\n",
       "      <td>938</td>\n",
       "      <td>0.023499</td>\n",
       "      <td>1308</td>\n",
       "      <td>0.013947</td>\n",
       "    </tr>\n",
       "  </tbody>\n",
       "</table>\n",
       "</div>"
      ],
      "text/plain": [
       "   Drop Test: Count  Drop Test: Normalized  Original: Count  \\\n",
       "0             38978               0.976501            92477   \n",
       "1               938               0.023499             1308   \n",
       "\n",
       "   Original: Normalized  \n",
       "0              0.986053  \n",
       "1              0.013947  "
      ]
     },
     "execution_count": 63,
     "metadata": {},
     "output_type": "execute_result"
    }
   ],
   "source": [
    "# creating a copy of the vitals features and our target\n",
    "test_drop_df = clinical_df[vitals + ['covid19_test_results']].copy()\n",
    "\n",
    "# dropping all rows with `NaN`s\n",
    "test_drop_df.dropna(inplace=True)\n",
    "\n",
    "# showing target variable post-drop\n",
    "\n",
    "print()\n",
    "print('Target Variable Counts/Normalized')\n",
    "print('---------------------------------')\n",
    "pd.DataFrame({'Drop Test: Count': test_drop_df['covid19_test_results'].value_counts(), \n",
    "              'Drop Test: Normalized': test_drop_df['covid19_test_results'].value_counts(normalize=True), \n",
    "              'Original: Count': clinical_df['covid19_test_results'].value_counts(), \n",
    "              'Original: Normalized': clinical_df['covid19_test_results'].value_counts(normalize=True)})"
   ]
  },
  {
   "cell_type": "markdown",
   "metadata": {},
   "source": [
    "We'll lose 370 records from the positive class in our target variable, but we lose a great deal more from the negative class and the balance in our data is slightly better with a ~1% increase in the share of positive class.\n",
    "\n",
    "We'll execute the drop on our actual dataframe."
   ]
  },
  {
   "cell_type": "code",
   "execution_count": 64,
   "metadata": {},
   "outputs": [
    {
     "name": "stdout",
     "output_type": "stream",
     "text": [
      "Shape before drop: (93785, 35)\n",
      "Shape after drop: (39916, 35)\n",
      "\n",
      "Number of NaNs in \"vitals\" features\n",
      "-----------------------------------\n"
     ]
    },
    {
     "data": {
      "text/html": [
       "<div>\n",
       "<style scoped>\n",
       "    .dataframe tbody tr th:only-of-type {\n",
       "        vertical-align: middle;\n",
       "    }\n",
       "\n",
       "    .dataframe tbody tr th {\n",
       "        vertical-align: top;\n",
       "    }\n",
       "\n",
       "    .dataframe thead th {\n",
       "        text-align: right;\n",
       "    }\n",
       "</style>\n",
       "<table border=\"1\" class=\"dataframe\">\n",
       "  <thead>\n",
       "    <tr style=\"text-align: right;\">\n",
       "      <th></th>\n",
       "      <th>temperature</th>\n",
       "      <th>pulse</th>\n",
       "      <th>sys</th>\n",
       "      <th>dia</th>\n",
       "      <th>rr</th>\n",
       "      <th>sats</th>\n",
       "    </tr>\n",
       "  </thead>\n",
       "  <tbody>\n",
       "    <tr>\n",
       "      <th>NaN count</th>\n",
       "      <td>0</td>\n",
       "      <td>0</td>\n",
       "      <td>0</td>\n",
       "      <td>0</td>\n",
       "      <td>0</td>\n",
       "      <td>0</td>\n",
       "    </tr>\n",
       "  </tbody>\n",
       "</table>\n",
       "</div>"
      ],
      "text/plain": [
       "           temperature  pulse  sys  dia  rr  sats\n",
       "NaN count            0      0    0    0   0     0"
      ]
     },
     "execution_count": 64,
     "metadata": {},
     "output_type": "execute_result"
    }
   ],
   "source": [
    "print(f'Shape before drop: {clinical_df.shape}')\n",
    "\n",
    "for col in vitals:\n",
    "    clinical_df = clinical_df.loc[clinical_df[col].notnull(), :]\n",
    "\n",
    "print(f'Shape after drop: {clinical_df.shape}')\n",
    "\n",
    "print()\n",
    "print('Number of NaNs in \"vitals\" features')\n",
    "print('-----------------------------------')\n",
    "\n",
    "# count of `NaN` values\n",
    "pd.DataFrame({'NaN count': clinical_df[vitals].isna().sum()}).T"
   ]
  },
  {
   "cell_type": "code",
   "execution_count": 65,
   "metadata": {},
   "outputs": [
    {
     "name": "stdout",
     "output_type": "stream",
     "text": [
      "\n",
      "Target Variable Counts/Normalized\n",
      "---------------------------------\n"
     ]
    },
    {
     "data": {
      "text/html": [
       "<div>\n",
       "<style scoped>\n",
       "    .dataframe tbody tr th:only-of-type {\n",
       "        vertical-align: middle;\n",
       "    }\n",
       "\n",
       "    .dataframe tbody tr th {\n",
       "        vertical-align: top;\n",
       "    }\n",
       "\n",
       "    .dataframe thead th {\n",
       "        text-align: right;\n",
       "    }\n",
       "</style>\n",
       "<table border=\"1\" class=\"dataframe\">\n",
       "  <thead>\n",
       "    <tr style=\"text-align: right;\">\n",
       "      <th></th>\n",
       "      <th>Count</th>\n",
       "      <th>Normalized</th>\n",
       "    </tr>\n",
       "  </thead>\n",
       "  <tbody>\n",
       "    <tr>\n",
       "      <th>0</th>\n",
       "      <td>38978</td>\n",
       "      <td>0.976501</td>\n",
       "    </tr>\n",
       "    <tr>\n",
       "      <th>1</th>\n",
       "      <td>938</td>\n",
       "      <td>0.023499</td>\n",
       "    </tr>\n",
       "  </tbody>\n",
       "</table>\n",
       "</div>"
      ],
      "text/plain": [
       "   Count  Normalized\n",
       "0  38978    0.976501\n",
       "1    938    0.023499"
      ]
     },
     "execution_count": 65,
     "metadata": {},
     "output_type": "execute_result"
    }
   ],
   "source": [
    "print()\n",
    "print('Target Variable Counts/Normalized')\n",
    "print('---------------------------------')\n",
    "pd.DataFrame({'Count': clinical_df['covid19_test_results'].value_counts(), \n",
    "              'Normalized': clinical_df['covid19_test_results'].value_counts(normalize=True)})"
   ]
  },
  {
   "cell_type": "markdown",
   "metadata": {},
   "source": [
    "Any issues in the statistical descriptions for these features that we can spot?"
   ]
  },
  {
   "cell_type": "code",
   "execution_count": 66,
   "metadata": {},
   "outputs": [
    {
     "data": {
      "text/html": [
       "<div>\n",
       "<style scoped>\n",
       "    .dataframe tbody tr th:only-of-type {\n",
       "        vertical-align: middle;\n",
       "    }\n",
       "\n",
       "    .dataframe tbody tr th {\n",
       "        vertical-align: top;\n",
       "    }\n",
       "\n",
       "    .dataframe thead th {\n",
       "        text-align: right;\n",
       "    }\n",
       "</style>\n",
       "<table border=\"1\" class=\"dataframe\">\n",
       "  <thead>\n",
       "    <tr style=\"text-align: right;\">\n",
       "      <th></th>\n",
       "      <th>temperature</th>\n",
       "      <th>pulse</th>\n",
       "      <th>sys</th>\n",
       "      <th>dia</th>\n",
       "      <th>rr</th>\n",
       "      <th>sats</th>\n",
       "    </tr>\n",
       "  </thead>\n",
       "  <tbody>\n",
       "    <tr>\n",
       "      <th>count</th>\n",
       "      <td>39916.000000</td>\n",
       "      <td>39916.000000</td>\n",
       "      <td>39916.000000</td>\n",
       "      <td>39916.000000</td>\n",
       "      <td>39916.000000</td>\n",
       "      <td>39916.000000</td>\n",
       "    </tr>\n",
       "    <tr>\n",
       "      <th>mean</th>\n",
       "      <td>36.812784</td>\n",
       "      <td>76.387789</td>\n",
       "      <td>122.729357</td>\n",
       "      <td>78.054164</td>\n",
       "      <td>14.694383</td>\n",
       "      <td>98.294218</td>\n",
       "    </tr>\n",
       "    <tr>\n",
       "      <th>std</th>\n",
       "      <td>0.274515</td>\n",
       "      <td>12.797756</td>\n",
       "      <td>15.757176</td>\n",
       "      <td>9.263454</td>\n",
       "      <td>1.937485</td>\n",
       "      <td>1.402908</td>\n",
       "    </tr>\n",
       "    <tr>\n",
       "      <th>min</th>\n",
       "      <td>33.650000</td>\n",
       "      <td>35.000000</td>\n",
       "      <td>50.000000</td>\n",
       "      <td>15.000000</td>\n",
       "      <td>0.000000</td>\n",
       "      <td>55.000000</td>\n",
       "    </tr>\n",
       "    <tr>\n",
       "      <th>25%</th>\n",
       "      <td>36.650000</td>\n",
       "      <td>67.000000</td>\n",
       "      <td>112.000000</td>\n",
       "      <td>72.000000</td>\n",
       "      <td>13.000000</td>\n",
       "      <td>97.000000</td>\n",
       "    </tr>\n",
       "    <tr>\n",
       "      <th>50%</th>\n",
       "      <td>36.800000</td>\n",
       "      <td>76.000000</td>\n",
       "      <td>121.000000</td>\n",
       "      <td>78.000000</td>\n",
       "      <td>15.000000</td>\n",
       "      <td>98.000000</td>\n",
       "    </tr>\n",
       "    <tr>\n",
       "      <th>75%</th>\n",
       "      <td>36.950000</td>\n",
       "      <td>84.000000</td>\n",
       "      <td>132.000000</td>\n",
       "      <td>84.000000</td>\n",
       "      <td>16.000000</td>\n",
       "      <td>100.000000</td>\n",
       "    </tr>\n",
       "    <tr>\n",
       "      <th>max</th>\n",
       "      <td>39.600000</td>\n",
       "      <td>160.000000</td>\n",
       "      <td>235.000000</td>\n",
       "      <td>145.000000</td>\n",
       "      <td>40.000000</td>\n",
       "      <td>100.000000</td>\n",
       "    </tr>\n",
       "  </tbody>\n",
       "</table>\n",
       "</div>"
      ],
      "text/plain": [
       "        temperature         pulse           sys           dia            rr  \\\n",
       "count  39916.000000  39916.000000  39916.000000  39916.000000  39916.000000   \n",
       "mean      36.812784     76.387789    122.729357     78.054164     14.694383   \n",
       "std        0.274515     12.797756     15.757176      9.263454      1.937485   \n",
       "min       33.650000     35.000000     50.000000     15.000000      0.000000   \n",
       "25%       36.650000     67.000000    112.000000     72.000000     13.000000   \n",
       "50%       36.800000     76.000000    121.000000     78.000000     15.000000   \n",
       "75%       36.950000     84.000000    132.000000     84.000000     16.000000   \n",
       "max       39.600000    160.000000    235.000000    145.000000     40.000000   \n",
       "\n",
       "               sats  \n",
       "count  39916.000000  \n",
       "mean      98.294218  \n",
       "std        1.402908  \n",
       "min       55.000000  \n",
       "25%       97.000000  \n",
       "50%       98.000000  \n",
       "75%      100.000000  \n",
       "max      100.000000  "
      ]
     },
     "execution_count": 66,
     "metadata": {},
     "output_type": "execute_result"
    }
   ],
   "source": [
    "clinical_df[vitals].describe()"
   ]
  },
  {
   "cell_type": "markdown",
   "metadata": {},
   "source": [
    "There appear to be some anomalies in the data, so we'll create some boxplots to look at outliers."
   ]
  },
  {
   "cell_type": "code",
   "execution_count": 67,
   "metadata": {},
   "outputs": [
    {
     "data": {
      "image/png": "[encoded data removed]",
      "text/plain": [
       "<Figure size 1152x864 with 6 Axes>"
      ]
     },
     "metadata": {},
     "output_type": "display_data"
    }
   ],
   "source": [
    "# quickly boxplots for the categorical columns for submission\n",
    "num_of_rows = len(vitals)//2 + len(vitals)%2\n",
    "\n",
    "fig, axs = plt.subplots(num_of_rows, 2, figsize=(16,12))\n",
    "\n",
    "cat_ind = 0\n",
    "for row in range(num_of_rows):\n",
    "    for col in range(2):\n",
    "        sns.boxplot(x=clinical_df[vitals[cat_ind]], ax=axs[row, col]);\n",
    "        cat_ind += 1"
   ]
  },
  {
   "cell_type": "markdown",
   "metadata": {},
   "source": [
    "There are a number of outliers (including a record with a 0 respiratory rate):"
   ]
  },
  {
   "cell_type": "code",
   "execution_count": 68,
   "metadata": {},
   "outputs": [
    {
     "data": {
      "text/html": [
       "<div>\n",
       "<style scoped>\n",
       "    .dataframe tbody tr th:only-of-type {\n",
       "        vertical-align: middle;\n",
       "    }\n",
       "\n",
       "    .dataframe tbody tr th {\n",
       "        vertical-align: top;\n",
       "    }\n",
       "\n",
       "    .dataframe thead th {\n",
       "        text-align: right;\n",
       "    }\n",
       "</style>\n",
       "<table border=\"1\" class=\"dataframe\">\n",
       "  <thead>\n",
       "    <tr style=\"text-align: right;\">\n",
       "      <th></th>\n",
       "      <th>temperature</th>\n",
       "      <th>pulse</th>\n",
       "      <th>sys</th>\n",
       "      <th>dia</th>\n",
       "      <th>rr</th>\n",
       "      <th>sats</th>\n",
       "    </tr>\n",
       "  </thead>\n",
       "  <tbody>\n",
       "    <tr>\n",
       "      <th>23419</th>\n",
       "      <td>36.95</td>\n",
       "      <td>69.0</td>\n",
       "      <td>115.0</td>\n",
       "      <td>78.0</td>\n",
       "      <td>0.0</td>\n",
       "      <td>100.0</td>\n",
       "    </tr>\n",
       "  </tbody>\n",
       "</table>\n",
       "</div>"
      ],
      "text/plain": [
       "       temperature  pulse    sys   dia   rr   sats\n",
       "23419        36.95   69.0  115.0  78.0  0.0  100.0"
      ]
     },
     "execution_count": 68,
     "metadata": {},
     "output_type": "execute_result"
    }
   ],
   "source": [
    "clinical_df[vitals].loc[clinical_df['rr'] == 0]"
   ]
  },
  {
   "cell_type": "markdown",
   "metadata": {},
   "source": [
    "However, the mean and median values are close and we'll need to gather more information about overall error rates in data collection as well as leverage our client's medical expertise to help us determine the best course of action for cleaning.\n",
    "\n",
    "For now, we'll consider these outliers the ordinary noise and move on, with a future plan to reassess this at later time."
   ]
  },
  {
   "cell_type": "markdown",
   "metadata": {},
   "source": [
    "---\n",
    "\n",
    "### <a name=\"b6\"></a>Section B.6: Clinician Assessed Symptoms\n",
    "\n",
    "* `ctab` (whether the lung exam is normal), `labored_respiration`, `rhonchi`, and `wheezes`\n",
    "\n",
    "Since these are symptoms and the focus of answering a part of problem statement, we want to keep these features and as much data as possible."
   ]
  },
  {
   "cell_type": "code",
   "execution_count": 69,
   "metadata": {},
   "outputs": [
    {
     "data": {
      "text/html": [
       "<div>\n",
       "<style scoped>\n",
       "    .dataframe tbody tr th:only-of-type {\n",
       "        vertical-align: middle;\n",
       "    }\n",
       "\n",
       "    .dataframe tbody tr th {\n",
       "        vertical-align: top;\n",
       "    }\n",
       "\n",
       "    .dataframe thead th {\n",
       "        text-align: right;\n",
       "    }\n",
       "</style>\n",
       "<table border=\"1\" class=\"dataframe\">\n",
       "  <thead>\n",
       "    <tr style=\"text-align: right;\">\n",
       "      <th></th>\n",
       "      <th>ctab</th>\n",
       "      <th>labored_respiration</th>\n",
       "      <th>rhonchi</th>\n",
       "      <th>wheezes</th>\n",
       "    </tr>\n",
       "  </thead>\n",
       "  <tbody>\n",
       "    <tr>\n",
       "      <th>False</th>\n",
       "      <td>21614</td>\n",
       "      <td>36733</td>\n",
       "      <td>14021</td>\n",
       "      <td>15403</td>\n",
       "    </tr>\n",
       "    <tr>\n",
       "      <th>True</th>\n",
       "      <td>7961</td>\n",
       "      <td>51</td>\n",
       "      <td>6250</td>\n",
       "      <td>8377</td>\n",
       "    </tr>\n",
       "    <tr>\n",
       "      <th>NAN</th>\n",
       "      <td>10341</td>\n",
       "      <td>3132</td>\n",
       "      <td>19645</td>\n",
       "      <td>16136</td>\n",
       "    </tr>\n",
       "  </tbody>\n",
       "</table>\n",
       "</div>"
      ],
      "text/plain": [
       "        ctab  labored_respiration  rhonchi  wheezes\n",
       "False  21614                36733    14021    15403\n",
       "True    7961                   51     6250     8377\n",
       "NAN    10341                 3132    19645    16136"
      ]
     },
     "execution_count": 69,
     "metadata": {},
     "output_type": "execute_result"
    }
   ],
   "source": [
    "# list of clinical symptoms\n",
    "clinic_symptoms = ['ctab', 'labored_respiration', 'rhonchi', 'wheezes']\n",
    "\n",
    "# creating a table of values and NaNs for clinical symptom features\n",
    "clinic_symp_dict = {}\n",
    "for col in clinic_symptoms:\n",
    "    clinic_symp_dict[col] = clinical_df[col].value_counts().append(pd.Series(clinical_df[col].isna().sum(), index=['NAN']))\n",
    "\n",
    "pd.DataFrame(clinic_symp_dict)"
   ]
  },
  {
   "cell_type": "markdown",
   "metadata": {},
   "source": [
    "In order to keep these columns, we'll treat these columns as categorical. When we create dummies, the `NaN` values will be ignored and therefore serve as our default reference column for patients that were not assessed. "
   ]
  },
  {
   "cell_type": "code",
   "execution_count": 70,
   "metadata": {},
   "outputs": [],
   "source": [
    "# creating dummies\n",
    "clinical_df = pd.get_dummies(clinical_df, columns=clinic_symptoms)"
   ]
  },
  {
   "cell_type": "markdown",
   "metadata": {},
   "source": [
    "Dummies are created and no data is lost."
   ]
  },
  {
   "cell_type": "markdown",
   "metadata": {},
   "source": [
    "---\n",
    "\n",
    "### <a name=\"b7\"></a>Section B.7: Lab Results \n",
    "\n",
    "* `rapid_flu_results` and `rapid_strep_results`\n",
    "\n",
    "Let's look at the values for these features."
   ]
  },
  {
   "cell_type": "code",
   "execution_count": 71,
   "metadata": {},
   "outputs": [
    {
     "data": {
      "text/html": [
       "<div>\n",
       "<style scoped>\n",
       "    .dataframe tbody tr th:only-of-type {\n",
       "        vertical-align: middle;\n",
       "    }\n",
       "\n",
       "    .dataframe tbody tr th {\n",
       "        vertical-align: top;\n",
       "    }\n",
       "\n",
       "    .dataframe thead th {\n",
       "        text-align: right;\n",
       "    }\n",
       "</style>\n",
       "<table border=\"1\" class=\"dataframe\">\n",
       "  <thead>\n",
       "    <tr style=\"text-align: right;\">\n",
       "      <th></th>\n",
       "      <th>rapid_flu_results</th>\n",
       "      <th>rapid_strep_results</th>\n",
       "    </tr>\n",
       "  </thead>\n",
       "  <tbody>\n",
       "    <tr>\n",
       "      <th>NAN</th>\n",
       "      <td>39709.0</td>\n",
       "      <td>39589</td>\n",
       "    </tr>\n",
       "    <tr>\n",
       "      <th>Negative</th>\n",
       "      <td>206.0</td>\n",
       "      <td>304</td>\n",
       "    </tr>\n",
       "    <tr>\n",
       "      <th>Other</th>\n",
       "      <td>NaN</td>\n",
       "      <td>1</td>\n",
       "    </tr>\n",
       "    <tr>\n",
       "      <th>Positive</th>\n",
       "      <td>1.0</td>\n",
       "      <td>22</td>\n",
       "    </tr>\n",
       "  </tbody>\n",
       "</table>\n",
       "</div>"
      ],
      "text/plain": [
       "          rapid_flu_results  rapid_strep_results\n",
       "NAN                 39709.0                39589\n",
       "Negative              206.0                  304\n",
       "Other                   NaN                    1\n",
       "Positive                1.0                   22"
      ]
     },
     "execution_count": 71,
     "metadata": {},
     "output_type": "execute_result"
    }
   ],
   "source": [
    "# list of clinical symptoms\n",
    "lab_results = ['rapid_flu_results', 'rapid_strep_results']\n",
    "\n",
    "# creating a table of values and NaNs for lab results features\n",
    "lab_results_dict = {}\n",
    "for col in lab_results:\n",
    "    lab_results_dict[col] = clinical_df[col].value_counts().append(pd.Series(clinical_df[col].isna().sum(), index=['NAN']))\n",
    "\n",
    "pd.DataFrame(lab_results_dict)"
   ]
  },
  {
   "cell_type": "markdown",
   "metadata": {},
   "source": [
    "Since there are values in less than 1% of the rows and our desire to keep our focus on the test COVID-19 test result, we'll drop these features."
   ]
  },
  {
   "cell_type": "code",
   "execution_count": 72,
   "metadata": {},
   "outputs": [
    {
     "name": "stdout",
     "output_type": "stream",
     "text": [
      "Shape before drop: (39916, 39)\n",
      "Shape after drop: (39916, 37)\n"
     ]
    }
   ],
   "source": [
    "print(f'Shape before drop: {clinical_df.shape}')\n",
    "clinical_df.drop(columns=lab_results, inplace=True)\n",
    "print(f'Shape after drop: {clinical_df.shape}')"
   ]
  },
  {
   "cell_type": "markdown",
   "metadata": {},
   "source": [
    "The features were dropped successfully."
   ]
  },
  {
   "cell_type": "markdown",
   "metadata": {},
   "source": [
    "---\n",
    "\n",
    "### <a name=\"b8\"></a>Section B.8: Radiological Findings\n",
    "* `cxr_findings` (text of clinical observations), `cxr_impression` (summary of relevant findings), `cxr_label` (categorized label of findings), and `cxr_link` (link to images and full report in the Braid Health web app)\n",
    "\n",
    "Let's look at the number of rows with data."
   ]
  },
  {
   "cell_type": "code",
   "execution_count": 73,
   "metadata": {},
   "outputs": [
    {
     "name": "stdout",
     "output_type": "stream",
     "text": [
      "<class 'pandas.core.frame.DataFrame'>\n",
      "Int64Index: 39916 entries, 0 to 93994\n",
      "Data columns (total 4 columns):\n",
      " #   Column          Non-Null Count  Dtype \n",
      "---  ------          --------------  ----- \n",
      " 0   cxr_findings    566 non-null    object\n",
      " 1   cxr_impression  566 non-null    object\n",
      " 2   cxr_label       566 non-null    object\n",
      " 3   cxr_link        566 non-null    object\n",
      "dtypes: object(4)\n",
      "memory usage: 1.5+ MB\n"
     ]
    }
   ],
   "source": [
    "x_ray_features = ['cxr_findings', 'cxr_impression', 'cxr_label', 'cxr_link']\n",
    "\n",
    "clinical_df[x_ray_features].info()"
   ]
  },
  {
   "cell_type": "markdown",
   "metadata": {},
   "source": [
    "The most useful feature here would be the `cxr_label` that summarizes the info in the other columns. Here's a look at the values in that column."
   ]
  },
  {
   "cell_type": "code",
   "execution_count": 74,
   "metadata": {},
   "outputs": [
    {
     "data": {
      "text/plain": [
       "Negative       495\n",
       "Significant     66\n",
       "Critical         5\n",
       "Name: cxr_label, dtype: int64"
      ]
     },
     "execution_count": 74,
     "metadata": {},
     "output_type": "execute_result"
    }
   ],
   "source": [
    "clinical_df['cxr_label'].value_counts()"
   ]
  },
  {
   "cell_type": "markdown",
   "metadata": {},
   "source": [
    "With only 71 values that indicate any significance in the findings, we'll remove these features."
   ]
  },
  {
   "cell_type": "code",
   "execution_count": 75,
   "metadata": {},
   "outputs": [
    {
     "name": "stdout",
     "output_type": "stream",
     "text": [
      "Shape before drop: (39916, 37)\n",
      "Shape after drop: (39916, 33)\n"
     ]
    }
   ],
   "source": [
    "print(f'Shape before drop: {clinical_df.shape}')\n",
    "clinical_df.drop(columns=x_ray_features, inplace=True)\n",
    "print(f'Shape after drop: {clinical_df.shape}')"
   ]
  },
  {
   "cell_type": "markdown",
   "metadata": {},
   "source": [
    "Features dropped successfully."
   ]
  },
  {
   "cell_type": "markdown",
   "metadata": {},
   "source": [
    "---\n",
    "\n",
    "### <a name=\"b9\"></a>Section B.9: Miscellaneous Clean Up and Data Exports\n",
    "\n",
    "There are a few more columns to clean up and then we'll export for modeling.\n",
    "\n",
    "First up, `er_referral`."
   ]
  },
  {
   "cell_type": "code",
   "execution_count": 76,
   "metadata": {},
   "outputs": [
    {
     "data": {
      "text/html": [
       "<div>\n",
       "<style scoped>\n",
       "    .dataframe tbody tr th:only-of-type {\n",
       "        vertical-align: middle;\n",
       "    }\n",
       "\n",
       "    .dataframe tbody tr th {\n",
       "        vertical-align: top;\n",
       "    }\n",
       "\n",
       "    .dataframe thead th {\n",
       "        text-align: right;\n",
       "    }\n",
       "</style>\n",
       "<table border=\"1\" class=\"dataframe\">\n",
       "  <thead>\n",
       "    <tr style=\"text-align: right;\">\n",
       "      <th></th>\n",
       "      <th>er_referral</th>\n",
       "    </tr>\n",
       "  </thead>\n",
       "  <tbody>\n",
       "    <tr>\n",
       "      <th>False</th>\n",
       "      <td>5495</td>\n",
       "    </tr>\n",
       "    <tr>\n",
       "      <th>NAN</th>\n",
       "      <td>34421</td>\n",
       "    </tr>\n",
       "  </tbody>\n",
       "</table>\n",
       "</div>"
      ],
      "text/plain": [
       "       er_referral\n",
       "False         5495\n",
       "NAN          34421"
      ]
     },
     "execution_count": 76,
     "metadata": {},
     "output_type": "execute_result"
    }
   ],
   "source": [
    "pd.DataFrame({'er_referral': clinical_df['er_referral'].value_counts().append(pd.Series(clinical_df['er_referral'].isna().sum(), \n",
    "                                                                                        index=['NAN']))})"
   ]
  },
  {
   "cell_type": "markdown",
   "metadata": {},
   "source": [
    "In the notes of the data dictionary, this feature is an initial disposition and as noted earlier:\n",
    "> The data does not include results for patients with severe symptoms. We refer such patients to ER.\n",
    "\n",
    "Therefore, all patients in our data were not referred to ER. We'll drop this column."
   ]
  },
  {
   "cell_type": "code",
   "execution_count": 77,
   "metadata": {},
   "outputs": [
    {
     "name": "stdout",
     "output_type": "stream",
     "text": [
      "Shape before drop: (39916, 33)\n",
      "Shape after drop: (39916, 32)\n"
     ]
    }
   ],
   "source": [
    "print(f'Shape before drop: {clinical_df.shape}')\n",
    "clinical_df.drop(columns=['er_referral'], inplace=True)\n",
    "print(f'Shape after drop: {clinical_df.shape}')"
   ]
  },
  {
   "cell_type": "markdown",
   "metadata": {},
   "source": [
    "Column dropped successfully...any remaining missing values?"
   ]
  },
  {
   "cell_type": "code",
   "execution_count": 78,
   "metadata": {},
   "outputs": [
    {
     "name": "stdout",
     "output_type": "stream",
     "text": [
      "<class 'pandas.core.frame.DataFrame'>\n",
      "Int64Index: 39916 entries, 0 to 93994\n",
      "Data columns (total 32 columns):\n",
      " #   Column                     Non-Null Count  Dtype  \n",
      "---  ------                     --------------  -----  \n",
      " 0   batch_date                 39916 non-null  object \n",
      " 1   test_name                  39916 non-null  object \n",
      " 2   swab_type                  39916 non-null  object \n",
      " 3   covid19_test_results       39916 non-null  int64  \n",
      " 4   age                        39916 non-null  int64  \n",
      " 5   temperature                39916 non-null  float64\n",
      " 6   pulse                      39916 non-null  float64\n",
      " 7   sys                        39916 non-null  float64\n",
      " 8   dia                        39916 non-null  float64\n",
      " 9   rr                         39916 non-null  float64\n",
      " 10  sats                       39916 non-null  float64\n",
      " 11  fever                      39916 non-null  int64  \n",
      " 12  diarrhea                   39916 non-null  int64  \n",
      " 13  fatigue                    39916 non-null  int64  \n",
      " 14  headache                   39916 non-null  int64  \n",
      " 15  loss_of_smell              39916 non-null  int64  \n",
      " 16  loss_of_taste              39916 non-null  int64  \n",
      " 17  runny_nose                 39916 non-null  int64  \n",
      " 18  muscle_sore                39916 non-null  int64  \n",
      " 19  sore_throat                39916 non-null  int64  \n",
      " 20  high_risk_comb             39916 non-null  int64  \n",
      " 21  cough_comb                 39916 non-null  int64  \n",
      " 22  sob_comb                   39916 non-null  int64  \n",
      " 23  onset                      39916 non-null  int64  \n",
      " 24  ctab_False                 39916 non-null  uint8  \n",
      " 25  ctab_True                  39916 non-null  uint8  \n",
      " 26  labored_respiration_False  39916 non-null  uint8  \n",
      " 27  labored_respiration_True   39916 non-null  uint8  \n",
      " 28  rhonchi_False              39916 non-null  uint8  \n",
      " 29  rhonchi_True               39916 non-null  uint8  \n",
      " 30  wheezes_False              39916 non-null  uint8  \n",
      " 31  wheezes_True               39916 non-null  uint8  \n",
      "dtypes: float64(6), int64(15), object(3), uint8(8)\n",
      "memory usage: 7.9+ MB\n"
     ]
    }
   ],
   "source": [
    "clinical_df.info()"
   ]
  },
  {
   "cell_type": "markdown",
   "metadata": {},
   "source": [
    "---\n",
    "\n",
    "## <a name=\"export\"></a>Section C: Data Exports\n",
    "\n",
    "---"
   ]
  },
  {
   "cell_type": "markdown",
   "metadata": {},
   "source": [
    "#### Data Export of Patient Symptoms"
   ]
  },
  {
   "cell_type": "code",
   "execution_count": 79,
   "metadata": {},
   "outputs": [],
   "source": [
    "# selecting the relevant columns for this dataframe\n",
    "final_patient_reported = ['onset', 'cough_comb', 'fever', 'sob_comb', 'diarrhea', 'fatigue', 'headache', \n",
    "                          'loss_of_smell', 'loss_of_taste', 'runny_nose', 'muscle_sore', 'sore_throat', \n",
    "                          'covid19_test_results']\n",
    "\n",
    "patient_symptoms_df = df[final_patient_reported].copy()"
   ]
  },
  {
   "cell_type": "code",
   "execution_count": 80,
   "metadata": {},
   "outputs": [],
   "source": [
    "# uncomment to save\n",
    "# patient_symptoms_df.to_csv('./data/cleaned_data/patient_symptoms.csv', index=False)"
   ]
  },
  {
   "cell_type": "code",
   "execution_count": 81,
   "metadata": {},
   "outputs": [
    {
     "name": "stdout",
     "output_type": "stream",
     "text": [
      "<class 'pandas.core.frame.DataFrame'>\n",
      "Int64Index: 93785 entries, 0 to 93994\n",
      "Data columns (total 13 columns):\n",
      " #   Column                Non-Null Count  Dtype\n",
      "---  ------                --------------  -----\n",
      " 0   onset                 93785 non-null  int64\n",
      " 1   cough_comb            93785 non-null  int64\n",
      " 2   fever                 93785 non-null  int64\n",
      " 3   sob_comb              93785 non-null  int64\n",
      " 4   diarrhea              93785 non-null  int64\n",
      " 5   fatigue               93785 non-null  int64\n",
      " 6   headache              93785 non-null  int64\n",
      " 7   loss_of_smell         93785 non-null  int64\n",
      " 8   loss_of_taste         93785 non-null  int64\n",
      " 9   runny_nose            93785 non-null  int64\n",
      " 10  muscle_sore           93785 non-null  int64\n",
      " 11  sore_throat           93785 non-null  int64\n",
      " 12  covid19_test_results  93785 non-null  int64\n",
      "dtypes: int64(13)\n",
      "memory usage: 10.0 MB\n"
     ]
    }
   ],
   "source": [
    "patient_symptoms_df.info()"
   ]
  },
  {
   "cell_type": "markdown",
   "metadata": {},
   "source": [
    "---\n",
    "\n",
    "#### Data Export of Cleaned Clinical Symptom Assessment and Patient Symptoms"
   ]
  },
  {
   "cell_type": "code",
   "execution_count": 83,
   "metadata": {},
   "outputs": [],
   "source": [
    "# selecting relevant symptoms from clinical and patient features for analysis\n",
    "final_clinical_and_patient = ['temperature', 'pulse', 'sys', 'dia', 'rr', 'sats', 'diarrhea',\n",
    "       'fatigue', 'headache', 'loss_of_smell', 'loss_of_taste', 'runny_nose',\n",
    "       'muscle_sore', 'sore_throat', 'cough_comb',\n",
    "       'sob_comb', 'onset', 'ctab_False', 'ctab_True',\n",
    "       'labored_respiration_False', 'labored_respiration_True',\n",
    "       'rhonchi_False', 'rhonchi_True', 'wheezes_False', 'wheezes_True', 'covid19_test_results']\n",
    "\n",
    "comb_pat_clin_df = clinical_df[final_clinical_and_patient].copy()"
   ]
  },
  {
   "cell_type": "code",
   "execution_count": 84,
   "metadata": {},
   "outputs": [],
   "source": [
    "# uncomment to save\n",
    "# comb_pat_clin_df.to_csv('./data/cleaned_data/clinical_patient_comb.csv', index=False)"
   ]
  },
  {
   "cell_type": "code",
   "execution_count": 85,
   "metadata": {},
   "outputs": [
    {
     "name": "stdout",
     "output_type": "stream",
     "text": [
      "<class 'pandas.core.frame.DataFrame'>\n",
      "Int64Index: 39916 entries, 0 to 93994\n",
      "Data columns (total 26 columns):\n",
      " #   Column                     Non-Null Count  Dtype  \n",
      "---  ------                     --------------  -----  \n",
      " 0   temperature                39916 non-null  float64\n",
      " 1   pulse                      39916 non-null  float64\n",
      " 2   sys                        39916 non-null  float64\n",
      " 3   dia                        39916 non-null  float64\n",
      " 4   rr                         39916 non-null  float64\n",
      " 5   sats                       39916 non-null  float64\n",
      " 6   diarrhea                   39916 non-null  int64  \n",
      " 7   fatigue                    39916 non-null  int64  \n",
      " 8   headache                   39916 non-null  int64  \n",
      " 9   loss_of_smell              39916 non-null  int64  \n",
      " 10  loss_of_taste              39916 non-null  int64  \n",
      " 11  runny_nose                 39916 non-null  int64  \n",
      " 12  muscle_sore                39916 non-null  int64  \n",
      " 13  sore_throat                39916 non-null  int64  \n",
      " 14  cough_comb                 39916 non-null  int64  \n",
      " 15  sob_comb                   39916 non-null  int64  \n",
      " 16  onset                      39916 non-null  int64  \n",
      " 17  ctab_False                 39916 non-null  uint8  \n",
      " 18  ctab_True                  39916 non-null  uint8  \n",
      " 19  labored_respiration_False  39916 non-null  uint8  \n",
      " 20  labored_respiration_True   39916 non-null  uint8  \n",
      " 21  rhonchi_False              39916 non-null  uint8  \n",
      " 22  rhonchi_True               39916 non-null  uint8  \n",
      " 23  wheezes_False              39916 non-null  uint8  \n",
      " 24  wheezes_True               39916 non-null  uint8  \n",
      " 25  covid19_test_results       39916 non-null  int64  \n",
      "dtypes: float64(6), int64(12), uint8(8)\n",
      "memory usage: 6.1 MB\n"
     ]
    }
   ],
   "source": [
    "comb_pat_clin_df.info()"
   ]
  }
 ],
 "metadata": {
  "kernelspec": {
   "display_name": "Python [conda env:dsi] *",
   "language": "python",
   "name": "conda-env-dsi-py"
  },
  "language_info": {
   "codemirror_mode": {
    "name": "ipython",
    "version": 3
   },
   "file_extension": ".py",
   "mimetype": "text/x-python",
   "name": "python",
   "nbconvert_exporter": "python",
   "pygments_lexer": "ipython3",
   "version": "3.7.9"
  }
 },
 "nbformat": 4,
 "nbformat_minor": 4
}
