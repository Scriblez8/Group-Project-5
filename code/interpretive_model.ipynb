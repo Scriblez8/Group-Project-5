{
 "cells": [
  {
   "cell_type": "markdown",
   "metadata": {},
   "source": [
    "# 02: Interpretable Model\n",
    "\n",
    "Our goals for this notebook:\n",
    "1. Build a logistic regression model.\n",
    "    * In order to have interpretability for the symptoms, we'll build a logistic regression model that will provide log-odds betas for each feature allowing us to analyze each feature's individual influence on the odds of a COVID-19 test being positive.\n",
    "2. Attempt to improve our model through oversampling and undersampling strategies to correct for the imbalance in our target variable.\n",
    "    * Special thanks to Jason Brownlee and his posts ['Cost-Sensitive Logistic Regression for Imbalanced Classification'](https://machinelearningmastery.com/cost-sensitive-logistic-regression/) and ['Random Oversampling and Undersampling for Imbalanced Classification'](https://machinelearningmastery.com/random-oversampling-and-undersampling-for-imbalanced-classification/).\n",
    "\n",
    "**Please note:** We will evaluate the fit of our model based on the true positive rate (also called recall or sensitivity). This metric measures our ability to maximize classifying actual positive tests correctly as we seek to minimize the number of actual positive tests that our model incorrectly classifies as negative tests."
   ]
  },
  {
   "cell_type": "code",
   "execution_count": 1,
   "metadata": {},
   "outputs": [],
   "source": [
    "import numpy as np\n",
    "import pandas as pd\n",
    "import matplotlib.pyplot as plt\n",
    "import seaborn as sns\n",
    "\n",
    "from imblearn.pipeline import Pipeline\n",
    "from imblearn.over_sampling import RandomOverSampler, SMOTE\n",
    "from imblearn.under_sampling import RandomUnderSampler\n",
    "\n",
    "from sklearn.model_selection import train_test_split, GridSearchCV, RepeatedStratifiedKFold, cross_val_score\n",
    "from sklearn.linear_model import LogisticRegression\n",
    "from sklearn.metrics import confusion_matrix, accuracy_score, recall_score, classification_report\n",
    "\n",
    "import statsmodels.api as sm\n",
    "\n",
    "# set a random seed\n",
    "np.random.seed(42)"
   ]
  },
  {
   "cell_type": "markdown",
   "metadata": {},
   "source": [
    "## Model A: Patient Reported Symptom Features Only"
   ]
  },
  {
   "cell_type": "markdown",
   "metadata": {},
   "source": [
    "### Load Data"
   ]
  },
  {
   "cell_type": "markdown",
   "metadata": {},
   "source": [
    "We'll start by loading the data file for patient symptoms that we cleaned in our first notebook."
   ]
  },
  {
   "cell_type": "code",
   "execution_count": 2,
   "metadata": {},
   "outputs": [],
   "source": [
    "patient = pd.read_csv('../data/cleaned_data/patient_symptoms.csv')"
   ]
  },
  {
   "cell_type": "code",
   "execution_count": 3,
   "metadata": {},
   "outputs": [
    {
     "data": {
      "text/html": [
       "<div>\n",
       "<style scoped>\n",
       "    .dataframe tbody tr th:only-of-type {\n",
       "        vertical-align: middle;\n",
       "    }\n",
       "\n",
       "    .dataframe tbody tr th {\n",
       "        vertical-align: top;\n",
       "    }\n",
       "\n",
       "    .dataframe thead th {\n",
       "        text-align: right;\n",
       "    }\n",
       "</style>\n",
       "<table border=\"1\" class=\"dataframe\">\n",
       "  <thead>\n",
       "    <tr style=\"text-align: right;\">\n",
       "      <th></th>\n",
       "      <th>onset</th>\n",
       "      <th>cough_comb</th>\n",
       "      <th>fever</th>\n",
       "      <th>sob_comb</th>\n",
       "      <th>diarrhea</th>\n",
       "      <th>fatigue</th>\n",
       "      <th>headache</th>\n",
       "      <th>loss_of_smell</th>\n",
       "      <th>loss_of_taste</th>\n",
       "      <th>runny_nose</th>\n",
       "      <th>muscle_sore</th>\n",
       "      <th>sore_throat</th>\n",
       "      <th>covid19_test_results</th>\n",
       "    </tr>\n",
       "  </thead>\n",
       "  <tbody>\n",
       "    <tr>\n",
       "      <th>0</th>\n",
       "      <td>0</td>\n",
       "      <td>0</td>\n",
       "      <td>0</td>\n",
       "      <td>0</td>\n",
       "      <td>0</td>\n",
       "      <td>0</td>\n",
       "      <td>0</td>\n",
       "      <td>0</td>\n",
       "      <td>0</td>\n",
       "      <td>0</td>\n",
       "      <td>0</td>\n",
       "      <td>0</td>\n",
       "      <td>0</td>\n",
       "    </tr>\n",
       "    <tr>\n",
       "      <th>1</th>\n",
       "      <td>0</td>\n",
       "      <td>0</td>\n",
       "      <td>0</td>\n",
       "      <td>0</td>\n",
       "      <td>0</td>\n",
       "      <td>0</td>\n",
       "      <td>0</td>\n",
       "      <td>0</td>\n",
       "      <td>0</td>\n",
       "      <td>0</td>\n",
       "      <td>0</td>\n",
       "      <td>0</td>\n",
       "      <td>0</td>\n",
       "    </tr>\n",
       "    <tr>\n",
       "      <th>2</th>\n",
       "      <td>0</td>\n",
       "      <td>0</td>\n",
       "      <td>0</td>\n",
       "      <td>0</td>\n",
       "      <td>0</td>\n",
       "      <td>0</td>\n",
       "      <td>0</td>\n",
       "      <td>0</td>\n",
       "      <td>0</td>\n",
       "      <td>0</td>\n",
       "      <td>0</td>\n",
       "      <td>0</td>\n",
       "      <td>0</td>\n",
       "    </tr>\n",
       "    <tr>\n",
       "      <th>3</th>\n",
       "      <td>0</td>\n",
       "      <td>0</td>\n",
       "      <td>0</td>\n",
       "      <td>0</td>\n",
       "      <td>0</td>\n",
       "      <td>0</td>\n",
       "      <td>0</td>\n",
       "      <td>0</td>\n",
       "      <td>0</td>\n",
       "      <td>0</td>\n",
       "      <td>0</td>\n",
       "      <td>0</td>\n",
       "      <td>0</td>\n",
       "    </tr>\n",
       "    <tr>\n",
       "      <th>4</th>\n",
       "      <td>2</td>\n",
       "      <td>0</td>\n",
       "      <td>0</td>\n",
       "      <td>0</td>\n",
       "      <td>0</td>\n",
       "      <td>1</td>\n",
       "      <td>1</td>\n",
       "      <td>0</td>\n",
       "      <td>0</td>\n",
       "      <td>0</td>\n",
       "      <td>0</td>\n",
       "      <td>0</td>\n",
       "      <td>0</td>\n",
       "    </tr>\n",
       "  </tbody>\n",
       "</table>\n",
       "</div>"
      ],
      "text/plain": [
       "   onset  cough_comb  fever  sob_comb  diarrhea  fatigue  headache  \\\n",
       "0      0           0      0         0         0        0         0   \n",
       "1      0           0      0         0         0        0         0   \n",
       "2      0           0      0         0         0        0         0   \n",
       "3      0           0      0         0         0        0         0   \n",
       "4      2           0      0         0         0        1         1   \n",
       "\n",
       "   loss_of_smell  loss_of_taste  runny_nose  muscle_sore  sore_throat  \\\n",
       "0              0              0           0            0            0   \n",
       "1              0              0           0            0            0   \n",
       "2              0              0           0            0            0   \n",
       "3              0              0           0            0            0   \n",
       "4              0              0           0            0            0   \n",
       "\n",
       "   covid19_test_results  \n",
       "0                     0  \n",
       "1                     0  \n",
       "2                     0  \n",
       "3                     0  \n",
       "4                     0  "
      ]
     },
     "execution_count": 3,
     "metadata": {},
     "output_type": "execute_result"
    }
   ],
   "source": [
    "patient.head()"
   ]
  },
  {
   "cell_type": "code",
   "execution_count": 4,
   "metadata": {},
   "outputs": [
    {
     "data": {
      "text/plain": [
       "(93785, 13)"
      ]
     },
     "execution_count": 4,
     "metadata": {},
     "output_type": "execute_result"
    }
   ],
   "source": [
    "patient.shape"
   ]
  },
  {
   "cell_type": "markdown",
   "metadata": {},
   "source": [
    "Everything is as expected."
   ]
  },
  {
   "cell_type": "markdown",
   "metadata": {},
   "source": [
    "### Base Logistic Regression"
   ]
  },
  {
   "cell_type": "markdown",
   "metadata": {},
   "source": [
    "Before we begin, let's take a look at the accuracy and recall scores for a base logistic regression to see how it handles our imbalanced classes."
   ]
  },
  {
   "cell_type": "code",
   "execution_count": 5,
   "metadata": {},
   "outputs": [],
   "source": [
    "# set up X and y\n",
    "X = patient.drop(columns='covid19_test_results')\n",
    "y = patient['covid19_test_results']"
   ]
  },
  {
   "cell_type": "code",
   "execution_count": 6,
   "metadata": {},
   "outputs": [
    {
     "data": {
      "text/plain": [
       "0    0.986053\n",
       "1    0.013947\n",
       "Name: covid19_test_results, dtype: float64"
      ]
     },
     "execution_count": 6,
     "metadata": {},
     "output_type": "execute_result"
    }
   ],
   "source": [
    "# baseline\n",
    "y.value_counts(normalize=True)"
   ]
  },
  {
   "cell_type": "code",
   "execution_count": 7,
   "metadata": {},
   "outputs": [
    {
     "name": "stdout",
     "output_type": "stream",
     "text": [
      "Mean cross-val accuracy score: 0.9859394756149747\n",
      "Mean cross-val recall score: 0.023466431787042476\n"
     ]
    }
   ],
   "source": [
    "# instantiate model\n",
    "logreg = LogisticRegression(penalty='none')\n",
    "\n",
    "# stratified cross-validation\n",
    "cv = RepeatedStratifiedKFold(n_splits=10, n_repeats=3, random_state = 42)\n",
    "\n",
    "print(f'Mean cross-val accuracy score: {cross_val_score(estimator=logreg, scoring=\"accuracy\", X=X, y=y, cv=cv).mean()}')\n",
    "print(f'Mean cross-val recall score: {cross_val_score(estimator=logreg, scoring=\"recall\", X=X, y=y, cv=cv).mean()}')"
   ]
  },
  {
   "cell_type": "markdown",
   "metadata": {},
   "source": [
    "The baseline results for the logistic regression (with no penalty) from the three repeats of a stratified 10-fold cross-validation are as expected: accuracy matches the baseline, but our ability to predict the true positive rate is very low due to the imbalance in our classes (only 2.3% of all positive tests are classified correctly)."
   ]
  },
  {
   "cell_type": "markdown",
   "metadata": {},
   "source": [
    "### Weighted Logistic Regression (using `class_weight = 'balanced'`)"
   ]
  },
  {
   "cell_type": "markdown",
   "metadata": {},
   "source": [
    "There is a built-in parameter in logistic regression that will allow us to apply the generalized best practice of using applying class weighting to each class that is the inverse of it's distribution in our dataset. Let's see how setting the autobalancing via the `class_weight` parameter affects our recall and accuracy scores using cross-validation."
   ]
  },
  {
   "cell_type": "code",
   "execution_count": 8,
   "metadata": {},
   "outputs": [
    {
     "name": "stdout",
     "output_type": "stream",
     "text": [
      "Mean cross-val accuracy score: 0.8715074908481216\n",
      "Mean cross-val recall score: 0.5213994910941476\n"
     ]
    }
   ],
   "source": [
    "# instantiate model specifing balanced class weights\n",
    "logreg = LogisticRegression(penalty='none', class_weight='balanced')\n",
    "\n",
    "# stratified cross-validation\n",
    "cv = RepeatedStratifiedKFold(n_splits=10, n_repeats=3, random_state = 42)\n",
    "\n",
    "print(f'Mean cross-val accuracy score: {cross_val_score(estimator=logreg, scoring=\"accuracy\", X=X, y=y, cv=cv).mean()}')\n",
    "print(f'Mean cross-val recall score: {cross_val_score(estimator=logreg, scoring=\"recall\", X=X, y=y, cv=cv).mean()}')"
   ]
  },
  {
   "cell_type": "markdown",
   "metadata": {},
   "source": [
    "By balancing the classes, our accuracy has decreased, but our recall score has improved markedly from only being able to  . This \n",
    "\n",
    "We could grid search through weights, but let's see what random oversampling and undersampling can perform. "
   ]
  },
  {
   "cell_type": "markdown",
   "metadata": {},
   "source": [
    "### Random Oversampling and Undersampling"
   ]
  },
  {
   "cell_type": "markdown",
   "metadata": {},
   "source": [
    "To help correct our imbalanced classes, we've imported the imbalanced-learn library. This will give us access to the RandomOverSampler and RandomUnderSampler that will allow to test various strategies of bootstrapping our training data by replicating or dropping random rows to aid us in fitting the best model possible based on recall score.\n",
    "\n",
    "In order to create a pipeline for our grid search, we'll utilize imbalanced-learn's Pipeline rather than scikit-learn. The reason for this is that with this pipeline the over- and undersampling that will applied when fitting the model to training data will not be applied when predicting on test data. "
   ]
  },
  {
   "cell_type": "code",
   "execution_count": 9,
   "metadata": {},
   "outputs": [],
   "source": [
    "# train / test / split\n",
    "X_train, X_test, y_train, y_test = train_test_split(X, y, random_state=42, test_size=0.4, stratify=y)"
   ]
  },
  {
   "cell_type": "code",
   "execution_count": 10,
   "metadata": {},
   "outputs": [
    {
     "name": "stdout",
     "output_type": "stream",
     "text": [
      "Best params: {'logreg__penalty': 'none', 'logreg__solver': 'newton-cg', 'over__sampling_strategy': 0.30000000000000004, 'under__sampling_strategy': 1.0}\n",
      "Best score (recall): 0.5176566049983772\n",
      "Train accuracy score: 0.8679781770361288\n",
      "Test accuracy score: 0.86751612731247\n",
      "Train recall score: 0.5261146496815287\n",
      "Test recall score: 0.5372848948374761\n"
     ]
    }
   ],
   "source": [
    "np.random.seed(42)\n",
    "\n",
    "# pipeline with oversampling, undersampling, and our logistic regression\n",
    "pipe = Pipeline([\n",
    "    ('over', RandomOverSampler()), # random sampling with replacement of the minority class\n",
    "    ('under', RandomUnderSampler()), # random sampling of majority class to match ratio\n",
    "    ('logreg', LogisticRegression())\n",
    "])\n",
    "\n",
    "# parameters to grid search over for the steps in our pipeline\n",
    "pipe_params = {\n",
    "    'logreg__penalty': ['none'], # no regularization will be applied\n",
    "    'logreg__solver': ['newton-cg', 'lbfgs'],\n",
    "    'over__sampling_strategy': np.linspace(0.1, 0.4, 4), # values are the ratio of minority class / majority class\n",
    "    'under__sampling_strategy': [0.5, 0.75, 1.0] # values are the ratio of minority class / majority class\n",
    "}\n",
    "\n",
    "# stratified cross-validation with 10 folds repeated 3 times\n",
    "cv = RepeatedStratifiedKFold(n_splits=10, n_repeats=3, random_state = 42)\n",
    "\n",
    "# grid search optimizing for recall score\n",
    "gs = GridSearchCV(estimator=pipe, param_grid=pipe_params, scoring='recall', cv=cv)\n",
    "\n",
    "# fitting model\n",
    "gs.fit(X_train, y_train)\n",
    "\n",
    "# output params and scores of best model\n",
    "print(f'Best params: {gs.best_params_}')\n",
    "print(f'Best score (recall): {gs.best_score_}')\n",
    "print(f'Train accuracy score: {accuracy_score(y_train, gs.predict(X_train))}')\n",
    "print(f'Test accuracy score: {accuracy_score(y_test, gs.predict(X_test))}')\n",
    "print(f'Train recall score: {gs.score(X_train, y_train)}')\n",
    "print(f'Test recall score: {gs.score(X_test, y_test)}')"
   ]
  },
  {
   "cell_type": "markdown",
   "metadata": {},
   "source": [
    "The model resulting from our grid search has recall scores for training and testing data around 53%, not much of difference from our cross-val testing score for the logistic regression model with balanced weighting. With the limitations of our data (lack of testing data for patients with sever symptoms / the imbalanced classes), we likely won't improve on this recall score without additional data.\n",
    "\n",
    "In order to analyze the data we do have, we'll build a logistic regression model from statemodels using the best parameters from our grid search. The statsmodels version of logistic regression will give access to the betas and p-values.\n",
    "\n",
    "To summarize our best parameters from the grid search, we'll be building a logistic regression model with:\n",
    "* no penalty attached\n",
    "* using the newton-cg solver\n",
    "* with an oversampling strategy of 0.3\n",
    "    * the minority class will be randomly sampled with replacement until its number of observations are 30% of the number of observations in the majority class.\n",
    "* with an undersampling strategy of 1.0\n",
    "    * the majority class will randomly drop observations until the number of observations in the minority and majority class are the same.\n",
    "    \n",
    "In regards to this over- and undersampling:\n",
    "* We have randomly duplicated our minority class observations growing it to almost 30x its regular size. Depending on the quality of the data and the vagaries of random sample, we may have replicated erroneous or misleading observations along with useful ones. \n",
    "* We are potentially losing a lot of valuable data by dropping this many observations (nearly 64k) from the majority class as we match it to the level of our augmented minority class."
   ]
  },
  {
   "cell_type": "markdown",
   "metadata": {},
   "source": [
    "### StatsModels Logistic Regression"
   ]
  },
  {
   "cell_type": "markdown",
   "metadata": {},
   "source": [
    "Now to build our the statsmodels logistic regression."
   ]
  },
  {
   "cell_type": "code",
   "execution_count": 11,
   "metadata": {},
   "outputs": [
    {
     "name": "stdout",
     "output_type": "stream",
     "text": [
      "Optimization terminated successfully.\n",
      "         Current function value: 0.578427\n",
      "         Iterations: 8\n",
      "         Function evaluations: 9\n",
      "         Gradient evaluations: 9\n",
      "         Hessian evaluations: 8\n"
     ]
    }
   ],
   "source": [
    "np.random.seed(42)\n",
    "\n",
    "# set oversampling strategy\n",
    "over = RandomOverSampler(sampling_strategy=0.3)\n",
    "X_resamp, y_resamp = over.fit_resample(X_train, y_train)\n",
    "\n",
    "# set undersampling strategy\n",
    "under = RandomUnderSampler(sampling_strategy=1.0)\n",
    "X_resamp, y_resamp = under.fit_resample(X_resamp, y_resamp)\n",
    "\n",
    "# adding required constant in training and test data\n",
    "X_resamp = sm.add_constant(X_resamp)\n",
    "X_train = sm.add_constant(X_train)\n",
    "X_test = sm.add_constant(X_test)\n",
    "\n",
    "# instantiate and fit model\n",
    "sm_logreg = sm.Logit(y_resamp, X_resamp).fit(method='ncg') # fitting with the newton-cg solver"
   ]
  },
  {
   "cell_type": "code",
   "execution_count": 12,
   "metadata": {},
   "outputs": [
    {
     "data": {
      "text/html": [
       "<table class=\"simpletable\">\n",
       "<tr>\n",
       "        <td>Model:</td>                <td>Logit</td>        <td>Pseudo R-squared:</td>    <td>0.166</td>  \n",
       "</tr>\n",
       "<tr>\n",
       "  <td>Dependent Variable:</td> <td>covid19_test_results</td>       <td>AIC:</td>        <td>38537.6766</td>\n",
       "</tr>\n",
       "<tr>\n",
       "         <td>Date:</td>          <td>2020-12-23 06:47</td>         <td>BIC:</td>        <td>38647.0457</td>\n",
       "</tr>\n",
       "<tr>\n",
       "   <td>No. Observations:</td>          <td>33290</td>         <td>Log-Likelihood:</td>    <td>-19256.</td> \n",
       "</tr>\n",
       "<tr>\n",
       "       <td>Df Model:</td>               <td>12</td>              <td>LL-Null:</td>        <td>-23075.</td> \n",
       "</tr>\n",
       "<tr>\n",
       "     <td>Df Residuals:</td>            <td>33277</td>          <td>LLR p-value:</td>      <td>0.0000</td>  \n",
       "</tr>\n",
       "<tr>\n",
       "      <td>Converged:</td>             <td>1.0000</td>             <td>Scale:</td>         <td>1.0000</td>  \n",
       "</tr>\n",
       "</table>\n",
       "<table class=\"simpletable\">\n",
       "<tr>\n",
       "        <td></td>         <th>Coef.</th>  <th>Std.Err.</th>     <th>z</th>     <th>P>|z|</th> <th>[0.025</th>  <th>0.975]</th> \n",
       "</tr>\n",
       "<tr>\n",
       "  <th>const</th>         <td>-0.6123</td>  <td>0.0143</td>  <td>-42.9649</td> <td>0.0000</td> <td>-0.6403</td> <td>-0.5844</td>\n",
       "</tr>\n",
       "<tr>\n",
       "  <th>onset</th>         <td>0.3115</td>   <td>0.0157</td>   <td>19.8044</td> <td>0.0000</td> <td>0.2807</td>  <td>0.3424</td> \n",
       "</tr>\n",
       "<tr>\n",
       "  <th>cough_comb</th>    <td>0.4846</td>   <td>0.0205</td>   <td>23.6300</td> <td>0.0000</td> <td>0.4444</td>  <td>0.5248</td> \n",
       "</tr>\n",
       "<tr>\n",
       "  <th>fever</th>         <td>1.2882</td>   <td>0.0673</td>   <td>19.1442</td> <td>0.0000</td> <td>1.1563</td>  <td>1.4201</td> \n",
       "</tr>\n",
       "<tr>\n",
       "  <th>sob_comb</th>      <td>-0.2802</td>  <td>0.0273</td>  <td>-10.2601</td> <td>0.0000</td> <td>-0.3337</td> <td>-0.2267</td>\n",
       "</tr>\n",
       "<tr>\n",
       "  <th>diarrhea</th>      <td>-0.5043</td>  <td>0.0806</td>   <td>-6.2592</td> <td>0.0000</td> <td>-0.6623</td> <td>-0.3464</td>\n",
       "</tr>\n",
       "<tr>\n",
       "  <th>fatigue</th>       <td>-0.4101</td>  <td>0.0537</td>   <td>-7.6312</td> <td>0.0000</td> <td>-0.5154</td> <td>-0.3048</td>\n",
       "</tr>\n",
       "<tr>\n",
       "  <th>headache</th>      <td>0.5280</td>   <td>0.0508</td>   <td>10.4029</td> <td>0.0000</td> <td>0.4285</td>  <td>0.6274</td> \n",
       "</tr>\n",
       "<tr>\n",
       "  <th>loss_of_smell</th> <td>2.0843</td>   <td>0.1269</td>   <td>16.4267</td> <td>0.0000</td> <td>1.8356</td>  <td>2.3330</td> \n",
       "</tr>\n",
       "<tr>\n",
       "  <th>loss_of_taste</th> <td>1.3014</td>   <td>0.1193</td>   <td>10.9116</td> <td>0.0000</td> <td>1.0676</td>  <td>1.5351</td> \n",
       "</tr>\n",
       "<tr>\n",
       "  <th>runny_nose</th>    <td>0.0498</td>   <td>0.0596</td>   <td>0.8361</td>  <td>0.4031</td> <td>-0.0670</td> <td>0.1667</td> \n",
       "</tr>\n",
       "<tr>\n",
       "  <th>muscle_sore</th>   <td>0.8070</td>   <td>0.0597</td>   <td>13.5234</td> <td>0.0000</td> <td>0.6900</td>  <td>0.9240</td> \n",
       "</tr>\n",
       "<tr>\n",
       "  <th>sore_throat</th>   <td>-0.2574</td>  <td>0.0504</td>   <td>-5.1023</td> <td>0.0000</td> <td>-0.3562</td> <td>-0.1585</td>\n",
       "</tr>\n",
       "</table>"
      ],
      "text/plain": [
       "<class 'statsmodels.iolib.summary2.Summary'>\n",
       "\"\"\"\n",
       "                           Results: Logit\n",
       "=====================================================================\n",
       "Model:              Logit                Pseudo R-squared: 0.166     \n",
       "Dependent Variable: covid19_test_results AIC:              38537.6766\n",
       "Date:               2020-12-23 06:47     BIC:              38647.0457\n",
       "No. Observations:   33290                Log-Likelihood:   -19256.   \n",
       "Df Model:           12                   LL-Null:          -23075.   \n",
       "Df Residuals:       33277                LLR p-value:      0.0000    \n",
       "Converged:          1.0000               Scale:            1.0000    \n",
       "----------------------------------------------------------------------\n",
       "                  Coef.   Std.Err.     z      P>|z|    [0.025   0.975]\n",
       "----------------------------------------------------------------------\n",
       "const            -0.6123    0.0143  -42.9649  0.0000  -0.6403  -0.5844\n",
       "onset             0.3115    0.0157   19.8044  0.0000   0.2807   0.3424\n",
       "cough_comb        0.4846    0.0205   23.6300  0.0000   0.4444   0.5248\n",
       "fever             1.2882    0.0673   19.1442  0.0000   1.1563   1.4201\n",
       "sob_comb         -0.2802    0.0273  -10.2601  0.0000  -0.3337  -0.2267\n",
       "diarrhea         -0.5043    0.0806   -6.2592  0.0000  -0.6623  -0.3464\n",
       "fatigue          -0.4101    0.0537   -7.6312  0.0000  -0.5154  -0.3048\n",
       "headache          0.5280    0.0508   10.4029  0.0000   0.4285   0.6274\n",
       "loss_of_smell     2.0843    0.1269   16.4267  0.0000   1.8356   2.3330\n",
       "loss_of_taste     1.3014    0.1193   10.9116  0.0000   1.0676   1.5351\n",
       "runny_nose        0.0498    0.0596    0.8361  0.4031  -0.0670   0.1667\n",
       "muscle_sore       0.8070    0.0597   13.5234  0.0000   0.6900   0.9240\n",
       "sore_throat      -0.2574    0.0504   -5.1023  0.0000  -0.3562  -0.1585\n",
       "=====================================================================\n",
       "\n",
       "\"\"\""
      ]
     },
     "execution_count": 12,
     "metadata": {},
     "output_type": "execute_result"
    }
   ],
   "source": [
    "sm_logreg.summary2()"
   ]
  },
  {
   "cell_type": "markdown",
   "metadata": {},
   "source": [
    "Looking at the p-values for the betas (coefficients) of patient symptoms, all except for `runny_nose` are below our alpha of 0.01 and therefore are statistically meaningful at the 99% confidence level. These betas represent log-odds: we'll examine them further in a moment. \n",
    "\n",
    "Let's check our recall score on the training and testing data."
   ]
  },
  {
   "cell_type": "code",
   "execution_count": 13,
   "metadata": {},
   "outputs": [
    {
     "name": "stdout",
     "output_type": "stream",
     "text": [
      "Training Recall Score: 0.5248407643312102\n",
      "Testing Recall Score: 0.5353728489483748\n"
     ]
    }
   ],
   "source": [
    "# create predictions for training and testing data\n",
    "train_preds = (sm_logreg.predict(X_train) > 0.5).astype('int32')\n",
    "test_preds = (sm_logreg.predict(X_test) > 0.5).astype('int32')\n",
    "\n",
    "# recall scores\n",
    "print(f'Training Recall Score: {recall_score(y_train, train_preds)}')\n",
    "print(f'Testing Recall Score: {recall_score(y_test, test_preds)}')"
   ]
  },
  {
   "cell_type": "markdown",
   "metadata": {},
   "source": [
    "These are close to the model built in scikit-learn and vary slightly due to the variation slightly implementation differences between the two libraries.\n",
    "\n",
    "Let's plot a confusion matrix to visualize the differences between what our model predicted and the actual values. We'll follow that with a classification report. "
   ]
  },
  {
   "cell_type": "code",
   "execution_count": 14,
   "metadata": {},
   "outputs": [
    {
     "data": {
      "image/png": "[encoded data removed]",
      "text/plain": [
       "<Figure size 432x432 with 1 Axes>"
      ]
     },
     "metadata": {
      "needs_background": "light"
     },
     "output_type": "display_data"
    }
   ],
   "source": [
    "# confusion matrix graphed as an sns heatmap\n",
    "plt.figure(figsize=(6,6))\n",
    "sns.heatmap(confusion_matrix(y_test, test_preds), cmap='Reds', annot=True, fmt='g',\n",
    "            yticklabels=['Negative', 'Positive'], xticklabels=['Negative', 'Positive'], \n",
    "            cbar=False, annot_kws={\"size\": 12})\n",
    "plt.xlabel('Predicted', size=14)\n",
    "plt.xticks(size=12)\n",
    "plt.ylabel('Actual', size=14)\n",
    "plt.yticks(size=12)\n",
    "plt.title('Confusion Matrix for Patient Symptoms Logistic Regression', size = 16);"
   ]
  },
  {
   "cell_type": "code",
   "execution_count": 15,
   "metadata": {},
   "outputs": [
    {
     "name": "stdout",
     "output_type": "stream",
     "text": [
      "              precision    recall  f1-score   support\n",
      "\n",
      "           0       0.99      0.87      0.93     36991\n",
      "           1       0.06      0.54      0.10       523\n",
      "\n",
      "    accuracy                           0.87     37514\n",
      "   macro avg       0.52      0.70      0.51     37514\n",
      "weighted avg       0.98      0.87      0.92     37514\n",
      "\n"
     ]
    }
   ],
   "source": [
    "print(classification_report(y_test, test_preds))"
   ]
  },
  {
   "cell_type": "markdown",
   "metadata": {},
   "source": [
    "As we've seen previously, the oversampling/undersampling helped our model improve its recall score for the true positives in our testing data but only to ~54%. The confusion matrix  clearly shows the values behind our recall score with 243 False Negatives and 280 True Positives. The class imbalance is also very clear with the actual negative observation number in the top row greatly exceeding the actual positive observations in our bottom row.\n",
    "\n",
    "Let's take a look a the symptom feature betas for our model and how they can be interpreted."
   ]
  },
  {
   "cell_type": "code",
   "execution_count": 16,
   "metadata": {},
   "outputs": [
    {
     "data": {
      "text/html": [
       "<div>\n",
       "<style scoped>\n",
       "    .dataframe tbody tr th:only-of-type {\n",
       "        vertical-align: middle;\n",
       "    }\n",
       "\n",
       "    .dataframe tbody tr th {\n",
       "        vertical-align: top;\n",
       "    }\n",
       "\n",
       "    .dataframe thead th {\n",
       "        text-align: right;\n",
       "    }\n",
       "</style>\n",
       "<table border=\"1\" class=\"dataframe\">\n",
       "  <thead>\n",
       "    <tr style=\"text-align: right;\">\n",
       "      <th></th>\n",
       "      <th>betas</th>\n",
       "      <th>pvals</th>\n",
       "      <th>exp_betas</th>\n",
       "    </tr>\n",
       "  </thead>\n",
       "  <tbody>\n",
       "    <tr>\n",
       "      <th>loss_of_smell</th>\n",
       "      <td>2.084</td>\n",
       "      <td>0.0</td>\n",
       "      <td>8.037</td>\n",
       "    </tr>\n",
       "    <tr>\n",
       "      <th>loss_of_taste</th>\n",
       "      <td>1.301</td>\n",
       "      <td>0.0</td>\n",
       "      <td>3.673</td>\n",
       "    </tr>\n",
       "    <tr>\n",
       "      <th>fever</th>\n",
       "      <td>1.288</td>\n",
       "      <td>0.0</td>\n",
       "      <td>3.626</td>\n",
       "    </tr>\n",
       "    <tr>\n",
       "      <th>muscle_sore</th>\n",
       "      <td>0.807</td>\n",
       "      <td>0.0</td>\n",
       "      <td>2.241</td>\n",
       "    </tr>\n",
       "    <tr>\n",
       "      <th>headache</th>\n",
       "      <td>0.528</td>\n",
       "      <td>0.0</td>\n",
       "      <td>1.696</td>\n",
       "    </tr>\n",
       "    <tr>\n",
       "      <th>cough_comb</th>\n",
       "      <td>0.485</td>\n",
       "      <td>0.0</td>\n",
       "      <td>1.624</td>\n",
       "    </tr>\n",
       "    <tr>\n",
       "      <th>onset</th>\n",
       "      <td>0.312</td>\n",
       "      <td>0.0</td>\n",
       "      <td>1.366</td>\n",
       "    </tr>\n",
       "    <tr>\n",
       "      <th>sore_throat</th>\n",
       "      <td>-0.257</td>\n",
       "      <td>0.0</td>\n",
       "      <td>0.773</td>\n",
       "    </tr>\n",
       "    <tr>\n",
       "      <th>sob_comb</th>\n",
       "      <td>-0.280</td>\n",
       "      <td>0.0</td>\n",
       "      <td>0.756</td>\n",
       "    </tr>\n",
       "    <tr>\n",
       "      <th>fatigue</th>\n",
       "      <td>-0.410</td>\n",
       "      <td>0.0</td>\n",
       "      <td>0.664</td>\n",
       "    </tr>\n",
       "    <tr>\n",
       "      <th>diarrhea</th>\n",
       "      <td>-0.504</td>\n",
       "      <td>0.0</td>\n",
       "      <td>0.604</td>\n",
       "    </tr>\n",
       "  </tbody>\n",
       "</table>\n",
       "</div>"
      ],
      "text/plain": [
       "               betas  pvals  exp_betas\n",
       "loss_of_smell  2.084    0.0      8.037\n",
       "loss_of_taste  1.301    0.0      3.673\n",
       "fever          1.288    0.0      3.626\n",
       "muscle_sore    0.807    0.0      2.241\n",
       "headache       0.528    0.0      1.696\n",
       "cough_comb     0.485    0.0      1.624\n",
       "onset          0.312    0.0      1.366\n",
       "sore_throat   -0.257    0.0      0.773\n",
       "sob_comb      -0.280    0.0      0.756\n",
       "fatigue       -0.410    0.0      0.664\n",
       "diarrhea      -0.504    0.0      0.604"
      ]
     },
     "execution_count": 16,
     "metadata": {},
     "output_type": "execute_result"
    }
   ],
   "source": [
    "# dataframe to hold summary of betas, p-values, exponentiated betas -- index = feature names\n",
    "exp_patient_symptom_betas = pd.DataFrame(index=sm_logreg.params.index)\n",
    "\n",
    "# beta values from model\n",
    "exp_patient_symptom_betas['betas'] = round(sm_logreg.params, 3)\n",
    "\n",
    "# p-values from model\n",
    "exp_patient_symptom_betas['pvals'] = round(sm_logreg.pvalues, 3)\n",
    "\n",
    "# exponentiated of betas\n",
    "exp_patient_symptom_betas['exp_betas'] = round(np.exp(exp_patient_symptom_betas['betas']),3)\n",
    "\n",
    "# dropping the intercept\n",
    "exp_patient_symptom_betas.drop(index='const', axis=0, inplace=True)\n",
    "\n",
    "# showing only features with p-values < 0.01, sorted in descending order by exponentiated betas\n",
    "exp_patient_symptom_betas.loc[exp_patient_symptom_betas['pvals'] < 0.01, :].sort_values(by='exp_betas', ascending=False)"
   ]
  },
  {
   "cell_type": "markdown",
   "metadata": {},
   "source": [
    "The above dataframe shows all features with a p-value < 0.01 along with their betas (as log-odds) and their exponentiated values. Let's interpret the first three features:\n",
    "\n",
    "* If a patient reports the symptom loss of smell, the patient is 8.037 times as likely to test positive for COVID-19, all else being held constant. \n",
    "* If a patient reports the symptom loss of taste, the patient is 3.673 times as likely to test positive for COVID-19, all else being held constant. \n",
    "* If a patient reports the symptom fever, the patient is 3.626 times as likely to test positive for COVID-19, all else being held constant. \n",
    "\n",
    "Please note that the interpretations are based on a 1 unit increase in the feature. Most of these cases are binary, so simply reflect patient reporting whether or not they have the symptom. Some features were adjusted to ordinal values in cleaning (`cough_comb`, `onset`, and `sob_comb`), so please reference cleaning to accurately apply the 1 unit increase for these features."
   ]
  },
  {
   "cell_type": "markdown",
   "metadata": {},
   "source": [
    "---\n",
    "\n",
    "## Model B: Patient Symptoms and Clinically Collected Vitals"
   ]
  },
  {
   "cell_type": "markdown",
   "metadata": {},
   "source": [
    "We'll follow the same process as we did in the last section, and look at our cleaned dataset patients with both self-reported and  clinically collected vitals features."
   ]
  },
  {
   "cell_type": "markdown",
   "metadata": {},
   "source": [
    "### Load Data"
   ]
  },
  {
   "cell_type": "code",
   "execution_count": 17,
   "metadata": {},
   "outputs": [],
   "source": [
    "clinic_patient = pd.read_csv('../data/cleaned_data/clinical_patient_comb.csv')"
   ]
  },
  {
   "cell_type": "code",
   "execution_count": 18,
   "metadata": {},
   "outputs": [
    {
     "data": {
      "text/html": [
       "<div>\n",
       "<style scoped>\n",
       "    .dataframe tbody tr th:only-of-type {\n",
       "        vertical-align: middle;\n",
       "    }\n",
       "\n",
       "    .dataframe tbody tr th {\n",
       "        vertical-align: top;\n",
       "    }\n",
       "\n",
       "    .dataframe thead th {\n",
       "        text-align: right;\n",
       "    }\n",
       "</style>\n",
       "<table border=\"1\" class=\"dataframe\">\n",
       "  <thead>\n",
       "    <tr style=\"text-align: right;\">\n",
       "      <th></th>\n",
       "      <th>temperature</th>\n",
       "      <th>pulse</th>\n",
       "      <th>sys</th>\n",
       "      <th>dia</th>\n",
       "      <th>rr</th>\n",
       "      <th>sats</th>\n",
       "      <th>diarrhea</th>\n",
       "      <th>fatigue</th>\n",
       "      <th>headache</th>\n",
       "      <th>loss_of_smell</th>\n",
       "      <th>...</th>\n",
       "      <th>onset</th>\n",
       "      <th>ctab_False</th>\n",
       "      <th>ctab_True</th>\n",
       "      <th>labored_respiration_False</th>\n",
       "      <th>labored_respiration_True</th>\n",
       "      <th>rhonchi_False</th>\n",
       "      <th>rhonchi_True</th>\n",
       "      <th>wheezes_False</th>\n",
       "      <th>wheezes_True</th>\n",
       "      <th>covid19_test_results</th>\n",
       "    </tr>\n",
       "  </thead>\n",
       "  <tbody>\n",
       "    <tr>\n",
       "      <th>0</th>\n",
       "      <td>37.00</td>\n",
       "      <td>74.0</td>\n",
       "      <td>123.0</td>\n",
       "      <td>80.0</td>\n",
       "      <td>17.0</td>\n",
       "      <td>99.0</td>\n",
       "      <td>0</td>\n",
       "      <td>0</td>\n",
       "      <td>0</td>\n",
       "      <td>0</td>\n",
       "      <td>...</td>\n",
       "      <td>0</td>\n",
       "      <td>1</td>\n",
       "      <td>0</td>\n",
       "      <td>1</td>\n",
       "      <td>0</td>\n",
       "      <td>1</td>\n",
       "      <td>0</td>\n",
       "      <td>1</td>\n",
       "      <td>0</td>\n",
       "      <td>0</td>\n",
       "    </tr>\n",
       "    <tr>\n",
       "      <th>1</th>\n",
       "      <td>36.75</td>\n",
       "      <td>88.0</td>\n",
       "      <td>105.0</td>\n",
       "      <td>73.0</td>\n",
       "      <td>12.0</td>\n",
       "      <td>96.0</td>\n",
       "      <td>0</td>\n",
       "      <td>0</td>\n",
       "      <td>0</td>\n",
       "      <td>0</td>\n",
       "      <td>...</td>\n",
       "      <td>0</td>\n",
       "      <td>0</td>\n",
       "      <td>1</td>\n",
       "      <td>1</td>\n",
       "      <td>0</td>\n",
       "      <td>0</td>\n",
       "      <td>1</td>\n",
       "      <td>0</td>\n",
       "      <td>1</td>\n",
       "      <td>0</td>\n",
       "    </tr>\n",
       "    <tr>\n",
       "      <th>2</th>\n",
       "      <td>36.95</td>\n",
       "      <td>83.0</td>\n",
       "      <td>138.0</td>\n",
       "      <td>61.0</td>\n",
       "      <td>18.0</td>\n",
       "      <td>99.0</td>\n",
       "      <td>0</td>\n",
       "      <td>0</td>\n",
       "      <td>0</td>\n",
       "      <td>0</td>\n",
       "      <td>...</td>\n",
       "      <td>0</td>\n",
       "      <td>1</td>\n",
       "      <td>0</td>\n",
       "      <td>1</td>\n",
       "      <td>0</td>\n",
       "      <td>0</td>\n",
       "      <td>0</td>\n",
       "      <td>0</td>\n",
       "      <td>0</td>\n",
       "      <td>0</td>\n",
       "    </tr>\n",
       "    <tr>\n",
       "      <th>3</th>\n",
       "      <td>36.85</td>\n",
       "      <td>88.0</td>\n",
       "      <td>160.0</td>\n",
       "      <td>99.0</td>\n",
       "      <td>12.0</td>\n",
       "      <td>99.0</td>\n",
       "      <td>0</td>\n",
       "      <td>0</td>\n",
       "      <td>0</td>\n",
       "      <td>0</td>\n",
       "      <td>...</td>\n",
       "      <td>0</td>\n",
       "      <td>1</td>\n",
       "      <td>0</td>\n",
       "      <td>0</td>\n",
       "      <td>0</td>\n",
       "      <td>0</td>\n",
       "      <td>0</td>\n",
       "      <td>0</td>\n",
       "      <td>0</td>\n",
       "      <td>0</td>\n",
       "    </tr>\n",
       "    <tr>\n",
       "      <th>4</th>\n",
       "      <td>37.00</td>\n",
       "      <td>82.0</td>\n",
       "      <td>111.0</td>\n",
       "      <td>74.0</td>\n",
       "      <td>17.0</td>\n",
       "      <td>99.0</td>\n",
       "      <td>0</td>\n",
       "      <td>1</td>\n",
       "      <td>1</td>\n",
       "      <td>0</td>\n",
       "      <td>...</td>\n",
       "      <td>2</td>\n",
       "      <td>1</td>\n",
       "      <td>0</td>\n",
       "      <td>0</td>\n",
       "      <td>0</td>\n",
       "      <td>0</td>\n",
       "      <td>0</td>\n",
       "      <td>1</td>\n",
       "      <td>0</td>\n",
       "      <td>0</td>\n",
       "    </tr>\n",
       "  </tbody>\n",
       "</table>\n",
       "<p>5 rows × 26 columns</p>\n",
       "</div>"
      ],
      "text/plain": [
       "   temperature  pulse    sys   dia    rr  sats  diarrhea  fatigue  headache  \\\n",
       "0        37.00   74.0  123.0  80.0  17.0  99.0         0        0         0   \n",
       "1        36.75   88.0  105.0  73.0  12.0  96.0         0        0         0   \n",
       "2        36.95   83.0  138.0  61.0  18.0  99.0         0        0         0   \n",
       "3        36.85   88.0  160.0  99.0  12.0  99.0         0        0         0   \n",
       "4        37.00   82.0  111.0  74.0  17.0  99.0         0        1         1   \n",
       "\n",
       "   loss_of_smell  ...  onset  ctab_False  ctab_True  \\\n",
       "0              0  ...      0           1          0   \n",
       "1              0  ...      0           0          1   \n",
       "2              0  ...      0           1          0   \n",
       "3              0  ...      0           1          0   \n",
       "4              0  ...      2           1          0   \n",
       "\n",
       "   labored_respiration_False  labored_respiration_True  rhonchi_False  \\\n",
       "0                          1                         0              1   \n",
       "1                          1                         0              0   \n",
       "2                          1                         0              0   \n",
       "3                          0                         0              0   \n",
       "4                          0                         0              0   \n",
       "\n",
       "   rhonchi_True  wheezes_False  wheezes_True  covid19_test_results  \n",
       "0             0              1             0                     0  \n",
       "1             1              0             1                     0  \n",
       "2             0              0             0                     0  \n",
       "3             0              0             0                     0  \n",
       "4             0              1             0                     0  \n",
       "\n",
       "[5 rows x 26 columns]"
      ]
     },
     "execution_count": 18,
     "metadata": {},
     "output_type": "execute_result"
    }
   ],
   "source": [
    "clinic_patient.head()"
   ]
  },
  {
   "cell_type": "code",
   "execution_count": 19,
   "metadata": {},
   "outputs": [
    {
     "data": {
      "text/plain": [
       "(39916, 26)"
      ]
     },
     "execution_count": 19,
     "metadata": {},
     "output_type": "execute_result"
    }
   ],
   "source": [
    "clinic_patient.shape"
   ]
  },
  {
   "cell_type": "markdown",
   "metadata": {},
   "source": [
    "Data pulled in successfully. The cleaned data is less than half the size of our previous dataset with only patient reported symptoms.\n",
    "\n",
    "Let's set up X and y and get a baseline for how our unbalanced classes look in this data set."
   ]
  },
  {
   "cell_type": "code",
   "execution_count": 20,
   "metadata": {},
   "outputs": [],
   "source": [
    "# set up X and y\n",
    "X2 = clinic_patient.drop(columns='covid19_test_results')\n",
    "y2 = clinic_patient['covid19_test_results']"
   ]
  },
  {
   "cell_type": "code",
   "execution_count": 21,
   "metadata": {},
   "outputs": [
    {
     "data": {
      "text/plain": [
       "0    0.976501\n",
       "1    0.023499\n",
       "Name: covid19_test_results, dtype: float64"
      ]
     },
     "execution_count": 21,
     "metadata": {},
     "output_type": "execute_result"
    }
   ],
   "source": [
    "# baseline\n",
    "y2.value_counts(normalize=True)"
   ]
  },
  {
   "cell_type": "markdown",
   "metadata": {},
   "source": [
    "The extreme imbalance between the two classes is apparent in this dataset.\n",
    "\n",
    "Let's train/test/split our data and run it through our gridsearch along with over/undersampling."
   ]
  },
  {
   "cell_type": "code",
   "execution_count": 22,
   "metadata": {},
   "outputs": [],
   "source": [
    "# train / test / split\n",
    "X2_train, X2_test, y2_train, y2_test = train_test_split(X2, y2, random_state=42, test_size=0.4, stratify=y2)"
   ]
  },
  {
   "cell_type": "code",
   "execution_count": 23,
   "metadata": {},
   "outputs": [
    {
     "name": "stdout",
     "output_type": "stream",
     "text": [
      "Best params: {'logreg__penalty': 'none', 'logreg__solver': 'newton-cg', 'over__sampling_strategy': 0.5, 'under__sampling_strategy': 1.0}\n",
      "Best score (recall): 0.5837928153717628\n",
      "Train accuracy score: 0.7845421520731555\n",
      "Test accuracy score: 0.7918832592221456\n",
      "Train recall score: 0.5950266429840142\n",
      "Test recall score: 0.552\n"
     ]
    }
   ],
   "source": [
    "np.random.seed(42)\n",
    "\n",
    "pipe = Pipeline([\n",
    "    ('over', RandomOverSampler()), # random sampling with replacement of the minority class\n",
    "    ('under', RandomUnderSampler()), # random sampling of majority class to match ratio\n",
    "    ('logreg', LogisticRegression())\n",
    "])\n",
    "\n",
    "\n",
    "\"\"\"Please note: other parameters were searched, but some resulted in convergence errors.\n",
    "For the purpose of this notebook, I have simplified the grid search parameters\"\"\"\n",
    "# parameters to grid search over for the steps in our pipeline\n",
    "pipe_params = {\n",
    "    'logreg__penalty': ['none'], # no regularization will be applied\n",
    "    'logreg__solver': ['newton-cg'],\n",
    "    'over__sampling_strategy': [0.2, 0.5], # values are the ratio of minority class / majority class\n",
    "    'under__sampling_strategy': [1.0] # values are the ratio of minority class / majority class\n",
    "}\n",
    "\n",
    "# stratified cross-validation with 10 folds repeated 3 times\n",
    "cv = RepeatedStratifiedKFold(n_splits=10, n_repeats=3, random_state = 42)\n",
    "\n",
    "# grid search optimizing for recall score\n",
    "gs = GridSearchCV(estimator=pipe, param_grid=pipe_params, scoring='recall', cv=cv)\n",
    "\n",
    "# fitting the model\n",
    "gs.fit(X2_train, y2_train)\n",
    "\n",
    "# output params and scores of best model\n",
    "print(f'Best params: {gs.best_params_}')\n",
    "print(f'Best score (recall): {gs.best_score_}')\n",
    "print(f'Train accuracy score: {accuracy_score(y2_train, gs.predict(X2_train))}')\n",
    "print(f'Test accuracy score: {accuracy_score(y2_test, gs.predict(X2_test))}')\n",
    "print(f'Train recall score: {gs.score(X2_train, y2_train)}')\n",
    "print(f'Test recall score: {gs.score(X2_test, y2_test)}')"
   ]
  },
  {
   "cell_type": "markdown",
   "metadata": {},
   "source": [
    "We have a slightly better recall score with this new dataset, but our accuracy has dropped.\n",
    "\n",
    "Let's fit our statsmodels logistic regression with the results from our grid search. The same caveats hold true from our earlier look at over/undersampling."
   ]
  },
  {
   "cell_type": "code",
   "execution_count": 24,
   "metadata": {},
   "outputs": [
    {
     "name": "stdout",
     "output_type": "stream",
     "text": [
      "Optimization terminated successfully.\n",
      "         Current function value: 0.622896\n",
      "         Iterations: 4\n",
      "         Function evaluations: 5\n",
      "         Gradient evaluations: 5\n",
      "         Hessian evaluations: 4\n"
     ]
    }
   ],
   "source": [
    "np.random.seed(42)\n",
    "\n",
    "# set oversampling strategy\n",
    "over2 = RandomOverSampler(sampling_strategy=0.5)\n",
    "X2_resamp, y2_resamp = over.fit_resample(X2_train, y2_train)\n",
    "\n",
    "# set undersampling strategy\n",
    "under2 = RandomUnderSampler(sampling_strategy=1.0)\n",
    "X2_resamp, y2_resamp = under.fit_resample(X2_resamp, y2_resamp)\n",
    "\n",
    "# adding required constant in training and test data\n",
    "X2_resamp = sm.add_constant(X2_resamp)\n",
    "X2_train = sm.add_constant(X2_train)\n",
    "X2_test = sm.add_constant(X2_test)\n",
    "\n",
    "# instantiate and fit model\n",
    "sm_logreg2 = sm.Logit(y2_resamp, X2_resamp).fit(method='ncg')"
   ]
  },
  {
   "cell_type": "code",
   "execution_count": 25,
   "metadata": {},
   "outputs": [
    {
     "data": {
      "text/html": [
       "<table class=\"simpletable\">\n",
       "<tr>\n",
       "        <td>Model:</td>                <td>Logit</td>        <td>Pseudo R-squared:</td>    <td>0.101</td>  \n",
       "</tr>\n",
       "<tr>\n",
       "  <td>Dependent Variable:</td> <td>covid19_test_results</td>       <td>AIC:</td>        <td>17530.4669</td>\n",
       "</tr>\n",
       "<tr>\n",
       "         <td>Date:</td>          <td>2020-12-23 06:47</td>         <td>BIC:</td>        <td>17726.7396</td>\n",
       "</tr>\n",
       "<tr>\n",
       "   <td>No. Observations:</td>          <td>14030</td>         <td>Log-Likelihood:</td>    <td>-8739.2</td> \n",
       "</tr>\n",
       "<tr>\n",
       "       <td>Df Model:</td>               <td>25</td>              <td>LL-Null:</td>        <td>-9724.9</td> \n",
       "</tr>\n",
       "<tr>\n",
       "     <td>Df Residuals:</td>            <td>14004</td>          <td>LLR p-value:</td>      <td>0.0000</td>  \n",
       "</tr>\n",
       "<tr>\n",
       "      <td>Converged:</td>             <td>1.0000</td>             <td>Scale:</td>         <td>1.0000</td>  \n",
       "</tr>\n",
       "</table>\n",
       "<table class=\"simpletable\">\n",
       "<tr>\n",
       "              <td></td>               <th>Coef.</th>  <th>Std.Err.</th>    <th>z</th>     <th>P>|z|</th> <th>[0.025</th>  <th>0.975]</th> \n",
       "</tr>\n",
       "<tr>\n",
       "  <th>const</th>                     <td>-0.0011</td>  <td>2.5771</td>  <td>-0.0004</td> <td>0.9997</td> <td>-5.0521</td> <td>5.0499</td> \n",
       "</tr>\n",
       "<tr>\n",
       "  <th>temperature</th>               <td>0.0212</td>   <td>0.0591</td>  <td>0.3593</td>  <td>0.7194</td> <td>-0.0945</td> <td>0.1370</td> \n",
       "</tr>\n",
       "<tr>\n",
       "  <th>pulse</th>                     <td>0.0185</td>   <td>0.0015</td>  <td>12.6231</td> <td>0.0000</td> <td>0.0156</td>  <td>0.0214</td> \n",
       "</tr>\n",
       "<tr>\n",
       "  <th>sys</th>                       <td>0.0065</td>   <td>0.0018</td>  <td>3.7145</td>  <td>0.0002</td> <td>0.0031</td>  <td>0.0100</td> \n",
       "</tr>\n",
       "<tr>\n",
       "  <th>dia</th>                       <td>0.0061</td>   <td>0.0030</td>  <td>2.0517</td>  <td>0.0402</td> <td>0.0003</td>  <td>0.0120</td> \n",
       "</tr>\n",
       "<tr>\n",
       "  <th>rr</th>                        <td>0.1079</td>   <td>0.0096</td>  <td>11.2152</td> <td>0.0000</td> <td>0.0890</td>  <td>0.1267</td> \n",
       "</tr>\n",
       "<tr>\n",
       "  <th>sats</th>                      <td>-0.0572</td>  <td>0.0136</td>  <td>-4.1877</td> <td>0.0000</td> <td>-0.0839</td> <td>-0.0304</td>\n",
       "</tr>\n",
       "<tr>\n",
       "  <th>diarrhea</th>                  <td>0.0125</td>   <td>0.1026</td>  <td>0.1215</td>  <td>0.9033</td> <td>-0.1886</td> <td>0.2135</td> \n",
       "</tr>\n",
       "<tr>\n",
       "  <th>fatigue</th>                   <td>0.0236</td>   <td>0.0692</td>  <td>0.3415</td>  <td>0.7327</td> <td>-0.1120</td> <td>0.1593</td> \n",
       "</tr>\n",
       "<tr>\n",
       "  <th>headache</th>                  <td>0.0810</td>   <td>0.0653</td>  <td>1.2408</td>  <td>0.2147</td> <td>-0.0469</td> <td>0.2089</td> \n",
       "</tr>\n",
       "<tr>\n",
       "  <th>loss_of_smell</th>             <td>0.0622</td>   <td>0.1104</td>  <td>0.5635</td>  <td>0.5731</td> <td>-0.1542</td> <td>0.2787</td> \n",
       "</tr>\n",
       "<tr>\n",
       "  <th>loss_of_taste</th>             <td>0.0563</td>   <td>0.1130</td>  <td>0.4980</td>  <td>0.6185</td> <td>-0.1652</td> <td>0.2778</td> \n",
       "</tr>\n",
       "<tr>\n",
       "  <th>runny_nose</th>                <td>0.0238</td>   <td>0.0733</td>  <td>0.3242</td>  <td>0.7458</td> <td>-0.1200</td> <td>0.1675</td> \n",
       "</tr>\n",
       "<tr>\n",
       "  <th>muscle_sore</th>               <td>0.0704</td>   <td>0.0713</td>  <td>0.9880</td>  <td>0.3231</td> <td>-0.0693</td> <td>0.2101</td> \n",
       "</tr>\n",
       "<tr>\n",
       "  <th>sore_throat</th>               <td>0.0512</td>   <td>0.0607</td>  <td>0.8436</td>  <td>0.3989</td> <td>-0.0678</td> <td>0.1702</td> \n",
       "</tr>\n",
       "<tr>\n",
       "  <th>cough_comb</th>                <td>0.2720</td>   <td>0.0241</td>  <td>11.2657</td> <td>0.0000</td> <td>0.2247</td>  <td>0.3194</td> \n",
       "</tr>\n",
       "<tr>\n",
       "  <th>sob_comb</th>                  <td>0.0082</td>   <td>0.0356</td>  <td>0.2305</td>  <td>0.8177</td> <td>-0.0616</td> <td>0.0780</td> \n",
       "</tr>\n",
       "<tr>\n",
       "  <th>onset</th>                     <td>0.3238</td>   <td>0.0203</td>  <td>15.9729</td> <td>0.0000</td> <td>0.2841</td>  <td>0.3636</td> \n",
       "</tr>\n",
       "<tr>\n",
       "  <th>ctab_False</th>                <td>0.0569</td>   <td>0.0625</td>  <td>0.9107</td>  <td>0.3624</td> <td>-0.0656</td> <td>0.1794</td> \n",
       "</tr>\n",
       "<tr>\n",
       "  <th>ctab_True</th>                 <td>-0.0295</td>  <td>0.0804</td>  <td>-0.3670</td> <td>0.7136</td> <td>-0.1871</td> <td>0.1281</td> \n",
       "</tr>\n",
       "<tr>\n",
       "  <th>labored_respiration_False</th> <td>-0.0231</td>  <td>0.0761</td>  <td>-0.3034</td> <td>0.7616</td> <td>-0.1723</td> <td>0.1261</td> \n",
       "</tr>\n",
       "<tr>\n",
       "  <th>labored_respiration_True</th>  <td>0.0035</td>   <td>0.3216</td>  <td>0.0109</td>  <td>0.9913</td> <td>-0.6268</td> <td>0.6338</td> \n",
       "</tr>\n",
       "<tr>\n",
       "  <th>rhonchi_False</th>             <td>0.0447</td>   <td>0.1084</td>  <td>0.4123</td>  <td>0.6801</td> <td>-0.1677</td> <td>0.2571</td> \n",
       "</tr>\n",
       "<tr>\n",
       "  <th>rhonchi_True</th>              <td>-0.0408</td>  <td>0.0934</td>  <td>-0.4370</td> <td>0.6621</td> <td>-0.2240</td> <td>0.1423</td> \n",
       "</tr>\n",
       "<tr>\n",
       "  <th>wheezes_False</th>             <td>0.0496</td>   <td>0.1060</td>  <td>0.4675</td>  <td>0.6402</td> <td>-0.1582</td> <td>0.2574</td> \n",
       "</tr>\n",
       "<tr>\n",
       "  <th>wheezes_True</th>              <td>-0.0510</td>  <td>0.1027</td>  <td>-0.4960</td> <td>0.6199</td> <td>-0.2523</td> <td>0.1504</td> \n",
       "</tr>\n",
       "</table>"
      ],
      "text/plain": [
       "<class 'statsmodels.iolib.summary2.Summary'>\n",
       "\"\"\"\n",
       "                             Results: Logit\n",
       "=========================================================================\n",
       "Model:                Logit                 Pseudo R-squared:  0.101     \n",
       "Dependent Variable:   covid19_test_results  AIC:               17530.4669\n",
       "Date:                 2020-12-23 06:47      BIC:               17726.7396\n",
       "No. Observations:     14030                 Log-Likelihood:    -8739.2   \n",
       "Df Model:             25                    LL-Null:           -9724.9   \n",
       "Df Residuals:         14004                 LLR p-value:       0.0000    \n",
       "Converged:            1.0000                Scale:             1.0000    \n",
       "-------------------------------------------------------------------------\n",
       "                           Coef.  Std.Err.    z    P>|z|   [0.025  0.975]\n",
       "-------------------------------------------------------------------------\n",
       "const                     -0.0011   2.5771 -0.0004 0.9997 -5.0521  5.0499\n",
       "temperature                0.0212   0.0591  0.3593 0.7194 -0.0945  0.1370\n",
       "pulse                      0.0185   0.0015 12.6231 0.0000  0.0156  0.0214\n",
       "sys                        0.0065   0.0018  3.7145 0.0002  0.0031  0.0100\n",
       "dia                        0.0061   0.0030  2.0517 0.0402  0.0003  0.0120\n",
       "rr                         0.1079   0.0096 11.2152 0.0000  0.0890  0.1267\n",
       "sats                      -0.0572   0.0136 -4.1877 0.0000 -0.0839 -0.0304\n",
       "diarrhea                   0.0125   0.1026  0.1215 0.9033 -0.1886  0.2135\n",
       "fatigue                    0.0236   0.0692  0.3415 0.7327 -0.1120  0.1593\n",
       "headache                   0.0810   0.0653  1.2408 0.2147 -0.0469  0.2089\n",
       "loss_of_smell              0.0622   0.1104  0.5635 0.5731 -0.1542  0.2787\n",
       "loss_of_taste              0.0563   0.1130  0.4980 0.6185 -0.1652  0.2778\n",
       "runny_nose                 0.0238   0.0733  0.3242 0.7458 -0.1200  0.1675\n",
       "muscle_sore                0.0704   0.0713  0.9880 0.3231 -0.0693  0.2101\n",
       "sore_throat                0.0512   0.0607  0.8436 0.3989 -0.0678  0.1702\n",
       "cough_comb                 0.2720   0.0241 11.2657 0.0000  0.2247  0.3194\n",
       "sob_comb                   0.0082   0.0356  0.2305 0.8177 -0.0616  0.0780\n",
       "onset                      0.3238   0.0203 15.9729 0.0000  0.2841  0.3636\n",
       "ctab_False                 0.0569   0.0625  0.9107 0.3624 -0.0656  0.1794\n",
       "ctab_True                 -0.0295   0.0804 -0.3670 0.7136 -0.1871  0.1281\n",
       "labored_respiration_False -0.0231   0.0761 -0.3034 0.7616 -0.1723  0.1261\n",
       "labored_respiration_True   0.0035   0.3216  0.0109 0.9913 -0.6268  0.6338\n",
       "rhonchi_False              0.0447   0.1084  0.4123 0.6801 -0.1677  0.2571\n",
       "rhonchi_True              -0.0408   0.0934 -0.4370 0.6621 -0.2240  0.1423\n",
       "wheezes_False              0.0496   0.1060  0.4675 0.6402 -0.1582  0.2574\n",
       "wheezes_True              -0.0510   0.1027 -0.4960 0.6199 -0.2523  0.1504\n",
       "=========================================================================\n",
       "\n",
       "\"\"\""
      ]
     },
     "execution_count": 25,
     "metadata": {},
     "output_type": "execute_result"
    }
   ],
   "source": [
    "sm_logreg2.summary2()"
   ]
  },
  {
   "cell_type": "markdown",
   "metadata": {},
   "source": [
    "Looking at the p-values for the betas (coefficients) of combined patient symptoms and clinical features, there are six features with values are below our alpha of 0.01 and therefore are statistically meaningful at the 99% confidence level. We'll take a look at them in a moment.\n",
    "\n",
    "Let's check our recall score on the training and testing data."
   ]
  },
  {
   "cell_type": "code",
   "execution_count": 26,
   "metadata": {},
   "outputs": [
    {
     "name": "stdout",
     "output_type": "stream",
     "text": [
      "Training Recall Score: 0.6127886323268206\n",
      "Testing Recall Score: 0.5893333333333334\n"
     ]
    }
   ],
   "source": [
    "# create predictions for training and testing data\n",
    "train_preds2 = (sm_logreg2.predict(X2_train) > 0.5).astype('int32')\n",
    "test_preds2 = (sm_logreg2.predict(X2_test) > 0.5).astype('int32')\n",
    "\n",
    "# recall scores\n",
    "print(f'Training Recall Score: {recall_score(y2_train, train_preds2)}')\n",
    "print(f'Testing Recall Score: {recall_score(y2_test, test_preds2)}')"
   ]
  },
  {
   "cell_type": "markdown",
   "metadata": {},
   "source": [
    "The recall scores are higher the model in our grid search. Although the same random seed was set for the instance, variations in how the data was processed by the two different versions of this model are possible.\n",
    "\n",
    "Let's plot a confusion matrix to visualize the differences between what our model predicted and the actual values. We'll follow that with a classification report. "
   ]
  },
  {
   "cell_type": "code",
   "execution_count": 27,
   "metadata": {},
   "outputs": [
    {
     "data": {
      "image/png": "[encoded data removed]",
      "text/plain": [
       "<Figure size 432x432 with 1 Axes>"
      ]
     },
     "metadata": {
      "needs_background": "light"
     },
     "output_type": "display_data"
    }
   ],
   "source": [
    "# confusion matrix graphed as an sns heatmap\n",
    "plt.figure(figsize=(6,6))\n",
    "sns.heatmap(confusion_matrix(y2_test, test_preds2), cmap='PuRd', annot=True, fmt='g',\n",
    "            yticklabels=['Negative', 'Positive'], xticklabels=['Negative', 'Positive'], \n",
    "            cbar=False, annot_kws={\"size\": 12})\n",
    "plt.xlabel('Predicted', size=14)\n",
    "plt.xticks(size=12)\n",
    "plt.ylabel('Actual', size=14)\n",
    "plt.yticks(size=12)\n",
    "plt.title('Confusion Matrix for Patient/Clinic Logistic Regression', size = 16);"
   ]
  },
  {
   "cell_type": "code",
   "execution_count": 28,
   "metadata": {},
   "outputs": [
    {
     "name": "stdout",
     "output_type": "stream",
     "text": [
      "              precision    recall  f1-score   support\n",
      "\n",
      "           0       0.99      0.73      0.84     15592\n",
      "           1       0.05      0.59      0.09       375\n",
      "\n",
      "    accuracy                           0.73     15967\n",
      "   macro avg       0.52      0.66      0.47     15967\n",
      "weighted avg       0.96      0.73      0.82     15967\n",
      "\n"
     ]
    }
   ],
   "source": [
    "print(classification_report(y2_test, test_preds2))"
   ]
  },
  {
   "cell_type": "markdown",
   "metadata": {},
   "source": [
    "As we observed in the first dataset, oversampling/undersampling can help our model improve its recall score for the true positives on unseen test data. With these added features our recall is 59% (several percentage points than for just the patient reported symptoms alone).\n",
    "\n",
    "The confusion matrix clearly shows the values behind our recall score with 151 False Negatives and 221 True Positives. The class imbalance is also very clear in this dataset with the actual negative observation numbers in the top row greatly exceeding the actual positive observations in our bottom row.\n",
    "\n",
    "Let's take a look a the feature betas for our model and how they can be interpreted."
   ]
  },
  {
   "cell_type": "code",
   "execution_count": 29,
   "metadata": {},
   "outputs": [
    {
     "data": {
      "text/html": [
       "<div>\n",
       "<style scoped>\n",
       "    .dataframe tbody tr th:only-of-type {\n",
       "        vertical-align: middle;\n",
       "    }\n",
       "\n",
       "    .dataframe tbody tr th {\n",
       "        vertical-align: top;\n",
       "    }\n",
       "\n",
       "    .dataframe thead th {\n",
       "        text-align: right;\n",
       "    }\n",
       "</style>\n",
       "<table border=\"1\" class=\"dataframe\">\n",
       "  <thead>\n",
       "    <tr style=\"text-align: right;\">\n",
       "      <th></th>\n",
       "      <th>betas</th>\n",
       "      <th>pvals</th>\n",
       "      <th>exp_betas</th>\n",
       "    </tr>\n",
       "  </thead>\n",
       "  <tbody>\n",
       "    <tr>\n",
       "      <th>onset</th>\n",
       "      <td>0.324</td>\n",
       "      <td>0.0</td>\n",
       "      <td>1.383</td>\n",
       "    </tr>\n",
       "    <tr>\n",
       "      <th>cough_comb</th>\n",
       "      <td>0.272</td>\n",
       "      <td>0.0</td>\n",
       "      <td>1.313</td>\n",
       "    </tr>\n",
       "    <tr>\n",
       "      <th>rr</th>\n",
       "      <td>0.108</td>\n",
       "      <td>0.0</td>\n",
       "      <td>1.114</td>\n",
       "    </tr>\n",
       "    <tr>\n",
       "      <th>pulse</th>\n",
       "      <td>0.019</td>\n",
       "      <td>0.0</td>\n",
       "      <td>1.019</td>\n",
       "    </tr>\n",
       "    <tr>\n",
       "      <th>sys</th>\n",
       "      <td>0.007</td>\n",
       "      <td>0.0</td>\n",
       "      <td>1.007</td>\n",
       "    </tr>\n",
       "    <tr>\n",
       "      <th>sats</th>\n",
       "      <td>-0.057</td>\n",
       "      <td>0.0</td>\n",
       "      <td>0.945</td>\n",
       "    </tr>\n",
       "  </tbody>\n",
       "</table>\n",
       "</div>"
      ],
      "text/plain": [
       "            betas  pvals  exp_betas\n",
       "onset       0.324    0.0      1.383\n",
       "cough_comb  0.272    0.0      1.313\n",
       "rr          0.108    0.0      1.114\n",
       "pulse       0.019    0.0      1.019\n",
       "sys         0.007    0.0      1.007\n",
       "sats       -0.057    0.0      0.945"
      ]
     },
     "execution_count": 29,
     "metadata": {},
     "output_type": "execute_result"
    }
   ],
   "source": [
    "exp_pat_cl_betas = pd.DataFrame(index=sm_logreg2.params.index)\n",
    "exp_pat_cl_betas['betas'] = round(sm_logreg2.params, 3)\n",
    "exp_pat_cl_betas['pvals'] = round(sm_logreg2.pvalues, 3)\n",
    "exp_pat_cl_betas['exp_betas'] = round(np.exp(exp_pat_cl_betas['betas']),3)\n",
    "exp_pat_cl_betas.drop(index='const', axis=0, inplace=True)\n",
    "\n",
    "exp_pat_cl_betas.loc[exp_pat_cl_betas['pvals'] < 0.01, :].sort_values(by='exp_betas', ascending=False)"
   ]
  },
  {
   "cell_type": "markdown",
   "metadata": {},
   "source": [
    "The above dataframe shows all features with a p-value < 0.01 along with their betas (as log-odds) and their exponentiated values. The two features from our previous dataset, `onset` and `cough_comb` now are at the top of our list with the remaining four feature being clinical vital measurements. We didn't regularize or standardize our data, and the some of the scales (particularly with the large number of outliers for vital signs) may not give us the best results. We will need to examine that further.\n",
    "\n",
    "Let's interpret the first three features:\n",
    "\n",
    "* For every 1-unit increase in the onset measurement, the patient is 1.383 times as likely to test positive for COVID-19, all else being held constant. \n",
    "* For every 1-unit increase in cough rating, the patient is 1.313 times as likely to test positive for COVID-19, all else being held constant. \n",
    "* For every additional breath per minute in respiratory rate, the patient is 1.114 times as likely to test positive for COVID-19, all else being held constant. \n",
    "\n",
    "Please note that the interpretations are based on a 1 unit increase in the feature. When the cases are binary, the change simply reflects a patient reporting whether or not they have the symptom. Other features are continuous or ordinal values (`cough_comb`, `onset`, and `sob_comb`), so please reference the data dictionary and cleaning notebook to accurately apply the 1 unit increase for these features."
   ]
  },
  {
   "cell_type": "markdown",
   "metadata": {},
   "source": [
    "## Recommendations and Next Steps"
   ]
  },
  {
   "cell_type": "markdown",
   "metadata": {},
   "source": [
    "In summary, we were able to offset the imbalanced classes by utilizing over/undersampling techniques only to a point, especially when optimizing for the true positive rate. However, the models that were fit do provide some insight into the influence of symptom features in relation to a patient testing positive on a COVID-19 test.\n",
    "\n",
    "**Recommendations:**\n",
    "* Utilize the odds for each feature to weight questionnaire responses when computing testing priority recommendations for the patient and clinic resource management\n",
    "    * Update and assess weights weekly based on new testing data to revise as needed\n",
    "* Share the results with frontline staff\n",
    "    * Does this match what they are seeing? Are there other things you should be looking for? \n",
    "* Check on the data integrity practices surrounding feature measurements of your clinical data\n",
    "    * A lot of potential outlier data\n",
    "\n",
    "**Next steps:**\n",
    "* Gather more data\n",
    "    * Any way to pool with other clinics?\n",
    "    * Access to more positive test results\n",
    "* Test alternative over/undersampling methodologies\n",
    "* Clarity from Carbon Health on clinically collected data for further cleaning and correction\n",
    "* Dashboard with updated symptom metrics updated with new data as it is available"
   ]
  }
 ],
 "metadata": {
  "kernelspec": {
   "display_name": "Python 3",
   "language": "python",
   "name": "python3"
  },
  "language_info": {
   "codemirror_mode": {
    "name": "ipython",
    "version": 3
   },
   "file_extension": ".py",
   "mimetype": "text/x-python",
   "name": "python",
   "nbconvert_exporter": "python",
   "pygments_lexer": "ipython3",
   "version": "3.8.5"
  }
 },
 "nbformat": 4,
 "nbformat_minor": 4
}
